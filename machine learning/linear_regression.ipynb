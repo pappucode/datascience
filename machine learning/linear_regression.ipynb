{
 "cells": [
  {
   "cell_type": "markdown",
   "id": "f1dd64ad",
   "metadata": {},
   "source": [
    "### Linear Regression"
   ]
  },
  {
   "cell_type": "code",
   "execution_count": 1,
   "id": "a14f27c6",
   "metadata": {},
   "outputs": [
    {
     "data": {
      "text/html": [
       "<div>\n",
       "<style scoped>\n",
       "    .dataframe tbody tr th:only-of-type {\n",
       "        vertical-align: middle;\n",
       "    }\n",
       "\n",
       "    .dataframe tbody tr th {\n",
       "        vertical-align: top;\n",
       "    }\n",
       "\n",
       "    .dataframe thead th {\n",
       "        text-align: right;\n",
       "    }\n",
       "</style>\n",
       "<table border=\"1\" class=\"dataframe\">\n",
       "  <thead>\n",
       "    <tr style=\"text-align: right;\">\n",
       "      <th></th>\n",
       "      <th>MODELYEAR</th>\n",
       "      <th>MAKE</th>\n",
       "      <th>MODEL</th>\n",
       "      <th>VEHICLECLASS</th>\n",
       "      <th>ENGINESIZE</th>\n",
       "      <th>CYLINDERS</th>\n",
       "      <th>TRANSMISSION</th>\n",
       "      <th>FUELTYPE</th>\n",
       "      <th>FUELCONSUMPTION_CITY</th>\n",
       "      <th>FUELCONSUMPTION_HWY</th>\n",
       "      <th>FUELCONSUMPTION_COMB</th>\n",
       "      <th>FUELCONSUMPTION_COMB_MPG</th>\n",
       "      <th>CO2EMISSIONS</th>\n",
       "    </tr>\n",
       "  </thead>\n",
       "  <tbody>\n",
       "    <tr>\n",
       "      <th>0</th>\n",
       "      <td>2014</td>\n",
       "      <td>ACURA</td>\n",
       "      <td>ILX</td>\n",
       "      <td>COMPACT</td>\n",
       "      <td>2.0</td>\n",
       "      <td>4</td>\n",
       "      <td>AS5</td>\n",
       "      <td>Z</td>\n",
       "      <td>9.9</td>\n",
       "      <td>6.7</td>\n",
       "      <td>8.5</td>\n",
       "      <td>33</td>\n",
       "      <td>196</td>\n",
       "    </tr>\n",
       "    <tr>\n",
       "      <th>1</th>\n",
       "      <td>2014</td>\n",
       "      <td>ACURA</td>\n",
       "      <td>ILX</td>\n",
       "      <td>COMPACT</td>\n",
       "      <td>2.4</td>\n",
       "      <td>4</td>\n",
       "      <td>M6</td>\n",
       "      <td>Z</td>\n",
       "      <td>11.2</td>\n",
       "      <td>7.7</td>\n",
       "      <td>9.6</td>\n",
       "      <td>29</td>\n",
       "      <td>221</td>\n",
       "    </tr>\n",
       "    <tr>\n",
       "      <th>2</th>\n",
       "      <td>2014</td>\n",
       "      <td>ACURA</td>\n",
       "      <td>ILX HYBRID</td>\n",
       "      <td>COMPACT</td>\n",
       "      <td>1.5</td>\n",
       "      <td>4</td>\n",
       "      <td>AV7</td>\n",
       "      <td>Z</td>\n",
       "      <td>6.0</td>\n",
       "      <td>5.8</td>\n",
       "      <td>5.9</td>\n",
       "      <td>48</td>\n",
       "      <td>136</td>\n",
       "    </tr>\n",
       "    <tr>\n",
       "      <th>3</th>\n",
       "      <td>2014</td>\n",
       "      <td>ACURA</td>\n",
       "      <td>MDX 4WD</td>\n",
       "      <td>SUV - SMALL</td>\n",
       "      <td>3.5</td>\n",
       "      <td>6</td>\n",
       "      <td>AS6</td>\n",
       "      <td>Z</td>\n",
       "      <td>12.7</td>\n",
       "      <td>9.1</td>\n",
       "      <td>11.1</td>\n",
       "      <td>25</td>\n",
       "      <td>255</td>\n",
       "    </tr>\n",
       "    <tr>\n",
       "      <th>4</th>\n",
       "      <td>2014</td>\n",
       "      <td>ACURA</td>\n",
       "      <td>RDX AWD</td>\n",
       "      <td>SUV - SMALL</td>\n",
       "      <td>3.5</td>\n",
       "      <td>6</td>\n",
       "      <td>AS6</td>\n",
       "      <td>Z</td>\n",
       "      <td>12.1</td>\n",
       "      <td>8.7</td>\n",
       "      <td>10.6</td>\n",
       "      <td>27</td>\n",
       "      <td>244</td>\n",
       "    </tr>\n",
       "  </tbody>\n",
       "</table>\n",
       "</div>"
      ],
      "text/plain": [
       "   MODELYEAR   MAKE       MODEL VEHICLECLASS  ENGINESIZE  CYLINDERS  \\\n",
       "0       2014  ACURA         ILX      COMPACT         2.0          4   \n",
       "1       2014  ACURA         ILX      COMPACT         2.4          4   \n",
       "2       2014  ACURA  ILX HYBRID      COMPACT         1.5          4   \n",
       "3       2014  ACURA     MDX 4WD  SUV - SMALL         3.5          6   \n",
       "4       2014  ACURA     RDX AWD  SUV - SMALL         3.5          6   \n",
       "\n",
       "  TRANSMISSION FUELTYPE  FUELCONSUMPTION_CITY  FUELCONSUMPTION_HWY  \\\n",
       "0          AS5        Z                   9.9                  6.7   \n",
       "1           M6        Z                  11.2                  7.7   \n",
       "2          AV7        Z                   6.0                  5.8   \n",
       "3          AS6        Z                  12.7                  9.1   \n",
       "4          AS6        Z                  12.1                  8.7   \n",
       "\n",
       "   FUELCONSUMPTION_COMB  FUELCONSUMPTION_COMB_MPG  CO2EMISSIONS  \n",
       "0                   8.5                        33           196  \n",
       "1                   9.6                        29           221  \n",
       "2                   5.9                        48           136  \n",
       "3                  11.1                        25           255  \n",
       "4                  10.6                        27           244  "
      ]
     },
     "execution_count": 1,
     "metadata": {},
     "output_type": "execute_result"
    }
   ],
   "source": [
    "import pandas as pd\n",
    "import numpy as np \n",
    "import sklearn as sk\n",
    "import sklearn.metrics as skl\n",
    "from sklearn.linear_model import LinearRegression\n",
    "import matplotlib.pyplot as plt\n",
    "import seaborn as sns\n",
    "from sklearn.model_selection import train_test_split\n",
    "from sklearn import metrics\n",
    "from sklearn.metrics import classification_report\n",
    "from sklearn.metrics import r2_score\n",
    "import statsmodels.api as sm\n",
    "import statsmodels.formula.api as smf\n",
    "df = pd.read_csv(\"data-fuel-consumption.csv\")\n",
    "df.head()"
   ]
  },
  {
   "cell_type": "markdown",
   "id": "4b330118",
   "metadata": {},
   "source": [
    "#### OLS Regression Results before fit the machine learning model\n"
   ]
  },
  {
   "cell_type": "code",
   "execution_count": 3,
   "id": "6354a739",
   "metadata": {},
   "outputs": [
    {
     "name": "stdout",
     "output_type": "stream",
     "text": [
      "                            OLS Regression Results                            \n",
      "==============================================================================\n",
      "Dep. Variable:           CO2EMISSIONS   R-squared:                       0.889\n",
      "Model:                            OLS   Adj. R-squared:                  0.889\n",
      "Method:                 Least Squares   F-statistic:                     1419.\n",
      "Date:                Fri, 15 Apr 2022   Prob (F-statistic):               0.00\n",
      "Time:                        01:37:01   Log-Likelihood:                -4766.4\n",
      "No. Observations:                1067   AIC:                             9547.\n",
      "Df Residuals:                    1060   BIC:                             9582.\n",
      "Df Model:                           6                                         \n",
      "Covariance Type:            nonrobust                                         \n",
      "============================================================================================\n",
      "                               coef    std err          t      P>|t|      [0.025      0.975]\n",
      "--------------------------------------------------------------------------------------------\n",
      "Intercept                  253.5312     12.451     20.362      0.000     229.099     277.964\n",
      "ENGINESIZE                   8.5777      1.418      6.049      0.000       5.795      11.360\n",
      "CYLINDERS                    7.6987      1.047      7.356      0.000       5.645       9.752\n",
      "FUELCONSUMPTION_CITY       -10.5926     12.440     -0.851      0.395     -35.003      13.818\n",
      "FUELCONSUMPTION_HWY         -3.4892     10.255     -0.340      0.734     -23.612      16.633\n",
      "FUELCONSUMPTION_COMB        17.7529     22.618      0.785      0.433     -26.628      62.134\n",
      "FUELCONSUMPTION_COMB_MPG    -3.8692      0.250    -15.505      0.000      -4.359      -3.380\n",
      "==============================================================================\n",
      "Omnibus:                       76.623   Durbin-Watson:                   1.654\n",
      "Prob(Omnibus):                  0.000   Jarque-Bera (JB):              347.468\n",
      "Skew:                          -0.100   Prob(JB):                     3.53e-76\n",
      "Kurtosis:                       5.788   Cond. No.                     1.46e+03\n",
      "==============================================================================\n",
      "\n",
      "Notes:\n",
      "[1] Standard Errors assume that the covariance matrix of the errors is correctly specified.\n",
      "[2] The condition number is large, 1.46e+03. This might indicate that there are\n",
      "strong multicollinearity or other numerical problems.\n"
     ]
    }
   ],
   "source": [
    "statMDL = smf.ols('CO2EMISSIONS~ENGINESIZE+CYLINDERS+FUELCONSUMPTION_CITY+FUELCONSUMPTION_HWY+FUELCONSUMPTION_COMB+FUELCONSUMPTION_COMB_MPG', data = df).fit()\n",
    "print(statMDL.summary())"
   ]
  },
  {
   "cell_type": "markdown",
   "id": "fe5c4a8d",
   "metadata": {},
   "source": [
    "##### R-squared\n",
    "#The R-squared value given in OLS Results is 0.889 which means our regression line can touch about 88.9% feature variable or 88.9% fit.\n",
    "##### Adj. R-squared\n",
    "#when we increased the amount of input variables, the value of R-squared will be also increased. But always it's not prove that our model getting better. Here we will notice that, if we add any new feature variable, the value of R-squared is increased but the value of Adj. R-squared remain the same or smaller that the value of R-squared, than we should understand that the variable will not hepl to increase the performance of the model.\n",
    "##### Prob (F-statistic)\n",
    "#if the value of Prob (F-statistic) is greatter than 0.05, than we can tell taht our model is not good for regression.It is mandatory that the value of Prob (F-statistic) is always smaller than 0.05\n",
    "##### P>|t|\n",
    "#The value of P>|t| of those coefficient is greater that 0.05, all of them coefficents belongs to those variable are not play significant role in the model. So thy can be excluded. \n",
    "##### Df Model\n",
    "#It shows the total independent variable/ feature variable used in this model.\n",
    "##### Dep. Variable\n",
    "#It shows the dpendent/target variable in this model.\n",
    "\n"
   ]
  },
  {
   "cell_type": "markdown",
   "id": "4feecb0c",
   "metadata": {},
   "source": [
    "#### Set the feature variable x and target variable y accourding to the OLS Regression result"
   ]
  },
  {
   "cell_type": "code",
   "execution_count": 4,
   "id": "98db8243",
   "metadata": {},
   "outputs": [],
   "source": [
    "x = df[['ENGINESIZE', 'CYLINDERS', 'FUELCONSUMPTION_COMB_MPG']]\n",
    "y = df['CO2EMISSIONS']"
   ]
  },
  {
   "cell_type": "markdown",
   "id": "5671cb7c",
   "metadata": {},
   "source": [
    "#### Train the model with 75% data and rest 25% for the testing"
   ]
  },
  {
   "cell_type": "code",
   "execution_count": 7,
   "id": "2c89973c",
   "metadata": {},
   "outputs": [
    {
     "data": {
      "text/plain": [
       "LinearRegression()"
      ]
     },
     "execution_count": 7,
     "metadata": {},
     "output_type": "execute_result"
    }
   ],
   "source": [
    "x_train, x_test, y_train, y_test = train_test_split(x, y, test_size=0.25, random_state=5)\n",
    "linreg = LinearRegression()\n",
    "linreg.fit(x_train, y_train)"
   ]
  },
  {
   "cell_type": "markdown",
   "id": "e80b0470",
   "metadata": {},
   "source": [
    "#### Prediction"
   ]
  },
  {
   "cell_type": "code",
   "execution_count": 13,
   "id": "20c5a302",
   "metadata": {},
   "outputs": [],
   "source": [
    "predictions = linreg.predict(x_test)\n"
   ]
  },
  {
   "cell_type": "markdown",
   "id": "f1faec32",
   "metadata": {},
   "source": [
    "#### Accuracy checking"
   ]
  },
  {
   "cell_type": "code",
   "execution_count": 14,
   "id": "79e6edbf",
   "metadata": {},
   "outputs": [
    {
     "name": "stdout",
     "output_type": "stream",
     "text": [
      "Coefficients: [11.11172826  6.34337788 -4.73059216]\n",
      "Intercept: 307.116804691861\n",
      "MAE: 14.528021284008473\n",
      "MSE: 487.3839241006479\n",
      "RMSE: 22.076773407829503\n",
      "Accuracy||: 88.53480655959552 %\n",
      "R2: 0.8853480655959552\n"
     ]
    }
   ],
   "source": [
    "print('Coefficients:', linreg.coef_)\n",
    "print('Intercept:', linreg.intercept_)\n",
    "print('MAE:', metrics.mean_absolute_error(y_test, predictions))\n",
    "print('MSE:', metrics.mean_squared_error(y_test, predictions))\n",
    "print('RMSE:', np.sqrt(metrics.mean_squared_error(y_test, predictions)))\n",
    "accuracy = linreg.score(x_test, y_test)\n",
    "print(\"Accuracy||:\", accuracy*100,'%')\n",
    "print('R2:', r2_score(y_test, predictions))"
   ]
  },
  {
   "cell_type": "markdown",
   "id": "ffa7d3e7",
   "metadata": {},
   "source": [
    "#Our model has bee able to accurately predict about 88.53%. Also given that intercept value and coefficient value of variables "
   ]
  },
  {
   "cell_type": "markdown",
   "id": "391f46b4",
   "metadata": {},
   "source": [
    "#### Also check the Accuracy of test set as well as the train set"
   ]
  },
  {
   "cell_type": "code",
   "execution_count": 15,
   "id": "1f80fdcd",
   "metadata": {},
   "outputs": [
    {
     "name": "stdout",
     "output_type": "stream",
     "text": [
      "Train set Accuracy: 0.8827636444239391\n",
      "Test set Accuracy: 0.8853480655959552\n"
     ]
    }
   ],
   "source": [
    "print(\"Train set Accuracy:\", r2_score(y_train, linreg.predict(x_train)))\n",
    "print(\"Test set Accuracy:\", r2_score(y_test, predictions))"
   ]
  },
  {
   "cell_type": "markdown",
   "id": "e02cac85",
   "metadata": {},
   "source": [
    "#### Regression plot which is predicted by the test data"
   ]
  },
  {
   "cell_type": "code",
   "execution_count": 16,
   "id": "9d43857c",
   "metadata": {},
   "outputs": [
    {
     "data": {
      "text/plain": [
       "<AxesSubplot:xlabel='CO2EMISSIONS'>"
      ]
     },
     "execution_count": 16,
     "metadata": {},
     "output_type": "execute_result"
    },
    {
     "data": {
      "image/png": "[encoded data removed]",
      "text/plain": [
       "<Figure size 432x288 with 1 Axes>"
      ]
     },
     "metadata": {
      "needs_background": "light"
     },
     "output_type": "display_data"
    }
   ],
   "source": [
    "sns.regplot(x=y_test, y=predictions)"
   ]
  },
  {
   "cell_type": "markdown",
   "id": "39a632d0",
   "metadata": {},
   "source": [
    "#### Final Prediction "
   ]
  },
  {
   "cell_type": "code",
   "execution_count": 19,
   "id": "9495bf3b",
   "metadata": {},
   "outputs": [
    {
     "data": {
      "text/plain": [
       "array([348.55367627])"
      ]
     },
     "execution_count": 19,
     "metadata": {},
     "output_type": "execute_result"
    }
   ],
   "source": [
    "#Suppose one car's ENGINESIZE=4, CYLINDERS=4, FUELCONSUMPTION_COMB_MPG=6\n",
    "new_observation = [[4,4,6]]\n",
    "linreg.predict(new_observation)"
   ]
  },
  {
   "cell_type": "markdown",
   "id": "5f091a64",
   "metadata": {},
   "source": [
    "### So this model predict that CO2EMISSIONS will be 348.55367627 for this suggested car"
   ]
  },
  {
   "cell_type": "code",
   "execution_count": null,
   "id": "5616a6de",
   "metadata": {},
   "outputs": [],
   "source": []
  },
  {
   "cell_type": "code",
   "execution_count": null,
   "id": "5f9310d1",
   "metadata": {},
   "outputs": [],
   "source": []
  }
 ],
 "metadata": {
  "kernelspec": {
   "display_name": "Python 3",
   "language": "python",
   "name": "python3"
  },
  "language_info": {
   "codemirror_mode": {
    "name": "ipython",
    "version": 3
   },
   "file_extension": ".py",
   "mimetype": "text/x-python",
   "name": "python",
   "nbconvert_exporter": "python",
   "pygments_lexer": "ipython3",
   "version": "3.8.8"
  }
 },
 "nbformat": 4,
 "nbformat_minor": 5
}
