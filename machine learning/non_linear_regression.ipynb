{
 "cells": [
  {
   "cell_type": "markdown",
   "id": "f402e671",
   "metadata": {},
   "source": [
    "### Nonlinear Regression"
   ]
  },
  {
   "cell_type": "markdown",
   "id": "fc117af0",
   "metadata": {},
   "source": [
    "##### Import Packages and Dataset"
   ]
  },
  {
   "cell_type": "code",
   "execution_count": 26,
   "id": "a5947a85",
   "metadata": {},
   "outputs": [
    {
     "data": {
      "text/html": [
       "<div>\n",
       "<style scoped>\n",
       "    .dataframe tbody tr th:only-of-type {\n",
       "        vertical-align: middle;\n",
       "    }\n",
       "\n",
       "    .dataframe tbody tr th {\n",
       "        vertical-align: top;\n",
       "    }\n",
       "\n",
       "    .dataframe thead th {\n",
       "        text-align: right;\n",
       "    }\n",
       "</style>\n",
       "<table border=\"1\" class=\"dataframe\">\n",
       "  <thead>\n",
       "    <tr style=\"text-align: right;\">\n",
       "      <th></th>\n",
       "      <th>YEAR</th>\n",
       "      <th>GNP</th>\n",
       "      <th>POPULATION</th>\n",
       "      <th>TAX</th>\n",
       "    </tr>\n",
       "  </thead>\n",
       "  <tbody>\n",
       "    <tr>\n",
       "      <th>0</th>\n",
       "      <td>1980</td>\n",
       "      <td>1499.68</td>\n",
       "      <td>82.498</td>\n",
       "      <td>19.400</td>\n",
       "    </tr>\n",
       "    <tr>\n",
       "      <th>1</th>\n",
       "      <td>1981</td>\n",
       "      <td>1583.50</td>\n",
       "      <td>84.764</td>\n",
       "      <td>22.500</td>\n",
       "    </tr>\n",
       "    <tr>\n",
       "      <th>2</th>\n",
       "      <td>1982</td>\n",
       "      <td>1634.27</td>\n",
       "      <td>87.061</td>\n",
       "      <td>24.400</td>\n",
       "    </tr>\n",
       "    <tr>\n",
       "      <th>3</th>\n",
       "      <td>1983</td>\n",
       "      <td>1709.60</td>\n",
       "      <td>89.400</td>\n",
       "      <td>27.000</td>\n",
       "    </tr>\n",
       "    <tr>\n",
       "      <th>4</th>\n",
       "      <td>1984</td>\n",
       "      <td>1781.02</td>\n",
       "      <td>91.804</td>\n",
       "      <td>32.265</td>\n",
       "    </tr>\n",
       "  </tbody>\n",
       "</table>\n",
       "</div>"
      ],
      "text/plain": [
       "   YEAR      GNP  POPULATION     TAX\n",
       "0  1980  1499.68      82.498  19.400\n",
       "1  1981  1583.50      84.764  22.500\n",
       "2  1982  1634.27      87.061  24.400\n",
       "3  1983  1709.60      89.400  27.000\n",
       "4  1984  1781.02      91.804  32.265"
      ]
     },
     "execution_count": 26,
     "metadata": {},
     "output_type": "execute_result"
    }
   ],
   "source": [
    "import numpy as np\n",
    "import pandas as pd\n",
    "import matplotlib.pyplot as plt\n",
    "import seaborn as sns\n",
    "%matplotlib inline\n",
    "from sklearn.linear_model import LinearRegression\n",
    "from sklearn.model_selection import train_test_split\n",
    "from sklearn import metrics\n",
    "from sklearn.metrics import r2_score\n",
    "\n",
    "#import statsmodels.api as sm\n",
    "import statsmodels.formula.api as smf\n",
    "\n",
    "df = pd.read_csv(\"data-tax-gnp-bd.csv\")\n",
    "df.head()"
   ]
  },
  {
   "cell_type": "code",
   "execution_count": 27,
   "id": "72b799c9",
   "metadata": {},
   "outputs": [
    {
     "name": "stdout",
     "output_type": "stream",
     "text": [
      "                            OLS Regression Results                            \n",
      "==============================================================================\n",
      "Dep. Variable:                    GNP   R-squared:                       0.997\n",
      "Model:                            OLS   Adj. R-squared:                  0.996\n",
      "Method:                 Least Squares   F-statistic:                     3686.\n",
      "Date:                Tue, 19 Apr 2022   Prob (F-statistic):           7.78e-45\n",
      "Time:                        01:54:59   Log-Likelihood:                -258.75\n",
      "No. Observations:                  40   AIC:                             525.5\n",
      "Df Residuals:                      36   BIC:                             532.2\n",
      "Df Model:                           3                                         \n",
      "Covariance Type:            nonrobust                                         \n",
      "==============================================================================\n",
      "                 coef    std err          t      P>|t|      [0.025      0.975]\n",
      "------------------------------------------------------------------------------\n",
      "Intercept  -8.299e+05   1.45e+05     -5.723      0.000   -1.12e+06   -5.36e+05\n",
      "YEAR         425.3304     74.471      5.711      0.000     274.297     576.364\n",
      "POPULATION  -134.0921     29.732     -4.510      0.000    -194.391     -73.793\n",
      "TAX            1.8659      0.199      9.369      0.000       1.462       2.270\n",
      "==============================================================================\n",
      "Omnibus:                        3.327   Durbin-Watson:                   0.334\n",
      "Prob(Omnibus):                  0.190   Jarque-Bera (JB):                1.804\n",
      "Skew:                          -0.231   Prob(JB):                        0.406\n",
      "Kurtosis:                       2.067   Cond. No.                     1.16e+07\n",
      "==============================================================================\n",
      "\n",
      "Notes:\n",
      "[1] Standard Errors assume that the covariance matrix of the errors is correctly specified.\n",
      "[2] The condition number is large, 1.16e+07. This might indicate that there are\n",
      "strong multicollinearity or other numerical problems.\n"
     ]
    }
   ],
   "source": [
    "statMDL = smf.ols('GNP~YEAR+POPULATION+TAX', data=df).fit()\n",
    "print(statMDL.summary())"
   ]
  },
  {
   "cell_type": "markdown",
   "id": "39628823",
   "metadata": {},
   "source": [
    "##### Regression plot"
   ]
  },
  {
   "cell_type": "code",
   "execution_count": 28,
   "id": "2a5d603d",
   "metadata": {},
   "outputs": [
    {
     "name": "stderr",
     "output_type": "stream",
     "text": [
      "C:\\Users\\Pappu\\anaconda3\\lib\\site-packages\\seaborn\\_decorators.py:36: FutureWarning: Pass the following variable as a keyword arg: x. From version 0.12, the only valid positional argument will be `data`, and passing other arguments without an explicit keyword will result in an error or misinterpretation.\n",
      "  warnings.warn(\n"
     ]
    },
    {
     "data": {
      "text/plain": [
       "<AxesSubplot:xlabel='POPULATION', ylabel='GNP'>"
      ]
     },
     "execution_count": 28,
     "metadata": {},
     "output_type": "execute_result"
    },
    {
     "data": {
      "image/png": "[encoded data removed]",
      "text/plain": [
       "<Figure size 432x288 with 1 Axes>"
      ]
     },
     "metadata": {
      "needs_background": "light"
     },
     "output_type": "display_data"
    }
   ],
   "source": [
    "sns.regplot(df.POPULATION, y=df.GNP)"
   ]
  },
  {
   "cell_type": "code",
   "execution_count": 29,
   "id": "2ea790cc",
   "metadata": {},
   "outputs": [
    {
     "data": {
      "text/plain": [
       "<AxesSubplot:xlabel='POPULATION', ylabel='GNP'>"
      ]
     },
     "execution_count": 29,
     "metadata": {},
     "output_type": "execute_result"
    },
    {
     "data": {
      "image/png": "[encoded data removed]",
      "text/plain": [
       "<Figure size 432x288 with 1 Axes>"
      ]
     },
     "metadata": {
      "needs_background": "light"
     },
     "output_type": "display_data"
    }
   ],
   "source": [
    "#Regression line in order=2\n",
    "sns.regplot(x=df.POPULATION, y=df.GNP, data=df, order=2)"
   ]
  },
  {
   "cell_type": "code",
   "execution_count": 30,
   "id": "f4185797",
   "metadata": {},
   "outputs": [
    {
     "data": {
      "text/plain": [
       "<AxesSubplot:xlabel='POPULATION', ylabel='GNP'>"
      ]
     },
     "execution_count": 30,
     "metadata": {},
     "output_type": "execute_result"
    },
    {
     "data": {
      "image/png": "[encoded data removed]",
      "text/plain": [
       "<Figure size 432x288 with 1 Axes>"
      ]
     },
     "metadata": {
      "needs_background": "light"
     },
     "output_type": "display_data"
    }
   ],
   "source": [
    "#Regression line in order=3\n",
    "sns.regplot(x=df.POPULATION, y=df.GNP, data=df, order=3)"
   ]
  },
  {
   "cell_type": "markdown",
   "id": "9b5ebd6f",
   "metadata": {},
   "source": [
    "##### Now Understand that order 3 is perfect for Polynomial regression. So transform the data into 3 degree order.\n",
    "##### When reshape data use(-1, 1) if you have one feature/column. On the other hand use (1, -1) if you have more than one feature/column."
   ]
  },
  {
   "cell_type": "code",
   "execution_count": 31,
   "id": "4823b3f1",
   "metadata": {},
   "outputs": [],
   "source": [
    "x = df['POPULATION'].values.reshape(-1,1)\n",
    "y = df['GNP'].values.reshape(-1,1)\n",
    "x_train, x_test, y_train, y_test = train_test_split(x, y, test_size=0.25, random_state=5)\n",
    "    \n",
    "from sklearn.preprocessing import PolynomialFeatures\n",
    "pf = PolynomialFeatures(degree=3)\n",
    "x_ = pf.fit_transform(x)\n",
    "x_test_ = pf.fit_transform(x_test)\n",
    "\n"
   ]
  },
  {
   "cell_type": "markdown",
   "id": "eda8e475",
   "metadata": {},
   "source": [
    "##### There is no alternative function for the polynomial regression. Polynomial set the feature by transformaing the data. Linear function is also used in polynomial regression."
   ]
  },
  {
   "cell_type": "code",
   "execution_count": 32,
   "id": "9d26ddd3",
   "metadata": {},
   "outputs": [
    {
     "data": {
      "text/plain": [
       "array([[ 0.00000000e+00,  1.20802698e+03, -1.11503188e+01,\n",
       "         3.49081200e-02]])"
      ]
     },
     "execution_count": 32,
     "metadata": {},
     "output_type": "execute_result"
    }
   ],
   "source": [
    "poly = LinearRegression()\n",
    "poly.fit(x_, y)\n",
    "poly.coef_"
   ]
  },
  {
   "cell_type": "markdown",
   "id": "53a31b49",
   "metadata": {},
   "source": [
    "##### Accuracy Checking"
   ]
  },
  {
   "cell_type": "code",
   "execution_count": 40,
   "id": "aae9edd3",
   "metadata": {},
   "outputs": [
    {
     "name": "stdout",
     "output_type": "stream",
     "text": [
      "Coefficients: [[ 0.00000000e+00  1.20802698e+03 -1.11503188e+01  3.49081200e-02]]\n",
      "Intercept: [-42077.21061321]\n",
      "MAE: 97.78921702434744\n",
      "MSE: 18572.673073475253\n",
      "RMSE: 136.28159477154372\n",
      "AccuracyII: 99.76117210247534 %\n"
     ]
    }
   ],
   "source": [
    "Predictions = poly.predict(x_test_)\n",
    "\n",
    "print('Coefficients:', poly.coef_)\n",
    "print('Intercept:', poly.intercept_)\n",
    "print('MAE:', metrics.mean_absolute_error(y_test, Predictions))\n",
    "print('MSE:', metrics.mean_squared_error(y_test, Predictions))\n",
    "print('RMSE:', np.sqrt(metrics.mean_squared_error(y_test, Predictions)))\n",
    "accuracy = poly.score(x_test_, y_test)\n",
    "print('AccuracyII:', accuracy*100,\"%\")"
   ]
  },
  {
   "cell_type": "markdown",
   "id": "7724ad81",
   "metadata": {},
   "source": [
    "##### We see that non-linear model can make about 99% accurate prediction."
   ]
  },
  {
   "cell_type": "markdown",
   "id": "e4781752",
   "metadata": {},
   "source": [
    "##### Final Prediction using this model. Think that our population is 200 millions, what will be our GNP.\n"
   ]
  },
  {
   "cell_type": "code",
   "execution_count": 42,
   "id": "b446e519",
   "metadata": {},
   "outputs": [
    {
     "data": {
      "text/plain": [
       "array([[32780.39276676]])"
      ]
     },
     "execution_count": 42,
     "metadata": {},
     "output_type": "execute_result"
    }
   ],
   "source": [
    "yhat = {'POPULATION':[200]}\n",
    "yhatDf = pd.DataFrame(yhat)\n",
    "yhatDfReshape = yhatDf['POPULATION'].values.reshape(-1,1)\n",
    "\n",
    "polyfit = pf.fit_transform(yhatDfReshape)\n",
    "poly.predict(polyfit)"
   ]
  },
  {
   "cell_type": "markdown",
   "id": "532cccf5",
   "metadata": {},
   "source": [
    "##### So when the population become 200 million, our GNP will be 32780.39 billion"
   ]
  },
  {
   "cell_type": "markdown",
   "id": "fa01e7e2",
   "metadata": {},
   "source": [
    "#### Compare the performance of our model with the linear regression model"
   ]
  },
  {
   "cell_type": "code",
   "execution_count": 45,
   "id": "8da22fa0",
   "metadata": {},
   "outputs": [
    {
     "name": "stdout",
     "output_type": "stream",
     "text": [
      "Coffecient: [[100.14883252]]\n",
      "Intercept: [-8431.28106286]\n",
      "MAE: 1299.7312045114136\n",
      "MSE: 2155272.7183888806\n",
      "RMSE: 1468.084710903591\n",
      "AccuracyII: 72.28512826943647 %\n"
     ]
    }
   ],
   "source": [
    "linreg = LinearRegression()\n",
    "linreg.fit(x_train, y_train)\n",
    "\n",
    "predictionsLN = linreg.predict(x_test)\n",
    "\n",
    "print('Coffecient:', linreg.coef_)\n",
    "print('Intercept:', linreg.intercept_)\n",
    "print('MAE:', metrics.mean_absolute_error(y_test, predictionsLN))\n",
    "print('MSE:', metrics.mean_squared_error(y_test, predictionsLN))\n",
    "print('RMSE:', np.sqrt(metrics.mean_squared_error(y_test, predictionsLN)))\n",
    "accuracy = linreg.score(x_test, y_test)\n",
    "print('AccuracyII:', accuracy*100,'%')"
   ]
  },
  {
   "cell_type": "code",
   "execution_count": null,
   "id": "36cbffa1",
   "metadata": {},
   "outputs": [],
   "source": []
  },
  {
   "cell_type": "code",
   "execution_count": null,
   "id": "3e9be46c",
   "metadata": {},
   "outputs": [],
   "source": []
  },
  {
   "cell_type": "code",
   "execution_count": null,
   "id": "c9eda3cc",
   "metadata": {},
   "outputs": [],
   "source": []
  }
 ],
 "metadata": {
  "kernelspec": {
   "display_name": "Python 3",
   "language": "python",
   "name": "python3"
  },
  "language_info": {
   "codemirror_mode": {
    "name": "ipython",
    "version": 3
   },
   "file_extension": ".py",
   "mimetype": "text/x-python",
   "name": "python",
   "nbconvert_exporter": "python",
   "pygments_lexer": "ipython3",
   "version": "3.8.8"
  }
 },
 "nbformat": 4,
 "nbformat_minor": 5
}
