{
 "cells": [
  {
   "cell_type": "markdown",
   "id": "ffa784be",
   "metadata": {},
   "source": [
    "# Logistic Regression Binomial\n",
    "### Introduction of Dataset"
   ]
  },
  {
   "cell_type": "markdown",
   "id": "39dd4b4e",
   "metadata": {},
   "source": [
    "The name of the dataset is Haberman's dataset. it is used for the cancer survival prdiction. At Billing Hospital, University of Chicago created the dataset based on 306 female breast cancer patient from 1958 to 2006. \n",
    "The identity of various attributes of Haberman dataset.\n",
    "\n",
    "* Axil Node: Number of lymph nodes or lymph glands surrounding the tumor\n",
    "* Age: The ageof the patient.\n",
    "* Operational Year: The year of surgery took place.\n",
    "* Survival Status: Those who survived more than 5 years after the surgery are given status 1 and those who died before 5 years   are given status 2.\n"
   ]
  },
  {
   "cell_type": "markdown",
   "id": "bd881037",
   "metadata": {},
   "source": [
    "#### Load the necessary packages and the dataset"
   ]
  },
  {
   "cell_type": "code",
   "execution_count": 20,
   "id": "81df0b86",
   "metadata": {},
   "outputs": [
    {
     "data": {
      "text/html": [
       "<div>\n",
       "<style scoped>\n",
       "    .dataframe tbody tr th:only-of-type {\n",
       "        vertical-align: middle;\n",
       "    }\n",
       "\n",
       "    .dataframe tbody tr th {\n",
       "        vertical-align: top;\n",
       "    }\n",
       "\n",
       "    .dataframe thead th {\n",
       "        text-align: right;\n",
       "    }\n",
       "</style>\n",
       "<table border=\"1\" class=\"dataframe\">\n",
       "  <thead>\n",
       "    <tr style=\"text-align: right;\">\n",
       "      <th></th>\n",
       "      <th>age</th>\n",
       "      <th>operation_year</th>\n",
       "      <th>axil_nodes</th>\n",
       "      <th>status</th>\n",
       "    </tr>\n",
       "  </thead>\n",
       "  <tbody>\n",
       "    <tr>\n",
       "      <th>0</th>\n",
       "      <td>30</td>\n",
       "      <td>64</td>\n",
       "      <td>1</td>\n",
       "      <td>1</td>\n",
       "    </tr>\n",
       "    <tr>\n",
       "      <th>1</th>\n",
       "      <td>30</td>\n",
       "      <td>62</td>\n",
       "      <td>3</td>\n",
       "      <td>1</td>\n",
       "    </tr>\n",
       "    <tr>\n",
       "      <th>2</th>\n",
       "      <td>30</td>\n",
       "      <td>65</td>\n",
       "      <td>0</td>\n",
       "      <td>1</td>\n",
       "    </tr>\n",
       "    <tr>\n",
       "      <th>3</th>\n",
       "      <td>31</td>\n",
       "      <td>59</td>\n",
       "      <td>2</td>\n",
       "      <td>1</td>\n",
       "    </tr>\n",
       "    <tr>\n",
       "      <th>4</th>\n",
       "      <td>31</td>\n",
       "      <td>65</td>\n",
       "      <td>4</td>\n",
       "      <td>1</td>\n",
       "    </tr>\n",
       "    <tr>\n",
       "      <th>...</th>\n",
       "      <td>...</td>\n",
       "      <td>...</td>\n",
       "      <td>...</td>\n",
       "      <td>...</td>\n",
       "    </tr>\n",
       "    <tr>\n",
       "      <th>301</th>\n",
       "      <td>75</td>\n",
       "      <td>62</td>\n",
       "      <td>1</td>\n",
       "      <td>1</td>\n",
       "    </tr>\n",
       "    <tr>\n",
       "      <th>302</th>\n",
       "      <td>76</td>\n",
       "      <td>67</td>\n",
       "      <td>0</td>\n",
       "      <td>1</td>\n",
       "    </tr>\n",
       "    <tr>\n",
       "      <th>303</th>\n",
       "      <td>77</td>\n",
       "      <td>65</td>\n",
       "      <td>3</td>\n",
       "      <td>1</td>\n",
       "    </tr>\n",
       "    <tr>\n",
       "      <th>304</th>\n",
       "      <td>78</td>\n",
       "      <td>65</td>\n",
       "      <td>1</td>\n",
       "      <td>2</td>\n",
       "    </tr>\n",
       "    <tr>\n",
       "      <th>305</th>\n",
       "      <td>83</td>\n",
       "      <td>58</td>\n",
       "      <td>2</td>\n",
       "      <td>2</td>\n",
       "    </tr>\n",
       "  </tbody>\n",
       "</table>\n",
       "<p>306 rows × 4 columns</p>\n",
       "</div>"
      ],
      "text/plain": [
       "     age  operation_year  axil_nodes  status\n",
       "0     30              64           1       1\n",
       "1     30              62           3       1\n",
       "2     30              65           0       1\n",
       "3     31              59           2       1\n",
       "4     31              65           4       1\n",
       "..   ...             ...         ...     ...\n",
       "301   75              62           1       1\n",
       "302   76              67           0       1\n",
       "303   77              65           3       1\n",
       "304   78              65           1       2\n",
       "305   83              58           2       2\n",
       "\n",
       "[306 rows x 4 columns]"
      ]
     },
     "execution_count": 20,
     "metadata": {},
     "output_type": "execute_result"
    }
   ],
   "source": [
    "import pandas as pd\n",
    "import numpy as np\n",
    "import seaborn as sns\n",
    "import matplotlib.pyplot as plt\n",
    "import matplotlib.mlab as mlab\n",
    "import io\n",
    "\n",
    "from sklearn.model_selection import train_test_split\n",
    "from sklearn.linear_model import LogisticRegression\n",
    "from sklearn import metrics\n",
    "from sklearn.metrics import classification_report\n",
    "from sklearn.metrics import confusion_matrix, accuracy_score\n",
    "from sklearn.metrics import roc_auc_score\n",
    "from sklearn.metrics import roc_curve\n",
    "\n",
    "df = pd.read_csv('data-heberman.csv')\n",
    "df.head()"
   ]
  },
  {
   "cell_type": "code",
   "execution_count": 24,
   "id": "a60c774a",
   "metadata": {},
   "outputs": [],
   "source": [
    "X = df[['age','operation_year','axil_nodes']]\n",
    "y = df['status'].map({1:0, 2:1})"
   ]
  },
  {
   "cell_type": "code",
   "execution_count": 25,
   "id": "8b3fd03f",
   "metadata": {},
   "outputs": [],
   "source": [
    "X_train, X_test, y_train, y_test = train_test_split(X, y, test_size=0.25, random_state=5)\n"
   ]
  },
  {
   "cell_type": "markdown",
   "id": "ca3272a5",
   "metadata": {},
   "source": [
    "##### Fit the model"
   ]
  },
  {
   "cell_type": "code",
   "execution_count": 14,
   "id": "3e9e7d4b",
   "metadata": {},
   "outputs": [
    {
     "data": {
      "text/plain": [
       "LogisticRegression()"
      ]
     },
     "execution_count": 14,
     "metadata": {},
     "output_type": "execute_result"
    }
   ],
   "source": [
    "model = LogisticRegression()\n",
    "model.fit(x_train, y_train)\n"
   ]
  },
  {
   "cell_type": "markdown",
   "id": "db0355a4",
   "metadata": {},
   "source": [
    "##### Prediction"
   ]
  },
  {
   "cell_type": "code",
   "execution_count": 16,
   "id": "e033113f",
   "metadata": {},
   "outputs": [
    {
     "data": {
      "text/plain": [
       "array([0, 0, 0, 0, 0, 0, 0, 0, 0, 0, 0, 0, 0, 0, 0, 0, 0, 0, 0, 0, 0, 0,\n",
       "       0, 0, 0, 0, 0, 0, 0, 0, 0, 0, 0, 0, 0, 0, 0, 0, 0, 1, 0, 1, 0, 1,\n",
       "       0, 0, 0, 0, 0, 0, 0, 0, 0, 0, 0, 0, 0, 0, 0, 0, 0, 0, 0, 0, 0, 0,\n",
       "       0, 0, 0, 0, 0, 0, 0, 0, 0, 0, 0], dtype=int64)"
      ]
     },
     "execution_count": 16,
     "metadata": {},
     "output_type": "execute_result"
    }
   ],
   "source": [
    "predictions = model.predict(x_test)\n",
    "predictions"
   ]
  },
  {
   "cell_type": "markdown",
   "id": "19c68d58",
   "metadata": {},
   "source": [
    "#### Check the accuracy of the model"
   ]
  },
  {
   "cell_type": "code",
   "execution_count": 19,
   "id": "a3f676c2",
   "metadata": {},
   "outputs": [
    {
     "name": "stdout",
     "output_type": "stream",
     "text": [
      "Coefficent: [[ 0.01558675 -0.03293527  0.07053309]]\n",
      "Intercept: [-0.00057878]\n",
      "Classification Report: \n",
      "               precision    recall  f1-score   support\n",
      "\n",
      "           0       0.81      1.00      0.90        60\n",
      "           1       1.00      0.18      0.30        17\n",
      "\n",
      "    accuracy                           0.82        77\n",
      "   macro avg       0.91      0.59      0.60        77\n",
      "weighted avg       0.85      0.82      0.76        77\n",
      "\n",
      "Confusion Metrix:\n",
      " [[60  0]\n",
      " [14  3]]\n",
      "Accuracy Score: 0.8181818181818182\n",
      "Precision: 1.0\n",
      "Recall: 0.17647058823529413\n"
     ]
    }
   ],
   "source": [
    "print('Coefficent:', model.coef_)\n",
    "print('Intercept:', model.intercept_)\n",
    "print('Classification Report: \\n', classification_report(y_test, predictions))\n",
    "print('Confusion Metrix:\\n', confusion_matrix(y_test, predictions))\n",
    "print('Accuracy Score:', accuracy_score(y_test, predictions))\n",
    "print('Precision:', metrics.precision_score(y_test, predictions))\n",
    "print('Recall:', metrics.recall_score(y_test, predictions))"
   ]
  },
  {
   "cell_type": "markdown",
   "id": "924add21",
   "metadata": {},
   "source": [
    "#### We see that our model can provide about 82% accurate prediction"
   ]
  },
  {
   "cell_type": "markdown",
   "id": "7c05f9fb",
   "metadata": {},
   "source": [
    "#### Prediction"
   ]
  },
  {
   "cell_type": "markdown",
   "id": "7724ee69",
   "metadata": {},
   "source": [
    "###### Suppose a patient is 35 years old, had 15 lymph nodes next to his cancer cell and done surgery in 1964, now we have to predict using the model, did he live more tahn 5 years or did he die before that?"
   ]
  },
  {
   "cell_type": "code",
   "execution_count": 21,
   "id": "69b09616",
   "metadata": {},
   "outputs": [
    {
     "data": {
      "text/plain": [
       "array([0], dtype=int64)"
      ]
     },
     "execution_count": 21,
     "metadata": {},
     "output_type": "execute_result"
    }
   ],
   "source": [
    "new_observation = [[35, 64, 15]]\n",
    "\n",
    "model.predict(new_observation)"
   ]
  },
  {
   "cell_type": "markdown",
   "id": "f6574fd0",
   "metadata": {},
   "source": [
    "#### So he survived more than 5 years"
   ]
  },
  {
   "cell_type": "markdown",
   "id": "65f2de33",
   "metadata": {},
   "source": [
    "#### Probability value of the classes for this perticular patient"
   ]
  },
  {
   "cell_type": "code",
   "execution_count": 23,
   "id": "3b097915",
   "metadata": {},
   "outputs": [
    {
     "data": {
      "text/plain": [
       "array([[0.62361094, 0.37638906]])"
      ]
     },
     "execution_count": 23,
     "metadata": {},
     "output_type": "execute_result"
    }
   ],
   "source": [
    "model.predict_proba(new_observation)"
   ]
  },
  {
   "cell_type": "markdown",
   "id": "348149de",
   "metadata": {},
   "source": [
    "#### SO we see that this particular patient has probability to survive more than 5 years is 62% and not survive 5 than more 5 years is 37%"
   ]
  }
 ],
 "metadata": {
  "kernelspec": {
   "display_name": "Python 3",
   "language": "python",
   "name": "python3"
  },
  "language_info": {
   "codemirror_mode": {
    "name": "ipython",
    "version": 3
   },
   "file_extension": ".py",
   "mimetype": "text/x-python",
   "name": "python",
   "nbconvert_exporter": "python",
   "pygments_lexer": "ipython3",
   "version": "3.8.8"
  }
 },
 "nbformat": 4,
 "nbformat_minor": 5
}
