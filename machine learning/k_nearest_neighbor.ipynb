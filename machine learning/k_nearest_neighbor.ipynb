{
 "cells": [
  {
   "cell_type": "markdown",
   "id": "386a240f",
   "metadata": {},
   "source": [
    "## k Nearest Neighbor"
   ]
  },
  {
   "cell_type": "markdown",
   "id": "ef080fd6",
   "metadata": {},
   "source": [
    "#### Introduction of dataset"
   ]
  },
  {
   "cell_type": "markdown",
   "id": "2df39316",
   "metadata": {},
   "source": [
    "Here we will use the customer dataset of a telecom company. The dataset was collected from IBM BigData University. These datasets are divided into four categories based on the address, age, marital status, working age, gender, income, etc. of the customer / phone users of the telecom company. The classes are 1- Basic Service 2- E-Service 3- Plus Service and 4- Total Service. Our job is to predict what class the new person will be if he is a customer of this company."
   ]
  },
  {
   "cell_type": "markdown",
   "id": "6399bef4",
   "metadata": {},
   "source": [
    "#### Load the necessary packages and the dataset"
   ]
  },
  {
   "cell_type": "code",
   "execution_count": 78,
   "id": "e0788856",
   "metadata": {},
   "outputs": [
    {
     "data": {
      "text/html": [
       "<div>\n",
       "<style scoped>\n",
       "    .dataframe tbody tr th:only-of-type {\n",
       "        vertical-align: middle;\n",
       "    }\n",
       "\n",
       "    .dataframe tbody tr th {\n",
       "        vertical-align: top;\n",
       "    }\n",
       "\n",
       "    .dataframe thead th {\n",
       "        text-align: right;\n",
       "    }\n",
       "</style>\n",
       "<table border=\"1\" class=\"dataframe\">\n",
       "  <thead>\n",
       "    <tr style=\"text-align: right;\">\n",
       "      <th></th>\n",
       "      <th>region</th>\n",
       "      <th>tenure</th>\n",
       "      <th>age</th>\n",
       "      <th>marital</th>\n",
       "      <th>address</th>\n",
       "      <th>income</th>\n",
       "      <th>ed</th>\n",
       "      <th>employ</th>\n",
       "      <th>retire</th>\n",
       "      <th>gender</th>\n",
       "      <th>reside</th>\n",
       "      <th>custcat</th>\n",
       "    </tr>\n",
       "  </thead>\n",
       "  <tbody>\n",
       "    <tr>\n",
       "      <th>0</th>\n",
       "      <td>2</td>\n",
       "      <td>13</td>\n",
       "      <td>44</td>\n",
       "      <td>1</td>\n",
       "      <td>9</td>\n",
       "      <td>64.0</td>\n",
       "      <td>4</td>\n",
       "      <td>5</td>\n",
       "      <td>0.0</td>\n",
       "      <td>0</td>\n",
       "      <td>2</td>\n",
       "      <td>1</td>\n",
       "    </tr>\n",
       "    <tr>\n",
       "      <th>1</th>\n",
       "      <td>3</td>\n",
       "      <td>11</td>\n",
       "      <td>33</td>\n",
       "      <td>1</td>\n",
       "      <td>7</td>\n",
       "      <td>136.0</td>\n",
       "      <td>5</td>\n",
       "      <td>5</td>\n",
       "      <td>0.0</td>\n",
       "      <td>0</td>\n",
       "      <td>6</td>\n",
       "      <td>4</td>\n",
       "    </tr>\n",
       "    <tr>\n",
       "      <th>2</th>\n",
       "      <td>3</td>\n",
       "      <td>68</td>\n",
       "      <td>52</td>\n",
       "      <td>1</td>\n",
       "      <td>24</td>\n",
       "      <td>116.0</td>\n",
       "      <td>1</td>\n",
       "      <td>29</td>\n",
       "      <td>0.0</td>\n",
       "      <td>1</td>\n",
       "      <td>2</td>\n",
       "      <td>3</td>\n",
       "    </tr>\n",
       "    <tr>\n",
       "      <th>3</th>\n",
       "      <td>2</td>\n",
       "      <td>33</td>\n",
       "      <td>33</td>\n",
       "      <td>0</td>\n",
       "      <td>12</td>\n",
       "      <td>33.0</td>\n",
       "      <td>2</td>\n",
       "      <td>0</td>\n",
       "      <td>0.0</td>\n",
       "      <td>1</td>\n",
       "      <td>1</td>\n",
       "      <td>1</td>\n",
       "    </tr>\n",
       "    <tr>\n",
       "      <th>4</th>\n",
       "      <td>2</td>\n",
       "      <td>23</td>\n",
       "      <td>30</td>\n",
       "      <td>1</td>\n",
       "      <td>9</td>\n",
       "      <td>30.0</td>\n",
       "      <td>1</td>\n",
       "      <td>2</td>\n",
       "      <td>0.0</td>\n",
       "      <td>0</td>\n",
       "      <td>4</td>\n",
       "      <td>3</td>\n",
       "    </tr>\n",
       "  </tbody>\n",
       "</table>\n",
       "</div>"
      ],
      "text/plain": [
       "   region  tenure  age  marital  address  income  ed  employ  retire  gender  \\\n",
       "0       2      13   44        1        9    64.0   4       5     0.0       0   \n",
       "1       3      11   33        1        7   136.0   5       5     0.0       0   \n",
       "2       3      68   52        1       24   116.0   1      29     0.0       1   \n",
       "3       2      33   33        0       12    33.0   2       0     0.0       1   \n",
       "4       2      23   30        1        9    30.0   1       2     0.0       0   \n",
       "\n",
       "   reside  custcat  \n",
       "0       2        1  \n",
       "1       6        4  \n",
       "2       2        3  \n",
       "3       1        1  \n",
       "4       4        3  "
      ]
     },
     "execution_count": 78,
     "metadata": {},
     "output_type": "execute_result"
    }
   ],
   "source": [
    "import pandas as pd\n",
    "import numpy as np\n",
    "import seaborn as sns\n",
    "import matplotlib.pyplot as plt\n",
    "import matplotlib.ticker as ticker\n",
    "from sklearn import preprocessing\n",
    "from sklearn import metrics\n",
    "from sklearn.model_selection import train_test_split\n",
    "from sklearn.neighbors import KNeighborsClassifier\n",
    "from sklearn.metrics import confusion_matrix, accuracy_score\n",
    "from sklearn.metrics import classification_report\n",
    "\n",
    "df = pd.read_csv('data-telecom-customer.csv')\n",
    "df.head()"
   ]
  },
  {
   "cell_type": "markdown",
   "id": "9024b7cc",
   "metadata": {},
   "source": [
    "#### Set the feature variables and target variables"
   ]
  },
  {
   "cell_type": "code",
   "execution_count": 79,
   "id": "09ae7be7",
   "metadata": {},
   "outputs": [],
   "source": [
    "X = df[['region','tenure','age','marital','address','income','ed','employ','retire','gender','reside']]\n",
    "y = df['custcat']"
   ]
  },
  {
   "cell_type": "markdown",
   "id": "0465584f",
   "metadata": {},
   "source": [
    "#### Divide the data into`m 80% train and 20% test split."
   ]
  },
  {
   "cell_type": "code",
   "execution_count": 80,
   "id": "7a7cec65",
   "metadata": {},
   "outputs": [
    {
     "name": "stdout",
     "output_type": "stream",
     "text": [
      "Train set: (800, 11) (800,)\n",
      "Test set: (200, 11) (200,)\n"
     ]
    }
   ],
   "source": [
    "X_train, X_test, y_train, y_test = train_test_split( X, y, test_size=0.2, random_state=4)\n",
    "print ('Train set:', X_train.shape,  y_train.shape)\n",
    "print('Test set:', X_test.shape, y_test.shape)"
   ]
  },
  {
   "cell_type": "markdown",
   "id": "1e0d78da",
   "metadata": {},
   "source": [
    "#### Determining the perfect Value of K for this particular dataset."
   ]
  },
  {
   "cell_type": "code",
   "execution_count": 81,
   "id": "30b15dde",
   "metadata": {},
   "outputs": [
    {
     "name": "stdout",
     "output_type": "stream",
     "text": [
      "[0.275, 0.31, 0.275, 0.26, 0.3, 0.295, 0.35, 0.33, 0.32, 0.32, 0.345, 0.33, 0.32, 0.34, 0.355, 0.32, 0.335, 0.34, 0.355, 0.345, 0.325, 0.345, 0.345, 0.34, 0.335]\n"
     ]
    }
   ],
   "source": [
    "k_range = range(1, 26)\n",
    "\n",
    "scores = []\n",
    "for k in k_range:\n",
    "    model = KNeighborsClassifier(n_neighbors=k)\n",
    "    model.fit(X_train, y_train)\n",
    "    predictions = model.predict(X_test)\n",
    "    scores.append(metrics.accuracy_score(y_test, predictions))\n",
    "\n",
    "print(scores)"
   ]
  },
  {
   "cell_type": "code",
   "execution_count": 82,
   "id": "f3213902",
   "metadata": {},
   "outputs": [
    {
     "data": {
      "text/plain": [
       "Text(0, 0.5, 'Testing Acuuracy')"
      ]
     },
     "execution_count": 82,
     "metadata": {},
     "output_type": "execute_result"
    },
    {
     "data": {
      "image/png": "[encoded data removed]",
      "text/plain": [
       "<Figure size 432x288 with 1 Axes>"
      ]
     },
     "metadata": {
      "needs_background": "light"
     },
     "output_type": "display_data"
    }
   ],
   "source": [
    "plt.plot(k_range, scores)\n",
    "plt.xlabel('Value of K for KNN')\n",
    "plt.ylabel('Testing Acuuracy')"
   ]
  },
  {
   "cell_type": "markdown",
   "id": "2e425e91",
   "metadata": {},
   "source": [
    "##### Here the graphs shows the model accuracy for different value of \"K\". When the value of K=3, then the accuracy increase, On the other hand when the value of K=4, then the accuracy decrease. So its clear that for different value of K, sometime the accuracy is increased or decreased. Here the graph shows that when the K=7 the accuracy is fairly maximum. So for this particular dataset we determine the value of K=7. "
   ]
  },
  {
   "cell_type": "code",
   "execution_count": 83,
   "id": "f56a263e",
   "metadata": {},
   "outputs": [
    {
     "data": {
      "text/plain": [
       "KNeighborsClassifier(n_neighbors=7)"
      ]
     },
     "execution_count": 83,
     "metadata": {},
     "output_type": "execute_result"
    }
   ],
   "source": [
    "k = 7\n",
    "model2 = KNeighborsClassifier(n_neighbors=k)\n",
    "model2.fit(X_train, y_train)"
   ]
  },
  {
   "cell_type": "code",
   "execution_count": 84,
   "id": "8d5aba70",
   "metadata": {},
   "outputs": [
    {
     "data": {
      "text/plain": [
       "array([4, 4, 1, 4, 4, 4, 3, 1, 3, 2, 1, 3, 3, 3, 3, 1, 2, 2, 3, 1, 3, 3,\n",
       "       4, 1, 1, 3, 1, 2, 1, 4, 1, 2, 4, 2, 1, 2, 3, 1, 1, 1, 1, 1, 3, 2,\n",
       "       3, 1, 4, 1, 4, 2, 3, 4, 1, 4, 3, 1, 4, 3, 1, 1, 1, 3, 4, 2, 4, 1,\n",
       "       4, 3, 3, 4, 1, 3, 4, 3, 1, 2, 3, 1, 1, 3, 1, 3, 3, 1, 1, 3, 3, 4,\n",
       "       1, 4, 3, 1, 1, 3, 3, 3, 1, 4, 1, 1, 3, 1, 3, 1, 3, 2, 3, 4, 3, 1,\n",
       "       2, 1, 2, 4, 3, 3, 1, 2, 3, 1, 1, 1, 3, 1, 3, 1, 4, 3, 1, 1, 3, 3,\n",
       "       1, 2, 3, 3, 2, 1, 1, 3, 2, 3, 4, 1, 1, 1, 1, 4, 1, 4, 4, 3, 2, 3,\n",
       "       3, 4, 3, 3, 1, 2, 3, 1, 1, 1, 3, 2, 1, 1, 3, 1, 4, 1, 3, 2, 4, 2,\n",
       "       4, 4, 1, 1, 1, 3, 1, 1, 3, 3, 3, 1, 3, 1, 3, 1, 2, 1, 2, 2, 1, 3,\n",
       "       2, 3], dtype=int64)"
      ]
     },
     "execution_count": 84,
     "metadata": {},
     "output_type": "execute_result"
    }
   ],
   "source": [
    "predictions = model2.predict(X_test)\n",
    "predictions"
   ]
  },
  {
   "cell_type": "markdown",
   "id": "7fa517b5",
   "metadata": {},
   "source": [
    "#### Check the accuracy of the created model"
   ]
  },
  {
   "cell_type": "code",
   "execution_count": 88,
   "id": "75307f9a",
   "metadata": {},
   "outputs": [
    {
     "name": "stdout",
     "output_type": "stream",
     "text": [
      "Classification Report:\n",
      "               precision    recall  f1-score   support\n",
      "\n",
      "           1       0.37      0.55      0.44        51\n",
      "           2       0.37      0.23      0.28        44\n",
      "           3       0.34      0.41      0.37        54\n",
      "           4       0.30      0.20      0.24        51\n",
      "\n",
      "    accuracy                           0.35       200\n",
      "   macro avg       0.35      0.34      0.33       200\n",
      "weighted avg       0.35      0.35      0.34       200\n",
      "\n",
      "Confunsion Metrix:\n",
      " [[28  5 13  5]\n",
      " [ 8 10 18  8]\n",
      " [18  4 22 10]\n",
      " [21  8 12 10]]\n",
      "Accuracy Score: 0.35\n"
     ]
    }
   ],
   "source": [
    "print('Classification Report:\\n', classification_report(y_test, predictions))\n",
    "print('Confunsion Metrix:\\n', confusion_matrix(y_test, predictions))\n",
    "print('Accuracy Score:', accuracy_score(y_test, predictions))"
   ]
  },
  {
   "cell_type": "markdown",
   "id": "01f2826e",
   "metadata": {},
   "source": [
    "#### We can see that our model can predict 35% accurately. This standard is not very good as a model!"
   ]
  },
  {
   "cell_type": "markdown",
   "id": "15e5fa9a",
   "metadata": {},
   "source": [
    "#### Prediction with the new observationm"
   ]
  },
  {
   "cell_type": "code",
   "execution_count": 89,
   "id": "f16061d9",
   "metadata": {},
   "outputs": [
    {
     "data": {
      "text/plain": [
       "array([1], dtype=int64)"
      ]
     },
     "execution_count": 89,
     "metadata": {},
     "output_type": "execute_result"
    }
   ],
   "source": [
    "new_observation = [[2,11,0,22,0,1,40,3,5,0,1]]\n",
    "model2.predict(new_observation)"
   ]
  },
  {
   "cell_type": "code",
   "execution_count": null,
   "id": "5ab8919e",
   "metadata": {},
   "outputs": [],
   "source": [
    "We see that our new Customer belongds to class 1 thats mean the Basic Service class."
   ]
  },
  {
   "cell_type": "code",
   "execution_count": null,
   "id": "513d595a",
   "metadata": {},
   "outputs": [],
   "source": []
  }
 ],
 "metadata": {
  "kernelspec": {
   "display_name": "Python 3",
   "language": "python",
   "name": "python3"
  },
  "language_info": {
   "codemirror_mode": {
    "name": "ipython",
    "version": 3
   },
   "file_extension": ".py",
   "mimetype": "text/x-python",
   "name": "python",
   "nbconvert_exporter": "python",
   "pygments_lexer": "ipython3",
   "version": "3.8.8"
  }
 },
 "nbformat": 4,
 "nbformat_minor": 5
}
