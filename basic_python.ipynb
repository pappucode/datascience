{
 "cells": [
  {
   "cell_type": "code",
   "execution_count": 6,
   "id": "21e9b86b",
   "metadata": {},
   "outputs": [
    {
     "name": "stdout",
     "output_type": "stream",
     "text": [
      "I will now count my chickens: \n",
      "Hens 30.0\n",
      "Roosters 97\n"
     ]
    }
   ],
   "source": [
    "print (\"I will now count my chickens: \")\n",
    "print (\"Hens\", 25+30/6)\n",
    "print(\"Roosters\", 100-25*3%4)"
   ]
  },
  {
   "cell_type": "code",
   "execution_count": 8,
   "id": "220826a0",
   "metadata": {},
   "outputs": [
    {
     "name": "stdout",
     "output_type": "stream",
     "text": [
      "Now I will count the eggs: \n",
      "6.75\n"
     ]
    }
   ],
   "source": [
    "print(\"Now I will count the eggs: \")\n",
    "print(3+2+1-5+4%2-1/4+6)"
   ]
  },
  {
   "cell_type": "code",
   "execution_count": 9,
   "id": "a37215e4",
   "metadata": {},
   "outputs": [
    {
     "name": "stdout",
     "output_type": "stream",
     "text": [
      "Is it true that 3 + 2 < 5 - 7?\n"
     ]
    }
   ],
   "source": [
    "print(\"Is it true that 3 + 2 < 5 - 7?\")"
   ]
  },
  {
   "cell_type": "code",
   "execution_count": 17,
   "id": "a04686d8",
   "metadata": {},
   "outputs": [
    {
     "name": "stdout",
     "output_type": "stream",
     "text": [
      "False\n",
      "what is 3+2?  5\n",
      "what is 5-7? -2\n",
      "Oh that's why it's false\n",
      "How about some more.\n",
      "Is it greater? True\n",
      "Is it greater or equal? True\n",
      "Is it less or equal? False\n"
     ]
    }
   ],
   "source": [
    "print(3+2 < 5-7)\n",
    "print(\"what is 3+2? \", 3+2)\n",
    "print(\"what is 5-7?\", 5-7)\n",
    "print(\"Oh that's why it's false\")\n",
    "print(\"How about some more.\")\n",
    "print(\"Is it greater?\", 5>2)\n",
    "print(\"Is it greater or equal?\", 5>=-2)\n",
    "print(\"Is it less or equal?\", 5<= -2)"
   ]
  },
  {
   "cell_type": "code",
   "execution_count": 23,
   "id": "2e2119d8",
   "metadata": {},
   "outputs": [],
   "source": [
    "# Variables and Names\n",
    "cars = 100\n",
    "space_in_a_car = 4.0\n",
    "drivers = 30\n",
    "passengers = 90\n",
    "cars_not_driven = cars - drivers\n",
    "cars_driven = drivers\n",
    "carpool_capacity = cars_driven * space_in_a_car\n",
    "average_passengers_per_car = passengers / cars_driven"
   ]
  },
  {
   "cell_type": "code",
   "execution_count": 27,
   "id": "74240036",
   "metadata": {},
   "outputs": [
    {
     "name": "stdout",
     "output_type": "stream",
     "text": [
      "There are 100 cars available.\n",
      "There are only 30 drivers available.\n",
      "There will be 70 empty cars today\n",
      "We can transport 120.0 people today.\n",
      "We have 90 to carpool today.\n",
      "We need to put about 3.0 in each car\n"
     ]
    }
   ],
   "source": [
    "print(\"There are\", cars, \"cars available.\")\n",
    "print(\"There are only\", drivers, \"drivers available.\")\n",
    "print(\"There will be\", cars_not_driven, \"empty cars today\")\n",
    "print(\"We can transport\", carpool_capacity, \"people today.\")\n",
    "print(\"We have\", passengers, \"to carpool today.\")\n",
    "print(\"We need to put about\", average_passengers_per_car, \"in each car\")"
   ]
  },
  {
   "cell_type": "code",
   "execution_count": 35,
   "id": "ab252003",
   "metadata": {},
   "outputs": [],
   "source": [
    "# Formatted string\n",
    "my_name = \"Pappu Akondo\"\n",
    "my_age = 29\n",
    "my_height = 74 # inches\n",
    "my_weight = 180 # lbs\n",
    "my_eyes = \"Blue\"\n",
    "my_teeth = \"White\"\n",
    "my_hair = \"Brown\""
   ]
  },
  {
   "cell_type": "code",
   "execution_count": 38,
   "id": "bc763d49",
   "metadata": {},
   "outputs": [
    {
     "name": "stdout",
     "output_type": "stream",
     "text": [
      "Let's talk about Pappu Akondo\n",
      "He's 74 inches tall.\n",
      "He's 180 pounds heavy.\n",
      "Actually that's not too heavy.\n",
      "He's got Blue and Brown hair.\n",
      "His teeth are usually White depending on the coffee\n",
      "If I add (29, 74, 180) I get 283\n"
     ]
    }
   ],
   "source": [
    "print(f\"Let's talk about {my_name}\")\n",
    "print(f\"He's {my_height} inches tall.\")\n",
    "print(f\"He's {my_weight} pounds heavy.\")\n",
    "print(\"Actually that's not too heavy.\")\n",
    "print(f\"He's got {my_eyes} and {my_hair} hair.\")\n",
    "print(f\"His teeth are usually {my_teeth} depending on the coffee\")\n",
    "print(f\"If I add {my_age,my_height, my_weight} I get {my_age+my_height+my_weight}\")"
   ]
  },
  {
   "cell_type": "code",
   "execution_count": 49,
   "id": "9fb6c5e0",
   "metadata": {},
   "outputs": [
    {
     "name": "stdout",
     "output_type": "stream",
     "text": [
      "There are 10 types of people.\n",
      "Those who know binary and those who don't.\n",
      "I said: 'There are 10 types of people.'\n",
      "I also said: 'Those who know binary and those who don't.'\n",
      "Isn't that joke so funny?! False\n",
      "This is the left side od....a string with a right side.\n"
     ]
    }
   ],
   "source": [
    "x = \"There are 10 types of people.\"\n",
    "binary = \"binary\"\n",
    "do_not = \"don't\"\n",
    "y = f\"Those who know {binary} and those who {do_not}.\"\n",
    "\n",
    "print(x)\n",
    "print(y)\n",
    "\n",
    "print(f\"I said: '{x}'\")\n",
    "print(f\"I also said: '{y}'\")\n",
    "\n",
    "hilarious = False\n",
    "joke_eveluation = f\"Isn't that joke so funny?! {hilarious}\"\n",
    "\n",
    "print(joke_eveluation)\n",
    "\n",
    "w = \"This is the left side of....\"\n",
    "e = \"a string with a right side.\"\n",
    "\n",
    "print(w+e)"
   ]
  },
  {
   "cell_type": "code",
   "execution_count": 52,
   "id": "a57225f8",
   "metadata": {},
   "outputs": [
    {
     "name": "stdout",
     "output_type": "stream",
     "text": [
      "Mar had a little lamd.\n",
      "Its fleece was white as snow.\n",
      "And everywhere that mary went\n",
      "..........\n"
     ]
    }
   ],
   "source": [
    "print(\"Mar had a little lamd.\")\n",
    "print(\"Its fleece was white as %s.\" % 'snow')\n",
    "print(\"And everywhere that mary went\")\n",
    "print(\".\" * 10)"
   ]
  },
  {
   "cell_type": "code",
   "execution_count": 56,
   "id": "9eb51d4b",
   "metadata": {},
   "outputs": [
    {
     "name": "stdout",
     "output_type": "stream",
     "text": [
      "Cheese\n",
      "Burger\n"
     ]
    }
   ],
   "source": [
    "end1 = \"C\"\n",
    "end2 = \"h\"\n",
    "end3 = \"e\"\n",
    "end4 = \"e\"\n",
    "end5 = \"s\"\n",
    "end6 = \"e\"\n",
    "end7 = \"B\"\n",
    "end8 = \"u\"\n",
    "end9 = \"r\"\n",
    "end10 = \"g\"\n",
    "end11 = \"e\"\n",
    "end12 = \"r\"\n",
    "print (end1+end2+end3+end4+end5+end6),\n",
    "print (end7+end8+end9+end10+end11+end12)"
   ]
  },
  {
   "cell_type": "code",
   "execution_count": 63,
   "id": "d78c8b3f",
   "metadata": {},
   "outputs": [
    {
     "name": "stdout",
     "output_type": "stream",
     "text": [
      "1, 2, 3, 4\n",
      "'one', 'two', 'three', 'four'\n",
      "True False False True\n",
      "'I had this thing.',\n",
      "      'That you could type up right.',\n",
      "      'But it didn't sing.',\n",
      "      'So I said goodnight.'\n"
     ]
    }
   ],
   "source": [
    "print(f\"1, 2, 3, 4\")\n",
    "print(f\"'one', 'two', 'three', 'four'\")\n",
    "print(True, False, False, True)\n",
    "print(f\"\"\"'I had this thing.',\n",
    "      'That you could type up right.',\n",
    "      'But it didn't sing.',\n",
    "      'So I said goodnight.'\"\"\")"
   ]
  },
  {
   "cell_type": "code",
   "execution_count": 71,
   "id": "14654f2d",
   "metadata": {},
   "outputs": [
    {
     "name": "stdout",
     "output_type": "stream",
     "text": [
      "Here are the days:  Mon Tue Wed Fri Sat Sun\n",
      "Here are the months:  \n",
      "Jan\n",
      "Feb\n",
      "Mar\n",
      "Apr\n",
      "May\n",
      "Jun\n",
      "Jul\n",
      "Aug\n",
      " There's something going on here.\n",
      " With the three double-quotes.\n",
      " We'll be able to type as much as we like.\n",
      " Even 4 lines if we want, or 5, or 6.\n"
     ]
    }
   ],
   "source": [
    "days = \"Mon Tue Wed Fri Sat Sun\"\n",
    "months = \"\\nJan\\nFeb\\nMar\\nApr\\nMay\\nJun\\nJul\\nAug\"\n",
    "\n",
    "print(\"Here are the days: \", days)\n",
    "print(\"Here are the months: \", months)\n",
    "\n",
    "print(f\"\"\" There's something going on here.\n",
    " With the three double-quotes.\n",
    " We'll be able to type as much as we like.\n",
    " Even 4 lines if we want, or 5, or 6.\"\"\")"
   ]
  },
  {
   "cell_type": "code",
   "execution_count": 85,
   "id": "f36e4892",
   "metadata": {},
   "outputs": [
    {
     "name": "stdout",
     "output_type": "stream",
     "text": [
      "\t I'm tabbed in.\n",
      "I'm split \n",
      "on a line.\n",
      " I'll do a list:\n",
      "\t*cat food\n",
      "\t*Fishes\n",
      "\t*Catnip\n",
      "\t*Gass\n",
      "\n"
     ]
    }
   ],
   "source": [
    "tabby_cat = \"\\t I'm tabbed in.\"\n",
    "persian_cat = \"I'm split \\non a line.\"\n",
    "backlash_cat = \"I'm \\\\ a \\\\ cat\"\n",
    "fat_cat = \"\"\" I'll do a list:\n",
    "\\t*cat food\n",
    "\\t*Fishes\n",
    "\\t*Catnip\n",
    "\\t*Gass\n",
    "\"\"\"\n",
    "\n",
    "print(tabby_cat)\n",
    "print(persian_cat)\n",
    "print(fat_cat)"
   ]
  },
  {
   "cell_type": "code",
   "execution_count": 11,
   "id": "60f5ac21",
   "metadata": {},
   "outputs": [
    {
     "name": "stdout",
     "output_type": "stream",
     "text": [
      "How old are you? 30\n",
      "How tall are you? 6\n",
      "How much do you weight? 70\n",
      "So you are 30 years old 6 feet tall 70 kg heavy.\n"
     ]
    }
   ],
   "source": [
    "age = input(\"How old are you? \")\n",
    "height = input(\"How tall are you? \")\n",
    "weight = input(\"How much do you weight? \")\n",
    "print(f\"So you are {age} years old {height} feet tall {weight} kg heavy.\")"
   ]
  },
  {
   "cell_type": "code",
   "execution_count": null,
   "id": "e60e6c1b",
   "metadata": {},
   "outputs": [],
   "source": []
  },
  {
   "cell_type": "code",
   "execution_count": null,
   "id": "2434da15",
   "metadata": {},
   "outputs": [],
   "source": []
  },
  {
   "cell_type": "code",
   "execution_count": null,
   "id": "dcd515a9",
   "metadata": {},
   "outputs": [],
   "source": []
  },
  {
   "cell_type": "code",
   "execution_count": null,
   "id": "581a4333",
   "metadata": {},
   "outputs": [],
   "source": []
  },
  {
   "cell_type": "code",
   "execution_count": null,
   "id": "307d67e4",
   "metadata": {},
   "outputs": [],
   "source": []
  },
  {
   "cell_type": "code",
   "execution_count": null,
   "id": "137d9cd6",
   "metadata": {},
   "outputs": [],
   "source": []
  },
  {
   "cell_type": "code",
   "execution_count": null,
   "id": "28df4f55",
   "metadata": {},
   "outputs": [],
   "source": []
  },
  {
   "cell_type": "code",
   "execution_count": null,
   "id": "b102a590",
   "metadata": {},
   "outputs": [],
   "source": []
  },
  {
   "cell_type": "code",
   "execution_count": null,
   "id": "323374ec",
   "metadata": {},
   "outputs": [],
   "source": []
  },
  {
   "cell_type": "code",
   "execution_count": null,
   "id": "f3bc1c2a",
   "metadata": {},
   "outputs": [],
   "source": []
  },
  {
   "cell_type": "code",
   "execution_count": null,
   "id": "16eea7fb",
   "metadata": {},
   "outputs": [],
   "source": []
  },
  {
   "cell_type": "code",
   "execution_count": null,
   "id": "e91f59a3",
   "metadata": {},
   "outputs": [],
   "source": []
  },
  {
   "cell_type": "code",
   "execution_count": null,
   "id": "71ff55d5",
   "metadata": {},
   "outputs": [],
   "source": []
  },
  {
   "cell_type": "code",
   "execution_count": null,
   "id": "a387cf5b",
   "metadata": {},
   "outputs": [],
   "source": []
  },
  {
   "cell_type": "code",
   "execution_count": null,
   "id": "946b8a03",
   "metadata": {},
   "outputs": [],
   "source": []
  },
  {
   "cell_type": "code",
   "execution_count": null,
   "id": "e83d54ac",
   "metadata": {},
   "outputs": [],
   "source": []
  },
  {
   "cell_type": "code",
   "execution_count": null,
   "id": "610c3dce",
   "metadata": {},
   "outputs": [],
   "source": []
  },
  {
   "cell_type": "code",
   "execution_count": null,
   "id": "db8ca48b",
   "metadata": {},
   "outputs": [],
   "source": []
  },
  {
   "cell_type": "code",
   "execution_count": null,
   "id": "f1f4e7ec",
   "metadata": {},
   "outputs": [],
   "source": []
  },
  {
   "cell_type": "code",
   "execution_count": null,
   "id": "62093e94",
   "metadata": {},
   "outputs": [],
   "source": []
  },
  {
   "cell_type": "code",
   "execution_count": null,
   "id": "455590d3",
   "metadata": {},
   "outputs": [],
   "source": []
  },
  {
   "cell_type": "code",
   "execution_count": null,
   "id": "2dcf9997",
   "metadata": {},
   "outputs": [],
   "source": []
  },
  {
   "cell_type": "code",
   "execution_count": null,
   "id": "d08b9611",
   "metadata": {},
   "outputs": [],
   "source": []
  },
  {
   "cell_type": "code",
   "execution_count": null,
   "id": "1b81da10",
   "metadata": {},
   "outputs": [],
   "source": []
  },
  {
   "cell_type": "code",
   "execution_count": null,
   "id": "04528e99",
   "metadata": {},
   "outputs": [],
   "source": []
  },
  {
   "cell_type": "code",
   "execution_count": null,
   "id": "2346b881",
   "metadata": {},
   "outputs": [],
   "source": []
  },
  {
   "cell_type": "code",
   "execution_count": null,
   "id": "16a1de8e",
   "metadata": {},
   "outputs": [],
   "source": []
  }
 ],
 "metadata": {
  "kernelspec": {
   "display_name": "Python 3",
   "language": "python",
   "name": "python3"
  },
  "language_info": {
   "codemirror_mode": {
    "name": "ipython",
    "version": 3
   },
   "file_extension": ".py",
   "mimetype": "text/x-python",
   "name": "python",
   "nbconvert_exporter": "python",
   "pygments_lexer": "ipython3",
   "version": "3.8.8"
  }
 },
 "nbformat": 4,
 "nbformat_minor": 5
}
