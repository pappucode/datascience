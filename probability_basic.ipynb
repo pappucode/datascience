{
 "cells": [
  {
   "cell_type": "markdown",
   "id": "b79845a1",
   "metadata": {},
   "source": [
    "#### Probability Function"
   ]
  },
  {
   "cell_type": "code",
   "execution_count": 105,
   "id": "b114fde9",
   "metadata": {},
   "outputs": [],
   "source": [
    "def Probability(favourable_outcome, total_outcome):\n",
    "  p=favourable_outcome/total_outcome\n",
    "  print(\"Probability is\",round(p, 3))"
   ]
  },
  {
   "cell_type": "markdown",
   "id": "4566ac14",
   "metadata": {},
   "source": [
    "#### Probality of 6 in a single die"
   ]
  },
  {
   "cell_type": "code",
   "execution_count": 106,
   "id": "ef455980",
   "metadata": {},
   "outputs": [
    {
     "name": "stdout",
     "output_type": "stream",
     "text": [
      "Probability is 0.167\n"
     ]
    }
   ],
   "source": [
    "favourable_outcome=1\n",
    "total_outcome=6\n",
    "Probability(favourable_outcome, total_outcome)"
   ]
  },
  {
   "cell_type": "markdown",
   "id": "08a5f5a0",
   "metadata": {},
   "source": [
    "#### Law of large Number"
   ]
  },
  {
   "cell_type": "code",
   "execution_count": 87,
   "id": "a1cfb71a",
   "metadata": {},
   "outputs": [
    {
     "name": "stdout",
     "output_type": "stream",
     "text": [
      "Number of trails:  100\n",
      "Head =  51\n",
      "Tail =  49\n"
     ]
    }
   ],
   "source": [
    "from random import randint\n",
    "trails = 100\n",
    "outcomes = []\n",
    "\n",
    "for x in range(trails):\n",
    "    outcomes.append(randint(0,1))\n",
    "    \n",
    "head = outcomes.count(0)\n",
    "tail = outcomes.count(1)\n",
    "\n",
    "print(\"Number of trails: \", trails)\n",
    "print(\"Head = \", head)\n",
    "print(\"Tail = \", tail)\n"
   ]
  },
  {
   "cell_type": "markdown",
   "id": "1e767842",
   "metadata": {},
   "source": [
    "#### Lodu Game"
   ]
  },
  {
   "cell_type": "code",
   "execution_count": 99,
   "id": "20581e7b",
   "metadata": {},
   "outputs": [
    {
     "name": "stdout",
     "output_type": "stream",
     "text": [
      "Total number of Trails:  10000\n",
      "One =  1674\n",
      "Two =  1662\n",
      "Three =  1695\n",
      "Four =  1645\n",
      "Five =  1684\n",
      "Six =  1640\n"
     ]
    }
   ],
   "source": [
    "trails = 10000\n",
    "outcomes = []\n",
    "\n",
    "for x in range(trails):\n",
    "    outcomes.append(randint(1, 6))\n",
    "    \n",
    "one = outcomes.count(1)\n",
    "two = outcomes.count(2)\n",
    "three = outcomes.count(3)\n",
    "four = outcomes.count(4)\n",
    "five = outcomes.count(5)\n",
    "six = outcomes.count(6)\n",
    "\n",
    "print(\"Total number of Trails: \", trails)\n",
    "print(\"One = \", one)\n",
    "print(\"Two = \", two)\n",
    "print(\"Three = \", three)\n",
    "print(\"Four = \", four)\n",
    "print(\"Five = \", five)\n",
    "print(\"Six = \", six)"
   ]
  },
  {
   "cell_type": "markdown",
   "id": "32bc028a",
   "metadata": {},
   "source": [
    "#### Multiplication formula in Probability for Independent Event"
   ]
  },
  {
   "cell_type": "code",
   "execution_count": 11,
   "id": "d0a75a6b",
   "metadata": {},
   "outputs": [],
   "source": [
    "def a_and_b(a,b,total):\n",
    "   pa=a/total\n",
    "   pb=b/total\n",
    "   ab=pa*pb\n",
    "   print(\"P(A and B)=\",round(ab, 3))\n"
   ]
  },
  {
   "cell_type": "markdown",
   "id": "22ca31d9",
   "metadata": {},
   "source": [
    "#একটি পাত্রে ৩ টি নীল মার্বেল ,২ টি লাল এবং ৪ টি হলুদ মার্বেল রাখা আছে। এখন আপনাকে বলা হোল প্রথমে একটি মার্বেল তুলবেন,সেটির রং লিখে\n",
    "#রাখবেন এবং পাত্রে ফেরত রাখবেন। এরপর আবার আরেকটি মার্বেল তুলবেন এবং সেটির রংও লিখে রাখবেন। এখন প্রথম মার্বেলটি লাল হবার পরে #দ্বিতীয়টি নীল হবার প্রবাবিলিটি কত ?"
   ]
  },
  {
   "cell_type": "code",
   "execution_count": 12,
   "id": "8d6644f7",
   "metadata": {},
   "outputs": [
    {
     "name": "stdout",
     "output_type": "stream",
     "text": [
      "P(A and B)= 0.074\n"
     ]
    }
   ],
   "source": [
    "red = 2\n",
    "blue = 3\n",
    "total = 9\n",
    "a_and_b(red, blue, total)"
   ]
  },
  {
   "cell_type": "markdown",
   "id": "d3f47def",
   "metadata": {},
   "source": [
    "#### Multiplication formula in Probability for Dependent Event"
   ]
  },
  {
   "cell_type": "code",
   "execution_count": 13,
   "id": "e390d253",
   "metadata": {},
   "outputs": [],
   "source": [
    "def a_and_b_conditional(a, b, total):\n",
    "    pa = a/total\n",
    "    remaining_total = total-1\n",
    "    remaining_probability = b/remaining_total\n",
    "    ab = pa * remaining_probability\n",
    "    print(\"P(A and B) = \", round(ab, 3))"
   ]
  },
  {
   "cell_type": "markdown",
   "id": "8123cc0e",
   "metadata": {},
   "source": [
    "#### Example"
   ]
  },
  {
   "cell_type": "code",
   "execution_count": 14,
   "id": "cf9cf7e7",
   "metadata": {},
   "outputs": [],
   "source": [
    "#একটি বাক্সে ৫ টি সবুজ পেন্সিল এবং ৭ টি হলুদ পেন্সিল আছে। ধরুন আপনি প্রথমে একটি হলুদ পেন্সিল তুললেন এবং সেটি আর ফেরত \n",
    "#রাখলেন না । এবার দ্বিতীয় পেন্সিল তুললে সেটিও হলুদ হবার প্রবাবিলিটি কত ?"
   ]
  },
  {
   "cell_type": "markdown",
   "id": "8e869397",
   "metadata": {},
   "source": [
    "#### Solution"
   ]
  },
  {
   "cell_type": "code",
   "execution_count": 15,
   "id": "fe53bba9",
   "metadata": {},
   "outputs": [
    {
     "name": "stdout",
     "output_type": "stream",
     "text": [
      "P(A and B) =  0.318\n"
     ]
    }
   ],
   "source": [
    "yellow = 7\n",
    "remaining_yellow = 6\n",
    "total = 12\n",
    "a_and_b_conditional(yellow, remaining_yellow, total)\n"
   ]
  },
  {
   "cell_type": "markdown",
   "id": "936c3546",
   "metadata": {},
   "source": [
    "#### Addition formula of Probability for Mutually Exclusive Event"
   ]
  },
  {
   "cell_type": "code",
   "execution_count": 25,
   "id": "676dc160",
   "metadata": {},
   "outputs": [],
   "source": [
    "def a_or_b(a, b, total):\n",
    "    pa = a/total\n",
    "    pb = a/total\n",
    "    ab = pa+pb\n",
    "    print(\"P(A or B)= \", round(ab, 3))\n",
    "    "
   ]
  },
  {
   "cell_type": "markdown",
   "id": "11ea7c28",
   "metadata": {},
   "source": [
    "#### Example"
   ]
  },
  {
   "cell_type": "code",
   "execution_count": 26,
   "id": "caf7a254",
   "metadata": {},
   "outputs": [],
   "source": [
    "#একটি কিং অথবা কুইন হবে তার প্রবাবিলিটি : মনে করুন আপনাকে ৫২ টি তাসের একটি প্যাকেট থেকে যেকোনো একটি তাস বাছাই করতে বলা হোল।\n",
    "#আপনার বাছাইকৃত তাসটি একটি কিং অথবা কুইন হবে তার প্রবাবিলিটি কত ?"
   ]
  },
  {
   "cell_type": "code",
   "execution_count": 27,
   "id": "c79c6003",
   "metadata": {},
   "outputs": [
    {
     "name": "stdout",
     "output_type": "stream",
     "text": [
      "P(A or B)=  0.154\n"
     ]
    }
   ],
   "source": [
    "king = 4\n",
    "queen = 4\n",
    "total = 52\n",
    "a_or_b(king, queen, total)"
   ]
  },
  {
   "cell_type": "markdown",
   "id": "47961480",
   "metadata": {},
   "source": [
    "#### Addition formula of Probability for Common Event"
   ]
  },
  {
   "cell_type": "code",
   "execution_count": 28,
   "id": "eac3950b",
   "metadata": {},
   "outputs": [],
   "source": [
    "def a_or_b_common(a, b, anb, total):\n",
    "    pa = a/total\n",
    "    pb = b/total\n",
    "    a_and_b = anb/total\n",
    "    ab = pa+pb-a_and_b\n",
    "    print(\"P(A or B) = \", round(ab, 3))\n",
    "    "
   ]
  },
  {
   "cell_type": "markdown",
   "id": "b86ca6a7",
   "metadata": {},
   "source": [
    "#### Example"
   ]
  },
  {
   "cell_type": "code",
   "execution_count": null,
   "id": "33797645",
   "metadata": {},
   "outputs": [],
   "source": [
    "#কোন একটি ক্লাসে মোট ৩০ জন শিক্ষার্থী আছে, যাদের ভেতরে ১৭ জন ছেলে এবং ১৩ জন মেয়ে। ক্লাস টেস্টে ৪ জন ছেলে এবং ৫ জন মেয়ে A+\n",
    "#পেয়েছে। এখন যদি আপনাকে র‍্যান্ডমলি একজন শিক্ষার্থী বাছাই করতে বলা হয় তাহলে ঐ শিক্ষার্থীর মেয়ে অথবা A+ পাবার প্রবাবিলিটি কত হবে ?"
   ]
  },
  {
   "cell_type": "code",
   "execution_count": 31,
   "id": "615f4f52",
   "metadata": {},
   "outputs": [
    {
     "name": "stdout",
     "output_type": "stream",
     "text": [
      "P(A or B) =  0.567\n"
     ]
    }
   ],
   "source": [
    "girl = 13\n",
    "aplus = 9\n",
    "girl_and_aplus = 5\n",
    "total = 30\n",
    "a_or_b_common(girl,aplus, girl_and_aplus, total)"
   ]
  },
  {
   "cell_type": "markdown",
   "id": "0197b754",
   "metadata": {},
   "source": [
    "####  Formula Bayes Theorem"
   ]
  },
  {
   "cell_type": "code",
   "execution_count": 32,
   "id": "8f89f90f",
   "metadata": {},
   "outputs": [],
   "source": [
    "def bayes(a,b,ba):\n",
    "    ab = a * ba/b\n",
    "    print(\"P(A|B)= \", round(ab, 3))"
   ]
  },
  {
   "cell_type": "markdown",
   "id": "33e3c9f3",
   "metadata": {},
   "source": [
    "#### Example"
   ]
  },
  {
   "cell_type": "code",
   "execution_count": null,
   "id": "21e8be52",
   "metadata": {},
   "outputs": [],
   "source": [
    "#ধরে নিন জানুয়ারি মাসের কোন এক শুক্রবার আপনি পরিবার এবং বন্ধুদের নিয়ে বাইরে কোথাও পিকনিকে যাবার প্ল্যান করেছেন। শুক্রবার দিন সকালে\n",
    "#ঘুম থেকে উঠেই দেখলেন আকাশটা মেঘলা, আর আপনার কপালেও দুশ্চিন্তার ছাপ , বৃষ্টি হলে আপনার সব প্ল্যান বাতিল ! অবস্থায় আপনার কাছে\n",
    "#পূর্বের কিছু ইনফরমেশন আছে, এই ইনফরমেশন গুলোকে কাজে লাগিয়ে আপনি জানতে চাচ্ছেন আজকে বৃষ্টি হবার প্রবাবিলিটি আসলে কত ?\n",
    "\n",
    "#পূর্বের ইনফরমেশন\n",
    "#৪০% দিনেই সকাল বেলায় আকাশ মেঘলা থাকে\n",
    "#৫০% ক্ষেত্রে মেঘলা আকাশ থাকলেই বৃষ্টিপাত হয়\n",
    "#জানুয়ারি মাসে সাধারনত ৩ দিনের বেশী বৃষ্টি হয় না ( ১০%)"
   ]
  },
  {
   "cell_type": "code",
   "execution_count": 35,
   "id": "f2a7670b",
   "metadata": {},
   "outputs": [
    {
     "name": "stdout",
     "output_type": "stream",
     "text": [
      "P(A|B)=  0.125\n"
     ]
    }
   ],
   "source": [
    "rain = .1\n",
    "cloud = .4\n",
    "cloud_given_rain = .5\n",
    "bayes(rain, cloud, cloud_given_rain)"
   ]
  },
  {
   "cell_type": "code",
   "execution_count": null,
   "id": "1a4ff0bd",
   "metadata": {},
   "outputs": [],
   "source": []
  },
  {
   "cell_type": "code",
   "execution_count": null,
   "id": "8afdafa8",
   "metadata": {},
   "outputs": [],
   "source": []
  },
  {
   "cell_type": "code",
   "execution_count": null,
   "id": "27490d53",
   "metadata": {},
   "outputs": [],
   "source": []
  },
  {
   "cell_type": "code",
   "execution_count": null,
   "id": "923a8764",
   "metadata": {},
   "outputs": [],
   "source": []
  },
  {
   "cell_type": "code",
   "execution_count": null,
   "id": "4625452f",
   "metadata": {},
   "outputs": [],
   "source": []
  }
 ],
 "metadata": {
  "kernelspec": {
   "display_name": "Python 3",
   "language": "python",
   "name": "python3"
  },
  "language_info": {
   "codemirror_mode": {
    "name": "ipython",
    "version": 3
   },
   "file_extension": ".py",
   "mimetype": "text/x-python",
   "name": "python",
   "nbconvert_exporter": "python",
   "pygments_lexer": "ipython3",
   "version": "3.8.8"
  }
 },
 "nbformat": 4,
 "nbformat_minor": 5
}
