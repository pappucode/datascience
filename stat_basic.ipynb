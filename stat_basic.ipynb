{
 "cells": [
  {
   "cell_type": "markdown",
   "id": "754a7c5c",
   "metadata": {},
   "source": [
    "#### Read the dataset"
   ]
  },
  {
   "cell_type": "code",
   "execution_count": 1,
   "id": "d45da8c4",
   "metadata": {},
   "outputs": [
    {
     "data": {
      "text/html": [
       "<div>\n",
       "<style scoped>\n",
       "    .dataframe tbody tr th:only-of-type {\n",
       "        vertical-align: middle;\n",
       "    }\n",
       "\n",
       "    .dataframe tbody tr th {\n",
       "        vertical-align: top;\n",
       "    }\n",
       "\n",
       "    .dataframe thead th {\n",
       "        text-align: right;\n",
       "    }\n",
       "</style>\n",
       "<table border=\"1\" class=\"dataframe\">\n",
       "  <thead>\n",
       "    <tr style=\"text-align: right;\">\n",
       "      <th></th>\n",
       "      <th>Name</th>\n",
       "      <th>StudyTime</th>\n",
       "      <th>GamingHour</th>\n",
       "      <th>GPA</th>\n",
       "    </tr>\n",
       "  </thead>\n",
       "  <tbody>\n",
       "    <tr>\n",
       "      <th>0</th>\n",
       "      <td>Monir</td>\n",
       "      <td>4.0</td>\n",
       "      <td>0.5</td>\n",
       "      <td>3.55</td>\n",
       "    </tr>\n",
       "    <tr>\n",
       "      <th>1</th>\n",
       "      <td>Jony</td>\n",
       "      <td>2.5</td>\n",
       "      <td>1.0</td>\n",
       "      <td>2.35</td>\n",
       "    </tr>\n",
       "    <tr>\n",
       "      <th>2</th>\n",
       "      <td>Gopal</td>\n",
       "      <td>3.0</td>\n",
       "      <td>0.5</td>\n",
       "      <td>3.07</td>\n",
       "    </tr>\n",
       "    <tr>\n",
       "      <th>3</th>\n",
       "      <td>Habib</td>\n",
       "      <td>6.0</td>\n",
       "      <td>0.0</td>\n",
       "      <td>3.93</td>\n",
       "    </tr>\n",
       "    <tr>\n",
       "      <th>4</th>\n",
       "      <td>Kona</td>\n",
       "      <td>5.0</td>\n",
       "      <td>0.5</td>\n",
       "      <td>3.97</td>\n",
       "    </tr>\n",
       "    <tr>\n",
       "      <th>5</th>\n",
       "      <td>Bablu</td>\n",
       "      <td>1.0</td>\n",
       "      <td>3.0</td>\n",
       "      <td>2.43</td>\n",
       "    </tr>\n",
       "    <tr>\n",
       "      <th>6</th>\n",
       "      <td>Sara</td>\n",
       "      <td>3.5</td>\n",
       "      <td>0.0</td>\n",
       "      <td>3.61</td>\n",
       "    </tr>\n",
       "    <tr>\n",
       "      <th>7</th>\n",
       "      <td>Javed</td>\n",
       "      <td>4.0</td>\n",
       "      <td>0.5</td>\n",
       "      <td>3.67</td>\n",
       "    </tr>\n",
       "    <tr>\n",
       "      <th>8</th>\n",
       "      <td>Hasib</td>\n",
       "      <td>2.0</td>\n",
       "      <td>1.0</td>\n",
       "      <td>2.97</td>\n",
       "    </tr>\n",
       "    <tr>\n",
       "      <th>9</th>\n",
       "      <td>Hridoy</td>\n",
       "      <td>1.5</td>\n",
       "      <td>2.0</td>\n",
       "      <td>2.81</td>\n",
       "    </tr>\n",
       "  </tbody>\n",
       "</table>\n",
       "</div>"
      ],
      "text/plain": [
       "     Name  StudyTime  GamingHour   GPA\n",
       "0   Monir        4.0         0.5  3.55\n",
       "1    Jony        2.5         1.0  2.35\n",
       "2   Gopal        3.0         0.5  3.07\n",
       "3   Habib        6.0         0.0  3.93\n",
       "4    Kona        5.0         0.5  3.97\n",
       "5   Bablu        1.0         3.0  2.43\n",
       "6    Sara        3.5         0.0  3.61\n",
       "7   Javed        4.0         0.5  3.67\n",
       "8   Hasib        2.0         1.0  2.97\n",
       "9  Hridoy        1.5         2.0  2.81"
      ]
     },
     "execution_count": 1,
     "metadata": {},
     "output_type": "execute_result"
    }
   ],
   "source": [
    "import numpy as np\n",
    "import pandas as pd\n",
    "\n",
    "df = pd.read_csv('GPA.csv')\n",
    "df"
   ]
  },
  {
   "cell_type": "markdown",
   "id": "1eb4ddaf",
   "metadata": {},
   "source": [
    "#### Use of count function"
   ]
  },
  {
   "cell_type": "code",
   "execution_count": 2,
   "id": "263b0e87",
   "metadata": {},
   "outputs": [
    {
     "data": {
      "text/plain": [
       "Name          10\n",
       "StudyTime     10\n",
       "GamingHour    10\n",
       "GPA           10\n",
       "dtype: int64"
      ]
     },
     "execution_count": 2,
     "metadata": {},
     "output_type": "execute_result"
    }
   ],
   "source": [
    "df.count()"
   ]
  },
  {
   "cell_type": "markdown",
   "id": "42fd2f57",
   "metadata": {},
   "source": [
    "#### Adding all the values of a variable"
   ]
  },
  {
   "cell_type": "code",
   "execution_count": 4,
   "id": "26afe55c",
   "metadata": {},
   "outputs": [
    {
     "data": {
      "text/plain": [
       "9.0"
      ]
     },
     "execution_count": 4,
     "metadata": {},
     "output_type": "execute_result"
    }
   ],
   "source": [
    "df['GamingHour'].sum()"
   ]
  },
  {
   "cell_type": "markdown",
   "id": "fcdcb4b2",
   "metadata": {},
   "source": [
    "#### Use of cumulative sam"
   ]
  },
  {
   "cell_type": "code",
   "execution_count": 6,
   "id": "6b020351",
   "metadata": {},
   "outputs": [
    {
     "data": {
      "text/plain": [
       "0    0.5\n",
       "1    1.5\n",
       "2    2.0\n",
       "3    2.0\n",
       "4    2.5\n",
       "5    5.5\n",
       "6    5.5\n",
       "7    6.0\n",
       "8    7.0\n",
       "9    9.0\n",
       "Name: GamingHour, dtype: float64"
      ]
     },
     "execution_count": 6,
     "metadata": {},
     "output_type": "execute_result"
    }
   ],
   "source": [
    "df['GamingHour'].cumsum()"
   ]
  },
  {
   "cell_type": "markdown",
   "id": "c7a211dd",
   "metadata": {},
   "source": [
    "#### Use of mean function"
   ]
  },
  {
   "cell_type": "code",
   "execution_count": 7,
   "id": "9018977e",
   "metadata": {},
   "outputs": [
    {
     "data": {
      "text/plain": [
       "StudyTime     3.250\n",
       "GamingHour    0.900\n",
       "GPA           3.236\n",
       "dtype: float64"
      ]
     },
     "execution_count": 7,
     "metadata": {},
     "output_type": "execute_result"
    }
   ],
   "source": [
    "df.mean()"
   ]
  },
  {
   "cell_type": "markdown",
   "id": "e4255793",
   "metadata": {},
   "source": [
    "#### Use of median"
   ]
  },
  {
   "cell_type": "code",
   "execution_count": 9,
   "id": "11d98035",
   "metadata": {},
   "outputs": [
    {
     "data": {
      "text/plain": [
       "StudyTime     3.25\n",
       "GamingHour    0.50\n",
       "GPA           3.31\n",
       "dtype: float64"
      ]
     },
     "execution_count": 9,
     "metadata": {},
     "output_type": "execute_result"
    }
   ],
   "source": [
    "df.median()"
   ]
  },
  {
   "cell_type": "markdown",
   "id": "be1239aa",
   "metadata": {},
   "source": [
    "#### Determine the mode of a variable"
   ]
  },
  {
   "cell_type": "code",
   "execution_count": 11,
   "id": "f8562a27",
   "metadata": {},
   "outputs": [
    {
     "data": {
      "text/plain": [
       "0    4.0\n",
       "dtype: float64"
      ]
     },
     "execution_count": 11,
     "metadata": {},
     "output_type": "execute_result"
    }
   ],
   "source": [
    "df['StudyTime'].mode()"
   ]
  },
  {
   "cell_type": "markdown",
   "id": "47badf71",
   "metadata": {},
   "source": [
    "#### Maximum and minimum diagnosis"
   ]
  },
  {
   "cell_type": "code",
   "execution_count": 12,
   "id": "a7034ff0",
   "metadata": {},
   "outputs": [
    {
     "data": {
      "text/plain": [
       "Name          Sara\n",
       "StudyTime      6.0\n",
       "GamingHour     3.0\n",
       "GPA           3.97\n",
       "dtype: object"
      ]
     },
     "execution_count": 12,
     "metadata": {},
     "output_type": "execute_result"
    }
   ],
   "source": [
    "df.max()"
   ]
  },
  {
   "cell_type": "code",
   "execution_count": 13,
   "id": "915cda57",
   "metadata": {},
   "outputs": [
    {
     "data": {
      "text/plain": [
       "Name          Bablu\n",
       "StudyTime       1.0\n",
       "GamingHour      0.0\n",
       "GPA            2.35\n",
       "dtype: object"
      ]
     },
     "execution_count": 13,
     "metadata": {},
     "output_type": "execute_result"
    }
   ],
   "source": [
    "df.min()"
   ]
  },
  {
   "cell_type": "markdown",
   "id": "26dc96c1",
   "metadata": {},
   "source": [
    "#### Diagnosis the range"
   ]
  },
  {
   "cell_type": "code",
   "execution_count": 22,
   "id": "67d4a7f8",
   "metadata": {},
   "outputs": [
    {
     "data": {
      "text/plain": [
       "StudyTime     5.00\n",
       "GamingHour    3.00\n",
       "GPA           1.62\n",
       "dtype: float64"
      ]
     },
     "execution_count": 22,
     "metadata": {},
     "output_type": "execute_result"
    }
   ],
   "source": [
    "#range = df[['StudyTime','GamingHour','GPA']].max()- df[['StudyTime','GamingHour','GPA']].min()\n",
    "range = df.loc[:, df.columns != 'Name'].max()-df.loc[:, df.columns !='Name'].min()\n",
    "range"
   ]
  },
  {
   "cell_type": "markdown",
   "id": "86233026",
   "metadata": {},
   "source": [
    "#### Determine the Variance"
   ]
  },
  {
   "cell_type": "code",
   "execution_count": 23,
   "id": "bd829ce0",
   "metadata": {},
   "outputs": [
    {
     "data": {
      "text/plain": [
       "StudyTime     2.458333\n",
       "GamingHour    0.877778\n",
       "GPA           0.351293\n",
       "dtype: float64"
      ]
     },
     "execution_count": 23,
     "metadata": {},
     "output_type": "execute_result"
    }
   ],
   "source": [
    "df.var()"
   ]
  },
  {
   "cell_type": "markdown",
   "id": "8723aef2",
   "metadata": {},
   "source": [
    "#### Determine the Standard Deviation"
   ]
  },
  {
   "cell_type": "code",
   "execution_count": 24,
   "id": "950b47f1",
   "metadata": {},
   "outputs": [
    {
     "data": {
      "text/plain": [
       "StudyTime     1.567907\n",
       "GamingHour    0.936898\n",
       "GPA           0.592700\n",
       "dtype: float64"
      ]
     },
     "execution_count": 24,
     "metadata": {},
     "output_type": "execute_result"
    }
   ],
   "source": [
    "df.std()"
   ]
  },
  {
   "cell_type": "markdown",
   "id": "d56b5b12",
   "metadata": {},
   "source": [
    "#### Determine the Covariance Matrix"
   ]
  },
  {
   "cell_type": "code",
   "execution_count": 25,
   "id": "8c2bc3e0",
   "metadata": {},
   "outputs": [
    {
     "data": {
      "text/html": [
       "<div>\n",
       "<style scoped>\n",
       "    .dataframe tbody tr th:only-of-type {\n",
       "        vertical-align: middle;\n",
       "    }\n",
       "\n",
       "    .dataframe tbody tr th {\n",
       "        vertical-align: top;\n",
       "    }\n",
       "\n",
       "    .dataframe thead th {\n",
       "        text-align: right;\n",
       "    }\n",
       "</style>\n",
       "<table border=\"1\" class=\"dataframe\">\n",
       "  <thead>\n",
       "    <tr style=\"text-align: right;\">\n",
       "      <th></th>\n",
       "      <th>StudyTime</th>\n",
       "      <th>GamingHour</th>\n",
       "      <th>GPA</th>\n",
       "    </tr>\n",
       "  </thead>\n",
       "  <tbody>\n",
       "    <tr>\n",
       "      <th>StudyTime</th>\n",
       "      <td>2.458333</td>\n",
       "      <td>-1.194444</td>\n",
       "      <td>0.827222</td>\n",
       "    </tr>\n",
       "    <tr>\n",
       "      <th>GamingHour</th>\n",
       "      <td>-1.194444</td>\n",
       "      <td>0.877778</td>\n",
       "      <td>-0.418222</td>\n",
       "    </tr>\n",
       "    <tr>\n",
       "      <th>GPA</th>\n",
       "      <td>0.827222</td>\n",
       "      <td>-0.418222</td>\n",
       "      <td>0.351293</td>\n",
       "    </tr>\n",
       "  </tbody>\n",
       "</table>\n",
       "</div>"
      ],
      "text/plain": [
       "            StudyTime  GamingHour       GPA\n",
       "StudyTime    2.458333   -1.194444  0.827222\n",
       "GamingHour  -1.194444    0.877778 -0.418222\n",
       "GPA          0.827222   -0.418222  0.351293"
      ]
     },
     "execution_count": 25,
     "metadata": {},
     "output_type": "execute_result"
    }
   ],
   "source": [
    "df.cov()"
   ]
  },
  {
   "cell_type": "markdown",
   "id": "27b91144",
   "metadata": {},
   "source": [
    "### Determine the corelation matrix"
   ]
  },
  {
   "cell_type": "code",
   "execution_count": 26,
   "id": "69977ac2",
   "metadata": {},
   "outputs": [
    {
     "data": {
      "text/html": [
       "<div>\n",
       "<style scoped>\n",
       "    .dataframe tbody tr th:only-of-type {\n",
       "        vertical-align: middle;\n",
       "    }\n",
       "\n",
       "    .dataframe tbody tr th {\n",
       "        vertical-align: top;\n",
       "    }\n",
       "\n",
       "    .dataframe thead th {\n",
       "        text-align: right;\n",
       "    }\n",
       "</style>\n",
       "<table border=\"1\" class=\"dataframe\">\n",
       "  <thead>\n",
       "    <tr style=\"text-align: right;\">\n",
       "      <th></th>\n",
       "      <th>StudyTime</th>\n",
       "      <th>GamingHour</th>\n",
       "      <th>GPA</th>\n",
       "    </tr>\n",
       "  </thead>\n",
       "  <tbody>\n",
       "    <tr>\n",
       "      <th>StudyTime</th>\n",
       "      <td>1.000000</td>\n",
       "      <td>-0.813117</td>\n",
       "      <td>0.890157</td>\n",
       "    </tr>\n",
       "    <tr>\n",
       "      <th>GamingHour</th>\n",
       "      <td>-0.813117</td>\n",
       "      <td>1.000000</td>\n",
       "      <td>-0.753147</td>\n",
       "    </tr>\n",
       "    <tr>\n",
       "      <th>GPA</th>\n",
       "      <td>0.890157</td>\n",
       "      <td>-0.753147</td>\n",
       "      <td>1.000000</td>\n",
       "    </tr>\n",
       "  </tbody>\n",
       "</table>\n",
       "</div>"
      ],
      "text/plain": [
       "            StudyTime  GamingHour       GPA\n",
       "StudyTime    1.000000   -0.813117  0.890157\n",
       "GamingHour  -0.813117    1.000000 -0.753147\n",
       "GPA          0.890157   -0.753147  1.000000"
      ]
     },
     "execution_count": 26,
     "metadata": {},
     "output_type": "execute_result"
    }
   ],
   "source": [
    "df.corr()"
   ]
  },
  {
   "cell_type": "markdown",
   "id": "671ec8c7",
   "metadata": {},
   "source": [
    "#### Determine the Skewness and Kurtosis"
   ]
  },
  {
   "cell_type": "code",
   "execution_count": 27,
   "id": "1f62c994",
   "metadata": {},
   "outputs": [
    {
     "data": {
      "text/plain": [
       "StudyTime     0.283764\n",
       "GamingHour    1.499697\n",
       "GPA          -0.283563\n",
       "dtype: float64"
      ]
     },
     "execution_count": 27,
     "metadata": {},
     "output_type": "execute_result"
    }
   ],
   "source": [
    "df.skew()"
   ]
  },
  {
   "cell_type": "code",
   "execution_count": 28,
   "id": "4eb57e1a",
   "metadata": {},
   "outputs": [
    {
     "data": {
      "text/plain": [
       "StudyTime    -0.548118\n",
       "GamingHour    1.985173\n",
       "GPA          -1.396490\n",
       "dtype: float64"
      ]
     },
     "execution_count": 28,
     "metadata": {},
     "output_type": "execute_result"
    }
   ],
   "source": [
    "df.kurtosis()"
   ]
  },
  {
   "cell_type": "markdown",
   "id": "020aa83b",
   "metadata": {},
   "source": [
    "#### Diagnosis of Quantiles and Inter Quantile Range"
   ]
  },
  {
   "cell_type": "code",
   "execution_count": 30,
   "id": "8dd99a21",
   "metadata": {},
   "outputs": [
    {
     "data": {
      "text/plain": [
       "StudyTime     2.125\n",
       "GamingHour    0.500\n",
       "GPA           2.850\n",
       "Name: 0.25, dtype: float64"
      ]
     },
     "execution_count": 30,
     "metadata": {},
     "output_type": "execute_result"
    }
   ],
   "source": [
    "df.quantile(.25)"
   ]
  },
  {
   "cell_type": "code",
   "execution_count": 31,
   "id": "75114fde",
   "metadata": {},
   "outputs": [
    {
     "data": {
      "text/plain": [
       "StudyTime     1.875\n",
       "GamingHour    0.500\n",
       "GPA           0.805\n",
       "dtype: float64"
      ]
     },
     "execution_count": 31,
     "metadata": {},
     "output_type": "execute_result"
    }
   ],
   "source": [
    "iqr = df.quantile(.75)-df.quantile(.25)\n",
    "iqr"
   ]
  },
  {
   "cell_type": "markdown",
   "id": "f86a12dc",
   "metadata": {},
   "source": [
    "#### Use of Describe Function"
   ]
  },
  {
   "cell_type": "code",
   "execution_count": 1,
   "id": "3f8284ea",
   "metadata": {},
   "outputs": [
    {
     "ename": "NameError",
     "evalue": "name 'df' is not defined",
     "output_type": "error",
     "traceback": [
      "\u001b[1;31m---------------------------------------------------------------------------\u001b[0m",
      "\u001b[1;31mNameError\u001b[0m                                 Traceback (most recent call last)",
      "\u001b[1;32m<ipython-input-1-ea8415b8a3ee>\u001b[0m in \u001b[0;36m<module>\u001b[1;34m\u001b[0m\n\u001b[1;32m----> 1\u001b[1;33m \u001b[0mdf\u001b[0m\u001b[1;33m.\u001b[0m\u001b[0mdescribe\u001b[0m\u001b[1;33m(\u001b[0m\u001b[1;33m)\u001b[0m\u001b[1;33m\u001b[0m\u001b[1;33m\u001b[0m\u001b[0m\n\u001b[0m",
      "\u001b[1;31mNameError\u001b[0m: name 'df' is not defined"
     ]
    }
   ],
   "source": [
    "df.describe()"
   ]
  },
  {
   "cell_type": "code",
   "execution_count": null,
   "id": "a50be8f2",
   "metadata": {},
   "outputs": [],
   "source": []
  },
  {
   "cell_type": "code",
   "execution_count": 17,
   "id": "ff85c192",
   "metadata": {},
   "outputs": [],
   "source": [
    "num = [1, 2, 3, 4, 5]"
   ]
  },
  {
   "cell_type": "code",
   "execution_count": 18,
   "id": "55aef06b",
   "metadata": {},
   "outputs": [
    {
     "data": {
      "text/plain": [
       "[2, 4]"
      ]
     },
     "execution_count": 18,
     "metadata": {},
     "output_type": "execute_result"
    }
   ],
   "source": [
    "result = list(filter(lambda x : x%2==0, num))\n",
    "result"
   ]
  },
  {
   "cell_type": "code",
   "execution_count": 21,
   "id": "1b6542af",
   "metadata": {},
   "outputs": [
    {
     "data": {
      "text/plain": [
       "[2, 4]"
      ]
     },
     "execution_count": 21,
     "metadata": {},
     "output_type": "execute_result"
    }
   ],
   "source": [
    "result = [x for x in num if x%2==0]\n",
    "result"
   ]
  },
  {
   "cell_type": "code",
   "execution_count": 22,
   "id": "d8baba48",
   "metadata": {},
   "outputs": [
    {
     "data": {
      "text/plain": [
       "[1, 4, 9, 16, 25]"
      ]
     },
     "execution_count": 22,
     "metadata": {},
     "output_type": "execute_result"
    }
   ],
   "source": [
    "squares = []\n",
    "for number in num:\n",
    "    sq = number ** 2\n",
    "    squares.append(sq)\n",
    "squares\n",
    "    "
   ]
  },
  {
   "cell_type": "code",
   "execution_count": 24,
   "id": "26fb650a",
   "metadata": {},
   "outputs": [
    {
     "data": {
      "text/plain": [
       "[1, 4, 9, 16, 25]"
      ]
     },
     "execution_count": 24,
     "metadata": {},
     "output_type": "execute_result"
    }
   ],
   "source": [
    "[x**2 for x in num]"
   ]
  },
  {
   "cell_type": "code",
   "execution_count": 26,
   "id": "3db2f6b9",
   "metadata": {},
   "outputs": [
    {
     "data": {
      "text/html": [
       "<div>\n",
       "<style scoped>\n",
       "    .dataframe tbody tr th:only-of-type {\n",
       "        vertical-align: middle;\n",
       "    }\n",
       "\n",
       "    .dataframe tbody tr th {\n",
       "        vertical-align: top;\n",
       "    }\n",
       "\n",
       "    .dataframe thead th {\n",
       "        text-align: right;\n",
       "    }\n",
       "</style>\n",
       "<table border=\"1\" class=\"dataframe\">\n",
       "  <thead>\n",
       "    <tr style=\"text-align: right;\">\n",
       "      <th></th>\n",
       "      <th>population</th>\n",
       "    </tr>\n",
       "  </thead>\n",
       "  <tbody>\n",
       "    <tr>\n",
       "      <th>0</th>\n",
       "      <td>47</td>\n",
       "    </tr>\n",
       "    <tr>\n",
       "      <th>1</th>\n",
       "      <td>48</td>\n",
       "    </tr>\n",
       "    <tr>\n",
       "      <th>2</th>\n",
       "      <td>85</td>\n",
       "    </tr>\n",
       "    <tr>\n",
       "      <th>3</th>\n",
       "      <td>20</td>\n",
       "    </tr>\n",
       "    <tr>\n",
       "      <th>4</th>\n",
       "      <td>19</td>\n",
       "    </tr>\n",
       "    <tr>\n",
       "      <th>5</th>\n",
       "      <td>13</td>\n",
       "    </tr>\n",
       "    <tr>\n",
       "      <th>6</th>\n",
       "      <td>72</td>\n",
       "    </tr>\n",
       "    <tr>\n",
       "      <th>7</th>\n",
       "      <td>16</td>\n",
       "    </tr>\n",
       "    <tr>\n",
       "      <th>8</th>\n",
       "      <td>50</td>\n",
       "    </tr>\n",
       "    <tr>\n",
       "      <th>9</th>\n",
       "      <td>60</td>\n",
       "    </tr>\n",
       "  </tbody>\n",
       "</table>\n",
       "</div>"
      ],
      "text/plain": [
       "   population\n",
       "0          47\n",
       "1          48\n",
       "2          85\n",
       "3          20\n",
       "4          19\n",
       "5          13\n",
       "6          72\n",
       "7          16\n",
       "8          50\n",
       "9          60"
      ]
     },
     "execution_count": 26,
     "metadata": {},
     "output_type": "execute_result"
    }
   ],
   "source": [
    "import pandas as pd\n",
    "data = pd.DataFrame()\n",
    "data['population'] = [47, 48, 85, 20, 19, 13, 72, 16, 50, 60]\n",
    "data"
   ]
  },
  {
   "cell_type": "code",
   "execution_count": 29,
   "id": "e8ac0a43",
   "metadata": {},
   "outputs": [],
   "source": [
    "a_sample_without_replacement = data['population'].sample(5, replace=False)\n",
    "a_sample_with_replacement = data['population'].sample(5, replace=True)"
   ]
  },
  {
   "cell_type": "code",
   "execution_count": 31,
   "id": "10c7f25d",
   "metadata": {},
   "outputs": [
    {
     "data": {
      "text/plain": [
       "1    48\n",
       "2    85\n",
       "0    47\n",
       "3    20\n",
       "4    19\n",
       "Name: population, dtype: int64"
      ]
     },
     "execution_count": 31,
     "metadata": {},
     "output_type": "execute_result"
    }
   ],
   "source": [
    "a_sample_without_replacement\n"
   ]
  },
  {
   "cell_type": "code",
   "execution_count": 32,
   "id": "714165c1",
   "metadata": {},
   "outputs": [
    {
     "data": {
      "text/plain": [
       "7    16\n",
       "7    16\n",
       "0    47\n",
       "0    47\n",
       "4    19\n",
       "Name: population, dtype: int64"
      ]
     },
     "execution_count": 32,
     "metadata": {},
     "output_type": "execute_result"
    }
   ],
   "source": [
    "a_sample_with_replacement"
   ]
  },
  {
   "cell_type": "code",
   "execution_count": 41,
   "id": "132a850a",
   "metadata": {},
   "outputs": [
    {
     "name": "stdout",
     "output_type": "stream",
     "text": [
      "Population mean is 43.0\n",
      "Population variance is 635.3333333333334\n",
      "Population standard deviation is 25.20581943387942\n",
      "Population size is 10\n"
     ]
    }
   ],
   "source": [
    "print('Population mean is', data['population'].mean())\n",
    "print('Population variance is', data['population'].var(ddof=0))\n",
    "print('Population standard deviation is', data['population'].std(ddof=0))\n",
    "print('Population size is', data['population'].shape[0])"
   ]
  },
  {
   "cell_type": "code",
   "execution_count": 43,
   "id": "b7610071",
   "metadata": {},
   "outputs": [
    {
     "name": "stdout",
     "output_type": "stream",
     "text": [
      "Sample mean is 29.0\n",
      "Sample variane is 271.5\n",
      "Sample std is 16.47725705328408\n",
      "Sample size is 5\n"
     ]
    }
   ],
   "source": [
    "print('Sample mean is', a_sample_with_replacement.mean())\n",
    "print('Sample variane is', a_sample_with_replacement.var(ddof=1))\n",
    "print('Sample std is', a_sample_with_replacement.std(ddof=1))\n",
    "print('Sample size is', a_sample_with_replacement.shape[0])"
   ]
  },
  {
   "cell_type": "code",
   "execution_count": 45,
   "id": "9e018bf3",
   "metadata": {},
   "outputs": [
    {
     "name": "stdout",
     "output_type": "stream",
     "text": [
      "Sample mean is 43.8\n",
      "Sample variane is 726.7\n",
      "Sample std is 26.95737375932604\n",
      "Sample size is 5\n"
     ]
    }
   ],
   "source": [
    "print('Sample mean is', a_sample_without_replacement.mean())\n",
    "print('Sample variane is', a_sample_without_replacement.var(ddof=1))\n",
    "print('Sample std is', a_sample_without_replacement.std(ddof=1))\n",
    "print('Sample size is', a_sample_without_replacement.shape[0])"
   ]
  },
  {
   "cell_type": "code",
   "execution_count": null,
   "id": "5e34fcd9",
   "metadata": {},
   "outputs": [],
   "source": []
  },
  {
   "cell_type": "code",
   "execution_count": 51,
   "id": "bbb4638a",
   "metadata": {},
   "outputs": [],
   "source": [
    "import numpy as np\n",
    "matrix = np.array([[1,2,3],[4,5,6]])\n",
    "vector = np.array([7,8,9])"
   ]
  },
  {
   "cell_type": "code",
   "execution_count": 49,
   "id": "ad79d8b5",
   "metadata": {},
   "outputs": [
    {
     "data": {
      "text/plain": [
       "array([[1, 2, 3],\n",
       "       [4, 5, 6]])"
      ]
     },
     "execution_count": 49,
     "metadata": {},
     "output_type": "execute_result"
    }
   ],
   "source": [
    "matrix"
   ]
  },
  {
   "cell_type": "code",
   "execution_count": 52,
   "id": "e7c0ed13",
   "metadata": {},
   "outputs": [
    {
     "data": {
      "text/plain": [
       "array([7, 8, 9])"
      ]
     },
     "execution_count": 52,
     "metadata": {},
     "output_type": "execute_result"
    }
   ],
   "source": [
    "vector"
   ]
  },
  {
   "cell_type": "code",
   "execution_count": 53,
   "id": "23d132bd",
   "metadata": {},
   "outputs": [
    {
     "data": {
      "text/plain": [
       "(2, 3)"
      ]
     },
     "execution_count": 53,
     "metadata": {},
     "output_type": "execute_result"
    }
   ],
   "source": [
    "matrix.shape"
   ]
  },
  {
   "cell_type": "code",
   "execution_count": 54,
   "id": "1a942222",
   "metadata": {},
   "outputs": [
    {
     "data": {
      "text/plain": [
       "(3,)"
      ]
     },
     "execution_count": 54,
     "metadata": {},
     "output_type": "execute_result"
    }
   ],
   "source": [
    "vector.shape"
   ]
  },
  {
   "cell_type": "code",
   "execution_count": 55,
   "id": "76c7b463",
   "metadata": {},
   "outputs": [
    {
     "data": {
      "text/plain": [
       "array([[4, 5, 6],\n",
       "       [7, 8, 9]])"
      ]
     },
     "execution_count": 55,
     "metadata": {},
     "output_type": "execute_result"
    }
   ],
   "source": [
    "matrix+3"
   ]
  },
  {
   "cell_type": "code",
   "execution_count": 56,
   "id": "f006ad85",
   "metadata": {},
   "outputs": [
    {
     "data": {
      "text/plain": [
       "array([[-2, -1,  0],\n",
       "       [ 1,  2,  3]])"
      ]
     },
     "execution_count": 56,
     "metadata": {},
     "output_type": "execute_result"
    }
   ],
   "source": [
    "matrix-3"
   ]
  },
  {
   "cell_type": "code",
   "execution_count": 57,
   "id": "8e0dca5c",
   "metadata": {},
   "outputs": [
    {
     "data": {
      "text/plain": [
       "array([[2, 4],\n",
       "       [6, 8]])"
      ]
     },
     "execution_count": 57,
     "metadata": {},
     "output_type": "execute_result"
    }
   ],
   "source": [
    "a = np.array([[1,2],[3,4]])\n",
    "b = np.array([[1,2],[3,4]])\n",
    "a+b"
   ]
  },
  {
   "cell_type": "code",
   "execution_count": 58,
   "id": "922c2e4b",
   "metadata": {},
   "outputs": [
    {
     "data": {
      "text/plain": [
       "array([[ 58,  64],\n",
       "       [139, 154]])"
      ]
     },
     "execution_count": 58,
     "metadata": {},
     "output_type": "execute_result"
    }
   ],
   "source": [
    "m1 = np.array([[1,2,3],[4,5,6]])\n",
    "m2 = np.array([[7,8],[9,10],[11,12]])\n",
    "m1.dot(m2)"
   ]
  },
  {
   "cell_type": "code",
   "execution_count": 59,
   "id": "18df8d70",
   "metadata": {},
   "outputs": [
    {
     "data": {
      "text/plain": [
       "array([[1, 4],\n",
       "       [2, 5],\n",
       "       [3, 6]])"
      ]
     },
     "execution_count": 59,
     "metadata": {},
     "output_type": "execute_result"
    }
   ],
   "source": [
    "m1.T"
   ]
  },
  {
   "cell_type": "code",
   "execution_count": 62,
   "id": "9e687a20",
   "metadata": {},
   "outputs": [
    {
     "data": {
      "text/plain": [
       "array([[1., 0., 0.],\n",
       "       [0., 1., 0.],\n",
       "       [0., 0., 1.]])"
      ]
     },
     "execution_count": 62,
     "metadata": {},
     "output_type": "execute_result"
    }
   ],
   "source": [
    "np.identity(3)"
   ]
  },
  {
   "cell_type": "code",
   "execution_count": null,
   "id": "99e172ea",
   "metadata": {},
   "outputs": [],
   "source": []
  },
  {
   "cell_type": "code",
   "execution_count": null,
   "id": "cc0d0896",
   "metadata": {},
   "outputs": [],
   "source": []
  },
  {
   "cell_type": "code",
   "execution_count": 1,
   "id": "765d0205",
   "metadata": {},
   "outputs": [],
   "source": [
    "import numpy as np"
   ]
  },
  {
   "cell_type": "code",
   "execution_count": 3,
   "id": "49c4ba75",
   "metadata": {},
   "outputs": [
    {
     "data": {
      "text/plain": [
       "array([7, 8, 9])"
      ]
     },
     "execution_count": 3,
     "metadata": {},
     "output_type": "execute_result"
    }
   ],
   "source": [
    "vector = np.array([7,8,9])\n",
    "vector"
   ]
  },
  {
   "cell_type": "code",
   "execution_count": 139,
   "id": "12438e6e",
   "metadata": {},
   "outputs": [],
   "source": [
    "subject_name = np.array([\"Jone Doe\", \"Jane Doe\", \"Steve Graves\"])\n",
    "temperature = np.array([98.1, 98.6, 101.4])\n",
    "#flu_status = np.array([False, False, True])"
   ]
  },
  {
   "cell_type": "code",
   "execution_count": 99,
   "id": "a2a5fb20",
   "metadata": {},
   "outputs": [
    {
     "data": {
      "text/plain": [
       "98.6"
      ]
     },
     "execution_count": 99,
     "metadata": {},
     "output_type": "execute_result"
    }
   ],
   "source": [
    "temperature[1]"
   ]
  },
  {
   "cell_type": "code",
   "execution_count": 65,
   "id": "e2a9f195",
   "metadata": {},
   "outputs": [
    {
     "data": {
      "text/plain": [
       "array([ 98.6, 101.4])"
      ]
     },
     "execution_count": 65,
     "metadata": {},
     "output_type": "execute_result"
    }
   ],
   "source": [
    "temperature[1:3]"
   ]
  },
  {
   "cell_type": "code",
   "execution_count": 66,
   "id": "ebed0d4c",
   "metadata": {},
   "outputs": [
    {
     "data": {
      "text/plain": [
       "array([98.6])"
      ]
     },
     "execution_count": 66,
     "metadata": {},
     "output_type": "execute_result"
    }
   ],
   "source": [
    "temperature[-2:-1]"
   ]
  },
  {
   "cell_type": "code",
   "execution_count": 74,
   "id": "bcbf058d",
   "metadata": {},
   "outputs": [],
   "source": [
    "temperature = list(temperature)"
   ]
  },
  {
   "cell_type": "code",
   "execution_count": 70,
   "id": "318e96e2",
   "metadata": {},
   "outputs": [
    {
     "data": {
      "text/plain": [
       "98.6"
      ]
     },
     "execution_count": 70,
     "metadata": {},
     "output_type": "execute_result"
    }
   ],
   "source": [
    "#temperature.pop(1)"
   ]
  },
  {
   "cell_type": "code",
   "execution_count": 75,
   "id": "5461f9db",
   "metadata": {},
   "outputs": [
    {
     "data": {
      "text/plain": [
       "[98.1, 98.6, 101.4]"
      ]
     },
     "execution_count": 75,
     "metadata": {},
     "output_type": "execute_result"
    }
   ],
   "source": [
    "temperature"
   ]
  },
  {
   "cell_type": "code",
   "execution_count": 78,
   "id": "9f36c827",
   "metadata": {},
   "outputs": [
    {
     "data": {
      "text/plain": [
       "array(['Male', 'Female', 'Male'], dtype='<U6')"
      ]
     },
     "execution_count": 78,
     "metadata": {},
     "output_type": "execute_result"
    }
   ],
   "source": [
    "gender = np.array([\"Male\", \"Female\", \"Male\"])\n",
    "gender"
   ]
  },
  {
   "cell_type": "code",
   "execution_count": 79,
   "id": "d1bf355e",
   "metadata": {},
   "outputs": [
    {
     "data": {
      "text/plain": [
       "array(['O', 'AB', 'A'], dtype='<U2')"
      ]
     },
     "execution_count": 79,
     "metadata": {},
     "output_type": "execute_result"
    }
   ],
   "source": [
    "blood = np.array([\"O\",\"AB\",\"A\"])\n",
    "blood"
   ]
  },
  {
   "cell_type": "code",
   "execution_count": 87,
   "id": "7897d133",
   "metadata": {},
   "outputs": [],
   "source": [
    "subject1 = {\n",
    "    \"fullname\" : subject_name[0],\n",
    "    \"temperature\" : temperature[0],\n",
    "    \"flu_status\" : flu_status[0],\n",
    "    \"gender\" : gender[0],\n",
    "    \"blood\" : blood[0]\n",
    "}"
   ]
  },
  {
   "cell_type": "code",
   "execution_count": 88,
   "id": "5295f17c",
   "metadata": {},
   "outputs": [
    {
     "data": {
      "text/plain": [
       "{'fullname': 'Jone Doe',\n",
       " 'temperature': 98.1,\n",
       " 'flu_status': False,\n",
       " 'gender': 'Male',\n",
       " 'blood': 'O'}"
      ]
     },
     "execution_count": 88,
     "metadata": {},
     "output_type": "execute_result"
    }
   ],
   "source": [
    "subject1"
   ]
  },
  {
   "cell_type": "code",
   "execution_count": 108,
   "id": "152fe626",
   "metadata": {},
   "outputs": [
    {
     "data": {
      "text/plain": [
       "98.1"
      ]
     },
     "execution_count": 108,
     "metadata": {},
     "output_type": "execute_result"
    }
   ],
   "source": [
    "subject1['temperature']"
   ]
  },
  {
   "cell_type": "code",
   "execution_count": 133,
   "id": "dc3802c2",
   "metadata": {},
   "outputs": [
    {
     "name": "stdout",
     "output_type": "stream",
     "text": [
      "98.1\n",
      "False\n",
      "Male\n"
     ]
    }
   ],
   "source": [
    "keys = ['temperature', 'flu_status', 'gender']\n",
    "\n",
    "for key in keys:\n",
    "    print(subject1[key])"
   ]
  },
  {
   "cell_type": "code",
   "execution_count": 100,
   "id": "55e4297e",
   "metadata": {},
   "outputs": [
    {
     "data": {
      "text/plain": [
       "['Jone Doe', 98.1, False, 'Male', 'O']"
      ]
     },
     "execution_count": 100,
     "metadata": {},
     "output_type": "execute_result"
    }
   ],
   "source": [
    "subject2 = [subject_name[0],temperature[0],flu_status[0],gender[0],blood[0]]\n",
    "subject2"
   ]
  },
  {
   "cell_type": "code",
   "execution_count": 105,
   "id": "42c89f05",
   "metadata": {},
   "outputs": [
    {
     "data": {
      "text/plain": [
       "[98.1, False]"
      ]
     },
     "execution_count": 105,
     "metadata": {},
     "output_type": "execute_result"
    }
   ],
   "source": [
    "subject2[1:3]"
   ]
  },
  {
   "cell_type": "code",
   "execution_count": 106,
   "id": "38804a28",
   "metadata": {},
   "outputs": [
    {
     "data": {
      "text/plain": [
       "[98.1, False]"
      ]
     },
     "execution_count": 106,
     "metadata": {},
     "output_type": "execute_result"
    }
   ],
   "source": [
    "subject3 = [temperature[0],flu_status[0]]\n",
    "subject3"
   ]
  },
  {
   "cell_type": "code",
   "execution_count": null,
   "id": "1dfae3ae",
   "metadata": {},
   "outputs": [],
   "source": [
    "df = pd.DataFrame(data={'a' : np.array([1,2,3], dtype=int),\n",
    "                        'b' : np.array([4,5,6], dtype=float)\n",
    "                       }\n",
    "                 )\n",
    "\n",
    "convert_dict = {'a': int, 'b': float}\n",
    "df = df.astype(convert_dict)"
   ]
  },
  {
   "cell_type": "code",
   "execution_count": 152,
   "id": "a254682a",
   "metadata": {},
   "outputs": [
    {
     "data": {
      "text/html": [
       "<div>\n",
       "<style scoped>\n",
       "    .dataframe tbody tr th:only-of-type {\n",
       "        vertical-align: middle;\n",
       "    }\n",
       "\n",
       "    .dataframe tbody tr th {\n",
       "        vertical-align: top;\n",
       "    }\n",
       "\n",
       "    .dataframe thead th {\n",
       "        text-align: right;\n",
       "    }\n",
       "</style>\n",
       "<table border=\"1\" class=\"dataframe\">\n",
       "  <thead>\n",
       "    <tr style=\"text-align: right;\">\n",
       "      <th></th>\n",
       "      <th>Patient_name</th>\n",
       "      <th>Temperature</th>\n",
       "      <th>Flu_status</th>\n",
       "      <th>Gender</th>\n",
       "      <th>Blood</th>\n",
       "    </tr>\n",
       "  </thead>\n",
       "  <tbody>\n",
       "    <tr>\n",
       "      <th>0</th>\n",
       "      <td>Jone Doe</td>\n",
       "      <td>98.1</td>\n",
       "      <td>False</td>\n",
       "      <td>Male</td>\n",
       "      <td>O</td>\n",
       "    </tr>\n",
       "    <tr>\n",
       "      <th>1</th>\n",
       "      <td>Jane Doe</td>\n",
       "      <td>98.6</td>\n",
       "      <td>False</td>\n",
       "      <td>Female</td>\n",
       "      <td>AB</td>\n",
       "    </tr>\n",
       "    <tr>\n",
       "      <th>2</th>\n",
       "      <td>Steve Graves</td>\n",
       "      <td>101.4</td>\n",
       "      <td>True</td>\n",
       "      <td>Male</td>\n",
       "      <td>A</td>\n",
       "    </tr>\n",
       "  </tbody>\n",
       "</table>\n",
       "</div>"
      ],
      "text/plain": [
       "   Patient_name  Temperature  Flu_status  Gender Blood\n",
       "0      Jone Doe         98.1       False    Male     O\n",
       "1      Jane Doe         98.6       False  Female    AB\n",
       "2  Steve Graves        101.4        True    Male     A"
      ]
     },
     "execution_count": 152,
     "metadata": {},
     "output_type": "execute_result"
    }
   ],
   "source": [
    "import pandas as pd\n",
    "\n",
    "df = pd.DataFrame({'Patient_name': subject_name, 'Temperature': temperature, 'Flu_status': flu_status,'Gender':gender, 'Blood':blood})\n",
    "df"
   ]
  },
  {
   "cell_type": "code",
   "execution_count": 168,
   "id": "b5f99e4d",
   "metadata": {},
   "outputs": [
    {
     "data": {
      "text/html": [
       "<div>\n",
       "<style scoped>\n",
       "    .dataframe tbody tr th:only-of-type {\n",
       "        vertical-align: middle;\n",
       "    }\n",
       "\n",
       "    .dataframe tbody tr th {\n",
       "        vertical-align: top;\n",
       "    }\n",
       "\n",
       "    .dataframe thead th {\n",
       "        text-align: right;\n",
       "    }\n",
       "</style>\n",
       "<table border=\"1\" class=\"dataframe\">\n",
       "  <thead>\n",
       "    <tr style=\"text-align: right;\">\n",
       "      <th></th>\n",
       "      <th>Patient_name</th>\n",
       "      <th>Flu_status</th>\n",
       "    </tr>\n",
       "  </thead>\n",
       "  <tbody>\n",
       "    <tr>\n",
       "      <th>0</th>\n",
       "      <td>Jone Doe</td>\n",
       "      <td>False</td>\n",
       "    </tr>\n",
       "    <tr>\n",
       "      <th>1</th>\n",
       "      <td>Jane Doe</td>\n",
       "      <td>False</td>\n",
       "    </tr>\n",
       "    <tr>\n",
       "      <th>2</th>\n",
       "      <td>Steve Graves</td>\n",
       "      <td>True</td>\n",
       "    </tr>\n",
       "  </tbody>\n",
       "</table>\n",
       "</div>"
      ],
      "text/plain": [
       "   Patient_name  Flu_status\n",
       "0      Jone Doe       False\n",
       "1      Jane Doe       False\n",
       "2  Steve Graves        True"
      ]
     },
     "execution_count": 168,
     "metadata": {},
     "output_type": "execute_result"
    }
   ],
   "source": [
    "df[['Patient_name', 'Flu_status']]"
   ]
  },
  {
   "cell_type": "code",
   "execution_count": 164,
   "id": "8e1288ba",
   "metadata": {},
   "outputs": [
    {
     "data": {
      "text/plain": [
       "98.1"
      ]
     },
     "execution_count": 164,
     "metadata": {},
     "output_type": "execute_result"
    }
   ],
   "source": [
    "df['Temperature'][0]"
   ]
  },
  {
   "cell_type": "code",
   "execution_count": 174,
   "id": "a710ca69",
   "metadata": {},
   "outputs": [
    {
     "data": {
      "text/html": [
       "<div>\n",
       "<style scoped>\n",
       "    .dataframe tbody tr th:only-of-type {\n",
       "        vertical-align: middle;\n",
       "    }\n",
       "\n",
       "    .dataframe tbody tr th {\n",
       "        vertical-align: top;\n",
       "    }\n",
       "\n",
       "    .dataframe thead th {\n",
       "        text-align: right;\n",
       "    }\n",
       "</style>\n",
       "<table border=\"1\" class=\"dataframe\">\n",
       "  <thead>\n",
       "    <tr style=\"text-align: right;\">\n",
       "      <th></th>\n",
       "      <th>Patient_name</th>\n",
       "      <th>Temperature</th>\n",
       "      <th>Flu_status</th>\n",
       "      <th>Gender</th>\n",
       "      <th>Blood</th>\n",
       "    </tr>\n",
       "  </thead>\n",
       "  <tbody>\n",
       "    <tr>\n",
       "      <th>0</th>\n",
       "      <td>Jone Doe</td>\n",
       "      <td>98.1</td>\n",
       "      <td>False</td>\n",
       "      <td>Male</td>\n",
       "      <td>O</td>\n",
       "    </tr>\n",
       "    <tr>\n",
       "      <th>1</th>\n",
       "      <td>Jane Doe</td>\n",
       "      <td>98.6</td>\n",
       "      <td>False</td>\n",
       "      <td>Female</td>\n",
       "      <td>AB</td>\n",
       "    </tr>\n",
       "  </tbody>\n",
       "</table>\n",
       "</div>"
      ],
      "text/plain": [
       "  Patient_name  Temperature  Flu_status  Gender Blood\n",
       "0     Jone Doe         98.1       False    Male     O\n",
       "1     Jane Doe         98.6       False  Female    AB"
      ]
     },
     "execution_count": 174,
     "metadata": {},
     "output_type": "execute_result"
    }
   ],
   "source": [
    "df[0:2]"
   ]
  },
  {
   "cell_type": "code",
   "execution_count": null,
   "id": "41df2ec3",
   "metadata": {},
   "outputs": [],
   "source": []
  },
  {
   "cell_type": "code",
   "execution_count": null,
   "id": "b2e0ac46",
   "metadata": {},
   "outputs": [],
   "source": []
  },
  {
   "cell_type": "code",
   "execution_count": null,
   "id": "8beb2d09",
   "metadata": {},
   "outputs": [],
   "source": []
  },
  {
   "cell_type": "code",
   "execution_count": null,
   "id": "72b523d3",
   "metadata": {},
   "outputs": [],
   "source": []
  }
 ],
 "metadata": {
  "kernelspec": {
   "display_name": "Python 3",
   "language": "python",
   "name": "python3"
  },
  "language_info": {
   "codemirror_mode": {
    "name": "ipython",
    "version": 3
   },
   "file_extension": ".py",
   "mimetype": "text/x-python",
   "name": "python",
   "nbconvert_exporter": "python",
   "pygments_lexer": "ipython3",
   "version": "3.8.8"
  }
 },
 "nbformat": 4,
 "nbformat_minor": 5
}
