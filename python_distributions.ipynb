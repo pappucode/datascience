{
 "cells": [
  {
   "cell_type": "markdown",
   "id": "c1aff86d",
   "metadata": {},
   "source": [
    "### Probability Distributions"
   ]
  },
  {
   "cell_type": "markdown",
   "id": "536b09eb",
   "metadata": {},
   "source": [
    "#### Import necessary packages"
   ]
  },
  {
   "cell_type": "code",
   "execution_count": 25,
   "id": "237d942d",
   "metadata": {},
   "outputs": [],
   "source": [
    "import numpy as np\n",
    "import pandas as pd\n",
    "import matplotlib.pyplot as plt\n",
    "import seaborn as sns\n",
    "import scipy.stats as stats"
   ]
  },
  {
   "cell_type": "markdown",
   "id": "ea221497",
   "metadata": {},
   "source": [
    "#### Bernoulli Distribution"
   ]
  },
  {
   "cell_type": "code",
   "execution_count": 13,
   "id": "5a0f6034",
   "metadata": {},
   "outputs": [
    {
     "data": {
      "text/plain": [
       "[Text(0.5, 0, 'Bernoulli Distribution'), Text(0, 0.5, 'Frequency')]"
      ]
     },
     "execution_count": 13,
     "metadata": {},
     "output_type": "execute_result"
    },
    {
     "data": {
      "image/png": "[encoded data removed]",
      "text/plain": [
       "<Figure size 432x288 with 1 Axes>"
      ]
     },
     "metadata": {
      "needs_background": "light"
     },
     "output_type": "display_data"
    }
   ],
   "source": [
    "from scipy.stats import bernoulli\n",
    "data_bern = bernoulli.rvs(size=10000, p=0.5)\n",
    "ax = sns.distplot(data_bern, kde=False, color=\"Skyblue\", hist_kws={\"linewidth\":15, 'alpha':1})\n",
    "ax.set(xlabel=\"Bernoulli Distribution\", ylabel=\"Frequency\")"
   ]
  },
  {
   "cell_type": "markdown",
   "id": "c271e84c",
   "metadata": {},
   "source": [
    "#### Binomial Distribution"
   ]
  },
  {
   "cell_type": "markdown",
   "id": "2326425a",
   "metadata": {},
   "source": [
    "#### Example "
   ]
  },
  {
   "cell_type": "code",
   "execution_count": 22,
   "id": "86b43bbf",
   "metadata": {},
   "outputs": [],
   "source": [
    "#কোন একটি হাসপাতালের ডেটাবেজ থেকে দেখা যায় যে একটি নির্দিষ্ট রোগে মোট আক্রান্তের ৭৫% রোগী মৃত্যুবরন করে। এই রোগে আক্রান্ত এমন ৬ \n",
    "#জন রোগীকে যদি র‍্যান্ডমলি বাছাই করা হয়, তাদের মধ্যে ৪ জন বেচে থাকবে তার প্রবাবিলিটি কত ? "
   ]
  },
  {
   "cell_type": "code",
   "execution_count": 114,
   "id": "257128cd",
   "metadata": {},
   "outputs": [],
   "source": [
    "from scipy.stats import binom\n",
    "\n",
    "def binomi(n, p):\n",
    "    data_binom = binom.rvs(n,p,size=10000)\n",
    "    \n",
    "    print(pd.crosstab(index=\"counts\", columns=data_binom))\n",
    "\n",
    "    ax = sns.distplot(data_binom,\n",
    "                      kde=False,\n",
    "                      color='skyblue',\n",
    "                      hist_kws={\"linewidth\": 15,'alpha':1})\n",
    "    ax.set(xlabel='Binomial Distribution', ylabel='Frequency')"
   ]
  },
  {
   "cell_type": "code",
   "execution_count": 115,
   "id": "63162f53",
   "metadata": {},
   "outputs": [
    {
     "name": "stdout",
     "output_type": "stream",
     "text": [
      "col_0      0     1     2     3    4   5  6\n",
      "row_0                                     \n",
      "counts  1755  3551  2953  1364  323  49  5\n"
     ]
    },
    {
     "name": "stderr",
     "output_type": "stream",
     "text": [
      "C:\\Users\\Pappu\\anaconda3\\lib\\site-packages\\seaborn\\distributions.py:2557: FutureWarning: `distplot` is a deprecated function and will be removed in a future version. Please adapt your code to use either `displot` (a figure-level function with similar flexibility) or `histplot` (an axes-level function for histograms).\n",
      "  warnings.warn(msg, FutureWarning)\n"
     ]
    },
    {
     "data": {
      "image/png": "[encoded data removed]",
      "text/plain": [
       "<Figure size 432x288 with 1 Axes>"
      ]
     },
     "metadata": {
      "needs_background": "light"
     },
     "output_type": "display_data"
    }
   ],
   "source": [
    "binomi(6, 0.25)"
   ]
  },
  {
   "cell_type": "code",
   "execution_count": 106,
   "id": "1d27d4e3",
   "metadata": {},
   "outputs": [],
   "source": [
    "#From the above chat we see that the probability of one patient will survive is the highest and 6 person will be \n",
    "#servive is the lowest probability"
   ]
  },
  {
   "cell_type": "markdown",
   "id": "e0d31a6d",
   "metadata": {},
   "source": [
    "#### Poison Distribution"
   ]
  },
  {
   "cell_type": "code",
   "execution_count": 117,
   "id": "38c3e647",
   "metadata": {},
   "outputs": [
    {
     "name": "stderr",
     "output_type": "stream",
     "text": [
      "C:\\Users\\Pappu\\anaconda3\\lib\\site-packages\\seaborn\\distributions.py:2557: FutureWarning: `distplot` is a deprecated function and will be removed in a future version. Please adapt your code to use either `displot` (a figure-level function with similar flexibility) or `histplot` (an axes-level function for histograms).\n",
      "  warnings.warn(msg, FutureWarning)\n"
     ]
    },
    {
     "data": {
      "text/plain": [
       "[Text(0.5, 0, 'Poisson Distribution'), Text(0, 0.5, 'Frequency')]"
      ]
     },
     "execution_count": 117,
     "metadata": {},
     "output_type": "execute_result"
    },
    {
     "data": {
      "image/png": "[encoded data removed]",
      "text/plain": [
       "<Figure size 432x288 with 1 Axes>"
      ]
     },
     "metadata": {
      "needs_background": "light"
     },
     "output_type": "display_data"
    }
   ],
   "source": [
    "from scipy.stats import poisson\n",
    "data_poisson = poisson.rvs(mu=3, size=10000)\n",
    "\n",
    "ax = sns.distplot(data_poisson,\n",
    "                  kde=False,\n",
    "                  color='skyblue',\n",
    "                  hist_kws={\"linewidth\": 15,'alpha':1})\n",
    "ax.set(xlabel='Poisson Distribution', ylabel='Frequency')"
   ]
  },
  {
   "cell_type": "markdown",
   "id": "3eb72e2f",
   "metadata": {},
   "source": [
    "#### Uniform Distribution"
   ]
  },
  {
   "cell_type": "code",
   "execution_count": 28,
   "id": "76058b4e",
   "metadata": {},
   "outputs": [
    {
     "data": {
      "text/plain": [
       "<AxesSubplot:ylabel='Density'>"
      ]
     },
     "execution_count": 28,
     "metadata": {},
     "output_type": "execute_result"
    },
    {
     "data": {
      "image/png": "[encoded data removed]",
      "text/plain": [
       "<Figure size 648x648 with 1 Axes>"
      ]
     },
     "metadata": {
      "needs_background": "light"
     },
     "output_type": "display_data"
    }
   ],
   "source": [
    "uniform_data = stats.uniform.rvs(size = 10000, #Generate 10000 numbers\n",
    "                                 loc = 0,      #From 0  \n",
    "                                 scale = 10)   #To 10\n",
    "\n",
    "pd.DataFrame(uniform_data).plot(kind='density', #Plot the Distribution\n",
    "                                figsize =(9,9),\n",
    "                                xlim=(-1, 11))"
   ]
  },
  {
   "cell_type": "code",
   "execution_count": 112,
   "id": "1cae962c",
   "metadata": {},
   "outputs": [
    {
     "name": "stderr",
     "output_type": "stream",
     "text": [
      "C:\\Users\\Pappu\\anaconda3\\lib\\site-packages\\seaborn\\distributions.py:2557: FutureWarning: `distplot` is a deprecated function and will be removed in a future version. Please adapt your code to use either `displot` (a figure-level function with similar flexibility) or `histplot` (an axes-level function for histograms).\n",
      "  warnings.warn(msg, FutureWarning)\n"
     ]
    },
    {
     "data": {
      "text/plain": [
       "[Text(0.5, 0, 'Uniform Distribution '), Text(0, 0.5, 'Frequency')]"
      ]
     },
     "execution_count": 112,
     "metadata": {},
     "output_type": "execute_result"
    },
    {
     "data": {
      "image/png": "[encoded data removed]",
      "text/plain": [
       "<Figure size 432x288 with 1 Axes>"
      ]
     },
     "metadata": {
      "needs_background": "light"
     },
     "output_type": "display_data"
    }
   ],
   "source": [
    "from scipy.stats import uniform\n",
    "n = 10000\n",
    "start = 10\n",
    "width = 20\n",
    "data_uniform = uniform.rvs(size=n, loc = start, scale=width)\n",
    "\n",
    "ax = sns.distplot(data_uniform,\n",
    "                  bins=100,\n",
    "                  kde=True,\n",
    "                  color='skyblue',\n",
    "                  hist_kws={\"linewidth\": 15,'alpha':1})\n",
    "ax.set(xlabel='Uniform Distribution ', ylabel='Frequency')"
   ]
  },
  {
   "cell_type": "code",
   "execution_count": 89,
   "id": "a26918bb",
   "metadata": {},
   "outputs": [
    {
     "data": {
      "text/plain": [
       "0.25"
      ]
     },
     "execution_count": 89,
     "metadata": {},
     "output_type": "execute_result"
    }
   ],
   "source": [
    "stats.uniform.cdf(x=2.5,   #Cutoff value (quantile) to check\n",
    "                  loc=0,   #Distribution start \n",
    "                  scale=10)#Distribution end"
   ]
  },
  {
   "cell_type": "code",
   "execution_count": 41,
   "id": "9dd25498",
   "metadata": {},
   "outputs": [
    {
     "data": {
      "text/plain": [
       "4.0"
      ]
     },
     "execution_count": 41,
     "metadata": {},
     "output_type": "execute_result"
    }
   ],
   "source": [
    "stats.uniform.ppf(q=0.4,   #Probability cutoff\n",
    "                  loc=0,   #Distribution start\n",
    "                  scale=10)#Distribution end"
   ]
  },
  {
   "cell_type": "code",
   "execution_count": 52,
   "id": "5f0a3c0c",
   "metadata": {},
   "outputs": [
    {
     "data": {
      "text/plain": [
       "5"
      ]
     },
     "execution_count": 52,
     "metadata": {},
     "output_type": "execute_result"
    }
   ],
   "source": [
    "import random\n",
    "random.randint(0, 10)#Get a random integer in the specific range"
   ]
  },
  {
   "cell_type": "code",
   "execution_count": 66,
   "id": "ee1c26c1",
   "metadata": {},
   "outputs": [
    {
     "data": {
      "text/plain": [
       "9"
      ]
     },
     "execution_count": 66,
     "metadata": {},
     "output_type": "execute_result"
    }
   ],
   "source": [
    "random.choice([2, 4, 6, 9])#Get a random element from a sequence"
   ]
  },
  {
   "cell_type": "code",
   "execution_count": 71,
   "id": "781afc3b",
   "metadata": {},
   "outputs": [
    {
     "data": {
      "text/plain": [
       "0.34824515931432287"
      ]
     },
     "execution_count": 71,
     "metadata": {},
     "output_type": "execute_result"
    }
   ],
   "source": [
    "random.random() #Get a real number between 0 to 1"
   ]
  },
  {
   "cell_type": "code",
   "execution_count": 88,
   "id": "7378c39a",
   "metadata": {},
   "outputs": [
    {
     "data": {
      "text/plain": [
       "3.8803730710209905"
      ]
     },
     "execution_count": 88,
     "metadata": {},
     "output_type": "execute_result"
    }
   ],
   "source": [
    "random.uniform(0, 10)"
   ]
  },
  {
   "cell_type": "markdown",
   "id": "3be62c72",
   "metadata": {},
   "source": [
    "#### Normal Distribution"
   ]
  },
  {
   "cell_type": "code",
   "execution_count": 93,
   "id": "3009960c",
   "metadata": {},
   "outputs": [
    {
     "name": "stderr",
     "output_type": "stream",
     "text": [
      "C:\\Users\\Pappu\\anaconda3\\lib\\site-packages\\seaborn\\distributions.py:2557: FutureWarning: `distplot` is a deprecated function and will be removed in a future version. Please adapt your code to use either `displot` (a figure-level function with similar flexibility) or `histplot` (an axes-level function for histograms).\n",
      "  warnings.warn(msg, FutureWarning)\n"
     ]
    },
    {
     "data": {
      "text/plain": [
       "[Text(0.5, 0, 'Normal Distribution'), Text(0, 0.5, 'Frequency')]"
      ]
     },
     "execution_count": 93,
     "metadata": {},
     "output_type": "execute_result"
    },
    {
     "data": {
      "image/png": "[encoded data removed]",
      "text/plain": [
       "<Figure size 432x288 with 1 Axes>"
      ]
     },
     "metadata": {
      "needs_background": "light"
     },
     "output_type": "display_data"
    }
   ],
   "source": [
    "from scipy.stats import norm\n",
    "# generate random numbers from N(0,1)\n",
    "data_normal = norm.rvs(size=10000,loc=0,scale=1)\n",
    "\n",
    "ax = sns.distplot(data_normal,\n",
    "                  kde=True,\n",
    "                  color='skyblue',\n",
    "                  hist_kws={\"linewidth\": 15,'alpha':1})\n",
    "ax.set(xlabel='Normal Distribution', ylabel='Frequency')"
   ]
  },
  {
   "cell_type": "code",
   "execution_count": null,
   "id": "0abb6a6e",
   "metadata": {},
   "outputs": [],
   "source": []
  },
  {
   "cell_type": "code",
   "execution_count": null,
   "id": "2a95607a",
   "metadata": {},
   "outputs": [],
   "source": []
  },
  {
   "cell_type": "code",
   "execution_count": null,
   "id": "8060f61f",
   "metadata": {},
   "outputs": [],
   "source": []
  },
  {
   "cell_type": "code",
   "execution_count": null,
   "id": "f80672ca",
   "metadata": {},
   "outputs": [],
   "source": []
  }
 ],
 "metadata": {
  "kernelspec": {
   "display_name": "Python 3",
   "language": "python",
   "name": "python3"
  },
  "language_info": {
   "codemirror_mode": {
    "name": "ipython",
    "version": 3
   },
   "file_extension": ".py",
   "mimetype": "text/x-python",
   "name": "python",
   "nbconvert_exporter": "python",
   "pygments_lexer": "ipython3",
   "version": "3.8.8"
  }
 },
 "nbformat": 4,
 "nbformat_minor": 5
}
