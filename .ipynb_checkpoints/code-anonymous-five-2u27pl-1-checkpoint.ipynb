{
 "cells": [
  {
   "cell_type": "code",
   "execution_count": 1,
   "metadata": {
    "execution": {
     "iopub.execute_input": "2022-06-10T17:07:49.981881Z",
     "iopub.status.busy": "2022-06-10T17:07:49.981301Z",
     "iopub.status.idle": "2022-06-10T17:07:50.715462Z",
     "shell.execute_reply": "2022-06-10T17:07:50.714467Z",
     "shell.execute_reply.started": "2022-06-10T17:07:49.981769Z"
    }
   },
   "outputs": [],
   "source": [
    "import pandas as pd\n",
    "from pandas.plotting import scatter_matrix\n",
    "import matplotlib.pyplot as plt\n",
    "from sklearn import model_selection\n",
    "from sklearn.metrics import classification_report, plot_roc_curve\n",
    "from sklearn.metrics import confusion_matrix\n",
    "from sklearn.metrics import accuracy_score\n",
    "from sklearn.linear_model import LogisticRegression\n",
    "from sklearn.tree import DecisionTreeClassifier\n",
    "from sklearn.neighbors import KNeighborsClassifier\n",
    "from sklearn.discriminant_analysis import LinearDiscriminantAnalysis\n",
    "from sklearn.naive_bayes import GaussianNB\n",
    "from sklearn.svm import SVC\n",
    "from sklearn.model_selection import train_test_split\n",
    "from sklearn.linear_model import LinearRegression\n",
    "from sklearn.linear_model import LogisticRegression\n",
    "import numpy as np\n",
    "import pandas as pd\n",
    "from sklearn.preprocessing import StandardScaler\n",
    "from sklearn.metrics import f1_score\n",
    "from sklearn.metrics import accuracy_score\n",
    "%matplotlib inline\n",
    "import seaborn as sns\n",
    "import pandas as pd\n",
    "from sklearn.naive_bayes import GaussianNB\n",
    "from sklearn.model_selection import train_test_split\n",
    "from sklearn.preprocessing import LabelEncoder\n",
    "from sklearn.preprocessing import MinMaxScaler\n",
    "from sklearn.preprocessing import StandardScaler\n",
    "from sklearn.neighbors import KNeighborsClassifier\n",
    "from sklearn.ensemble import AdaBoostClassifier\n",
    "from sklearn.ensemble import BaggingClassifier\n",
    "from sklearn.svm import SVC\n",
    "from sklearn.naive_bayes import GaussianNB\n",
    "from sklearn.ensemble import AdaBoostClassifier\n",
    "from sklearn.ensemble import GradientBoostingClassifier\n",
    "from sklearn.ensemble import ExtraTreesClassifier\n",
    "import numpy as np # linear algebra\n",
    "import pandas as pd # data processing, CSV file I/O (e.g. pd.read_csv)\n",
    "import ast\n",
    "import matplotlib.pyplot as plt\n",
    "import seaborn as sns\n",
    "#from xgboost import XGBClassifier\n",
    "from sklearn.neural_network import MLPClassifier\n",
    "from sklearn.linear_model import LogisticRegression\n",
    "from sklearn.svm import SVC, SVR\n",
    "from sklearn.tree import DecisionTreeClassifier\n",
    "from sklearn.naive_bayes import MultinomialNB\n",
    "from sklearn.neighbors import KNeighborsClassifier\n",
    "from sklearn.ensemble import RandomForestClassifier\n",
    "from sklearn.ensemble import GradientBoostingClassifier\n",
    "from sklearn.preprocessing import LabelEncoder\n",
    "from sklearn.preprocessing import StandardScaler\n",
    "from sklearn.inspection import permutation_importance\n",
    "from sklearn.model_selection import train_test_split\n",
    "from sklearn.model_selection import GridSearchCV\n",
    "from sklearn.model_selection import KFold\n",
    "from sklearn.model_selection import cross_val_score, cross_validate\n",
    "from sklearn.metrics import *"
   ]
  },
  {
   "cell_type": "code",
   "execution_count": 2,
   "metadata": {
    "execution": {
     "iopub.execute_input": "2022-06-10T17:07:50.717601Z",
     "iopub.status.busy": "2022-06-10T17:07:50.717133Z",
     "iopub.status.idle": "2022-06-10T17:07:51.512665Z",
     "shell.execute_reply": "2022-06-10T17:07:51.511419Z",
     "shell.execute_reply.started": "2022-06-10T17:07:50.717564Z"
    }
   },
   "outputs": [],
   "source": [
    "train = pd.read_csv('../input/preassesment/train.csv')\n",
    "test = pd.read_csv('../input/preassesment/test.csv')\n",
    "print(f'Train data shape: {train.shape}, Test data shape: {test.shape}')"
   ]
  },
  {
   "cell_type": "code",
   "execution_count": 3,
   "metadata": {
    "execution": {
     "iopub.execute_input": "2022-06-10T17:07:51.514665Z",
     "iopub.status.busy": "2022-06-10T17:07:51.514159Z",
     "iopub.status.idle": "2022-06-10T17:07:51.554822Z",
     "shell.execute_reply": "2022-06-10T17:07:51.554000Z",
     "shell.execute_reply.started": "2022-06-10T17:07:51.514616Z"
    }
   },
   "outputs": [],
   "source": [
    "train.head()"
   ]
  },
  {
   "cell_type": "code",
   "execution_count": 4,
   "metadata": {
    "execution": {
     "iopub.execute_input": "2022-06-10T17:07:51.557853Z",
     "iopub.status.busy": "2022-06-10T17:07:51.556527Z",
     "iopub.status.idle": "2022-06-10T17:07:51.585769Z",
     "shell.execute_reply": "2022-06-10T17:07:51.584426Z",
     "shell.execute_reply.started": "2022-06-10T17:07:51.557805Z"
    }
   },
   "outputs": [],
   "source": [
    "test.head()"
   ]
  },
  {
   "cell_type": "code",
   "execution_count": 5,
   "metadata": {
    "execution": {
     "iopub.execute_input": "2022-06-10T17:07:51.587701Z",
     "iopub.status.busy": "2022-06-10T17:07:51.587228Z",
     "iopub.status.idle": "2022-06-10T17:07:51.600599Z",
     "shell.execute_reply": "2022-06-10T17:07:51.599409Z",
     "shell.execute_reply.started": "2022-06-10T17:07:51.587665Z"
    }
   },
   "outputs": [],
   "source": [
    "train.shape"
   ]
  },
  {
   "cell_type": "code",
   "execution_count": 6,
   "metadata": {
    "execution": {
     "iopub.execute_input": "2022-06-10T17:07:51.602490Z",
     "iopub.status.busy": "2022-06-10T17:07:51.601663Z",
     "iopub.status.idle": "2022-06-10T17:07:51.617289Z",
     "shell.execute_reply": "2022-06-10T17:07:51.616183Z",
     "shell.execute_reply.started": "2022-06-10T17:07:51.602454Z"
    }
   },
   "outputs": [],
   "source": [
    "test.shape"
   ]
  },
  {
   "cell_type": "code",
   "execution_count": 7,
   "metadata": {
    "execution": {
     "iopub.execute_input": "2022-06-10T17:07:51.619511Z",
     "iopub.status.busy": "2022-06-10T17:07:51.618641Z",
     "iopub.status.idle": "2022-06-10T17:07:51.631952Z",
     "shell.execute_reply": "2022-06-10T17:07:51.630889Z",
     "shell.execute_reply.started": "2022-06-10T17:07:51.619466Z"
    }
   },
   "outputs": [],
   "source": [
    "train.columns"
   ]
  },
  {
   "cell_type": "code",
   "execution_count": 8,
   "metadata": {
    "execution": {
     "iopub.execute_input": "2022-06-10T17:07:51.634229Z",
     "iopub.status.busy": "2022-06-10T17:07:51.633660Z",
     "iopub.status.idle": "2022-06-10T17:07:51.648114Z",
     "shell.execute_reply": "2022-06-10T17:07:51.647215Z",
     "shell.execute_reply.started": "2022-06-10T17:07:51.634196Z"
    }
   },
   "outputs": [],
   "source": [
    "test.columns"
   ]
  },
  {
   "cell_type": "code",
   "execution_count": 9,
   "metadata": {
    "execution": {
     "iopub.execute_input": "2022-06-10T17:07:51.649901Z",
     "iopub.status.busy": "2022-06-10T17:07:51.649416Z",
     "iopub.status.idle": "2022-06-10T17:07:51.722205Z",
     "shell.execute_reply": "2022-06-10T17:07:51.720895Z",
     "shell.execute_reply.started": "2022-06-10T17:07:51.649870Z"
    }
   },
   "outputs": [],
   "source": [
    "train.info()"
   ]
  },
  {
   "cell_type": "code",
   "execution_count": 10,
   "metadata": {
    "execution": {
     "iopub.execute_input": "2022-06-10T17:07:51.725431Z",
     "iopub.status.busy": "2022-06-10T17:07:51.725052Z",
     "iopub.status.idle": "2022-06-10T17:07:51.863749Z",
     "shell.execute_reply": "2022-06-10T17:07:51.862706Z",
     "shell.execute_reply.started": "2022-06-10T17:07:51.725397Z"
    }
   },
   "outputs": [],
   "source": [
    "test.isnull().sum()"
   ]
  },
  {
   "cell_type": "code",
   "execution_count": 11,
   "metadata": {
    "execution": {
     "iopub.execute_input": "2022-06-10T17:07:51.865936Z",
     "iopub.status.busy": "2022-06-10T17:07:51.865454Z",
     "iopub.status.idle": "2022-06-10T17:07:52.081990Z",
     "shell.execute_reply": "2022-06-10T17:07:52.080908Z",
     "shell.execute_reply.started": "2022-06-10T17:07:51.865891Z"
    }
   },
   "outputs": [],
   "source": [
    "print('Percentage of missing values in train data')\n",
    "for i in np.arange(train.shape[1]):\n",
    "    n = train.iloc[:,i].isnull().sum() \n",
    "    if n > 0:\n",
    "        print(list(train.columns.values)[i] + ': ' + str((n/train.shape[0])*100) + '% nans')\n",
    "print('Percentage of missing values in train data')\n",
    "for i in np.arange(test.shape[1]):\n",
    "    n = test.iloc[:,i].isnull().sum() \n",
    "    if n > 0:\n",
    "        print(list(test.columns.values)[i] + ': ' + str((n/test.shape[0])*100) + ' nans')"
   ]
  },
  {
   "cell_type": "code",
   "execution_count": 12,
   "metadata": {
    "execution": {
     "iopub.execute_input": "2022-06-10T17:07:52.083643Z",
     "iopub.status.busy": "2022-06-10T17:07:52.083263Z",
     "iopub.status.idle": "2022-06-10T17:07:52.186857Z",
     "shell.execute_reply": "2022-06-10T17:07:52.185158Z",
     "shell.execute_reply.started": "2022-06-10T17:07:52.083610Z"
    }
   },
   "outputs": [],
   "source": [
    "train.describe()"
   ]
  },
  {
   "cell_type": "code",
   "execution_count": 13,
   "metadata": {
    "execution": {
     "iopub.execute_input": "2022-06-10T17:07:52.189311Z",
     "iopub.status.busy": "2022-06-10T17:07:52.188874Z",
     "iopub.status.idle": "2022-06-10T17:07:52.331918Z",
     "shell.execute_reply": "2022-06-10T17:07:52.330320Z",
     "shell.execute_reply.started": "2022-06-10T17:07:52.189278Z"
    }
   },
   "outputs": [],
   "source": [
    "test.describe().T"
   ]
  },
  {
   "cell_type": "code",
   "execution_count": 14,
   "metadata": {
    "execution": {
     "iopub.execute_input": "2022-06-10T17:07:52.333766Z",
     "iopub.status.busy": "2022-06-10T17:07:52.333414Z",
     "iopub.status.idle": "2022-06-10T17:07:52.395650Z",
     "shell.execute_reply": "2022-06-10T17:07:52.394439Z",
     "shell.execute_reply.started": "2022-06-10T17:07:52.333736Z"
    }
   },
   "outputs": [],
   "source": [
    "[features for features in train.columns if train[features].isnull().sum()>0]"
   ]
  },
  {
   "cell_type": "code",
   "execution_count": 15,
   "metadata": {
    "execution": {
     "iopub.execute_input": "2022-06-10T17:07:52.397546Z",
     "iopub.status.busy": "2022-06-10T17:07:52.397048Z",
     "iopub.status.idle": "2022-06-10T17:07:52.557070Z",
     "shell.execute_reply": "2022-06-10T17:07:52.556124Z",
     "shell.execute_reply.started": "2022-06-10T17:07:52.397490Z"
    }
   },
   "outputs": [],
   "source": [
    "[features for features in test.columns if test[features].isnull().sum()>0]"
   ]
  },
  {
   "cell_type": "code",
   "execution_count": 16,
   "metadata": {
    "execution": {
     "iopub.execute_input": "2022-06-10T17:07:52.558610Z",
     "iopub.status.busy": "2022-06-10T17:07:52.558234Z",
     "iopub.status.idle": "2022-06-10T17:07:52.583088Z",
     "shell.execute_reply": "2022-06-10T17:07:52.582085Z",
     "shell.execute_reply.started": "2022-06-10T17:07:52.558577Z"
    }
   },
   "outputs": [],
   "source": [
    "train = train.drop(['s54','s55','s56','s57','s59'], axis=1)\n",
    "test = test.drop(['s54','s55','s56','s57','s59'], axis=1)"
   ]
  },
  {
   "cell_type": "code",
   "execution_count": 17,
   "metadata": {
    "execution": {
     "iopub.execute_input": "2022-06-10T17:07:52.585210Z",
     "iopub.status.busy": "2022-06-10T17:07:52.584731Z",
     "iopub.status.idle": "2022-06-10T17:07:52.661637Z",
     "shell.execute_reply": "2022-06-10T17:07:52.660626Z",
     "shell.execute_reply.started": "2022-06-10T17:07:52.585166Z"
    }
   },
   "outputs": [],
   "source": [
    "train.min()"
   ]
  },
  {
   "cell_type": "code",
   "execution_count": 18,
   "metadata": {
    "execution": {
     "iopub.execute_input": "2022-06-10T17:07:52.663447Z",
     "iopub.status.busy": "2022-06-10T17:07:52.663101Z",
     "iopub.status.idle": "2022-06-10T17:07:52.735520Z",
     "shell.execute_reply": "2022-06-10T17:07:52.733941Z",
     "shell.execute_reply.started": "2022-06-10T17:07:52.663417Z"
    }
   },
   "outputs": [],
   "source": [
    "train.max()"
   ]
  },
  {
   "cell_type": "code",
   "execution_count": 19,
   "metadata": {
    "execution": {
     "iopub.execute_input": "2022-06-10T17:07:52.737642Z",
     "iopub.status.busy": "2022-06-10T17:07:52.737184Z",
     "iopub.status.idle": "2022-06-10T17:07:52.795282Z",
     "shell.execute_reply": "2022-06-10T17:07:52.794206Z",
     "shell.execute_reply.started": "2022-06-10T17:07:52.737609Z"
    }
   },
   "outputs": [],
   "source": [
    "train.skew()"
   ]
  },
  {
   "cell_type": "code",
   "execution_count": 20,
   "metadata": {
    "execution": {
     "iopub.execute_input": "2022-06-10T17:07:52.797444Z",
     "iopub.status.busy": "2022-06-10T17:07:52.796620Z",
     "iopub.status.idle": "2022-06-10T17:07:52.980363Z",
     "shell.execute_reply": "2022-06-10T17:07:52.979567Z",
     "shell.execute_reply.started": "2022-06-10T17:07:52.797410Z"
    }
   },
   "outputs": [],
   "source": [
    "test.min()"
   ]
  },
  {
   "cell_type": "code",
   "execution_count": 21,
   "metadata": {
    "execution": {
     "iopub.execute_input": "2022-06-10T17:07:52.982285Z",
     "iopub.status.busy": "2022-06-10T17:07:52.981584Z",
     "iopub.status.idle": "2022-06-10T17:07:53.163484Z",
     "shell.execute_reply": "2022-06-10T17:07:53.162441Z",
     "shell.execute_reply.started": "2022-06-10T17:07:52.982249Z"
    }
   },
   "outputs": [],
   "source": [
    "test.max()"
   ]
  },
  {
   "cell_type": "code",
   "execution_count": 22,
   "metadata": {
    "execution": {
     "iopub.execute_input": "2022-06-10T17:07:53.167503Z",
     "iopub.status.busy": "2022-06-10T17:07:53.167087Z",
     "iopub.status.idle": "2022-06-10T17:07:53.326166Z",
     "shell.execute_reply": "2022-06-10T17:07:53.324752Z",
     "shell.execute_reply.started": "2022-06-10T17:07:53.167467Z"
    }
   },
   "outputs": [],
   "source": [
    "test.skew()"
   ]
  },
  {
   "cell_type": "code",
   "execution_count": 23,
   "metadata": {
    "execution": {
     "iopub.execute_input": "2022-06-10T17:07:53.328105Z",
     "iopub.status.busy": "2022-06-10T17:07:53.327738Z",
     "iopub.status.idle": "2022-06-10T17:07:53.478449Z",
     "shell.execute_reply": "2022-06-10T17:07:53.477422Z",
     "shell.execute_reply.started": "2022-06-10T17:07:53.328070Z"
    }
   },
   "outputs": [],
   "source": [
    "for i  in train.columns:\n",
    "    print(f'unique values in column \"{i}\" is\\n {train[i].value_counts()}')\n",
    "    print('-------------------------------------------------')"
   ]
  },
  {
   "cell_type": "code",
   "execution_count": 24,
   "metadata": {
    "execution": {
     "iopub.execute_input": "2022-06-10T17:07:53.480685Z",
     "iopub.status.busy": "2022-06-10T17:07:53.479681Z",
     "iopub.status.idle": "2022-06-10T17:07:53.853460Z",
     "shell.execute_reply": "2022-06-10T17:07:53.852399Z",
     "shell.execute_reply.started": "2022-06-10T17:07:53.480632Z"
    }
   },
   "outputs": [],
   "source": [
    "for i  in test.columns:\n",
    "    print(f'unique values in column \"{i}\" is\\n {test[i].value_counts()}')\n",
    "    print('-------------------------------------------------')"
   ]
  },
  {
   "cell_type": "code",
   "execution_count": 25,
   "metadata": {
    "execution": {
     "iopub.execute_input": "2022-06-10T17:07:53.855386Z",
     "iopub.status.busy": "2022-06-10T17:07:53.854967Z",
     "iopub.status.idle": "2022-06-10T17:07:53.861537Z",
     "shell.execute_reply": "2022-06-10T17:07:53.860530Z",
     "shell.execute_reply.started": "2022-06-10T17:07:53.855327Z"
    }
   },
   "outputs": [],
   "source": [
    "object_col=[]\n",
    "num_col=[]\n",
    "for i in train.columns:\n",
    "    if train[i].dtype=='object':\n",
    "        object_col.append(i)\n",
    "    else:\n",
    "        num_col.append(i)"
   ]
  },
  {
   "cell_type": "code",
   "execution_count": 26,
   "metadata": {
    "execution": {
     "iopub.execute_input": "2022-06-10T17:07:53.863215Z",
     "iopub.status.busy": "2022-06-10T17:07:53.862857Z",
     "iopub.status.idle": "2022-06-10T17:07:53.876835Z",
     "shell.execute_reply": "2022-06-10T17:07:53.875855Z",
     "shell.execute_reply.started": "2022-06-10T17:07:53.863183Z"
    }
   },
   "outputs": [],
   "source": [
    "object_col"
   ]
  },
  {
   "cell_type": "code",
   "execution_count": 27,
   "metadata": {
    "execution": {
     "iopub.execute_input": "2022-06-10T17:07:53.878675Z",
     "iopub.status.busy": "2022-06-10T17:07:53.878138Z",
     "iopub.status.idle": "2022-06-10T17:07:53.892870Z",
     "shell.execute_reply": "2022-06-10T17:07:53.892105Z",
     "shell.execute_reply.started": "2022-06-10T17:07:53.878638Z"
    }
   },
   "outputs": [],
   "source": [
    "num_col\n"
   ]
  },
  {
   "cell_type": "markdown",
   "metadata": {},
   "source": []
  },
  {
   "cell_type": "code",
   "execution_count": 28,
   "metadata": {
    "execution": {
     "iopub.execute_input": "2022-06-10T17:07:53.894583Z",
     "iopub.status.busy": "2022-06-10T17:07:53.894228Z",
     "iopub.status.idle": "2022-06-10T17:07:53.905517Z",
     "shell.execute_reply": "2022-06-10T17:07:53.904320Z",
     "shell.execute_reply.started": "2022-06-10T17:07:53.894553Z"
    }
   },
   "outputs": [],
   "source": [
    "object_col=[]\n",
    "num_col=[]\n",
    "for i in test.columns:\n",
    "    if test[i].dtype=='object':\n",
    "        object_col.append(i)\n",
    "    else:\n",
    "        num_col.append(i)"
   ]
  },
  {
   "cell_type": "code",
   "execution_count": 29,
   "metadata": {
    "execution": {
     "iopub.execute_input": "2022-06-10T17:07:53.907787Z",
     "iopub.status.busy": "2022-06-10T17:07:53.906949Z",
     "iopub.status.idle": "2022-06-10T17:07:53.921630Z",
     "shell.execute_reply": "2022-06-10T17:07:53.920469Z",
     "shell.execute_reply.started": "2022-06-10T17:07:53.907711Z"
    }
   },
   "outputs": [],
   "source": [
    "object_col"
   ]
  },
  {
   "cell_type": "code",
   "execution_count": 30,
   "metadata": {
    "execution": {
     "iopub.execute_input": "2022-06-10T17:07:53.923491Z",
     "iopub.status.busy": "2022-06-10T17:07:53.922985Z",
     "iopub.status.idle": "2022-06-10T17:07:53.936141Z",
     "shell.execute_reply": "2022-06-10T17:07:53.935376Z",
     "shell.execute_reply.started": "2022-06-10T17:07:53.923458Z"
    }
   },
   "outputs": [],
   "source": [
    "num_col"
   ]
  },
  {
   "cell_type": "code",
   "execution_count": 31,
   "metadata": {
    "execution": {
     "iopub.execute_input": "2022-06-10T17:07:53.937797Z",
     "iopub.status.busy": "2022-06-10T17:07:53.937427Z",
     "iopub.status.idle": "2022-06-10T17:07:53.953683Z",
     "shell.execute_reply": "2022-06-10T17:07:53.952896Z",
     "shell.execute_reply.started": "2022-06-10T17:07:53.937764Z"
    }
   },
   "outputs": [],
   "source": [
    "train.dtypes"
   ]
  },
  {
   "cell_type": "code",
   "execution_count": 32,
   "metadata": {
    "execution": {
     "iopub.execute_input": "2022-06-10T17:07:53.955315Z",
     "iopub.status.busy": "2022-06-10T17:07:53.954855Z",
     "iopub.status.idle": "2022-06-10T17:07:53.968087Z",
     "shell.execute_reply": "2022-06-10T17:07:53.967381Z",
     "shell.execute_reply.started": "2022-06-10T17:07:53.955275Z"
    }
   },
   "outputs": [],
   "source": [
    "test.dtypes"
   ]
  },
  {
   "cell_type": "code",
   "execution_count": 33,
   "metadata": {
    "execution": {
     "iopub.execute_input": "2022-06-10T17:07:53.970155Z",
     "iopub.status.busy": "2022-06-10T17:07:53.969446Z",
     "iopub.status.idle": "2022-06-10T17:07:54.008102Z",
     "shell.execute_reply": "2022-06-10T17:07:54.006651Z",
     "shell.execute_reply.started": "2022-06-10T17:07:53.970120Z"
    }
   },
   "outputs": [],
   "source": [
    "test.head()"
   ]
  },
  {
   "cell_type": "code",
   "execution_count": 34,
   "metadata": {
    "execution": {
     "iopub.execute_input": "2022-06-10T17:07:54.010738Z",
     "iopub.status.busy": "2022-06-10T17:07:54.009470Z",
     "iopub.status.idle": "2022-06-10T17:07:54.040153Z",
     "shell.execute_reply": "2022-06-10T17:07:54.039432Z",
     "shell.execute_reply.started": "2022-06-10T17:07:54.010697Z"
    }
   },
   "outputs": [],
   "source": [
    "train.head()"
   ]
  },
  {
   "cell_type": "code",
   "execution_count": 35,
   "metadata": {
    "execution": {
     "iopub.execute_input": "2022-06-10T17:07:54.042233Z",
     "iopub.status.busy": "2022-06-10T17:07:54.041316Z",
     "iopub.status.idle": "2022-06-10T17:07:55.644833Z",
     "shell.execute_reply": "2022-06-10T17:07:55.643618Z",
     "shell.execute_reply.started": "2022-06-10T17:07:54.042198Z"
    }
   },
   "outputs": [],
   "source": [
    "plt.figure(figsize=(15,9))\n",
    "sns.heatmap(train.corr(),annot=True)"
   ]
  },
  {
   "cell_type": "code",
   "execution_count": 36,
   "metadata": {
    "execution": {
     "iopub.execute_input": "2022-06-10T17:07:55.646597Z",
     "iopub.status.busy": "2022-06-10T17:07:55.646134Z",
     "iopub.status.idle": "2022-06-10T17:07:57.312888Z",
     "shell.execute_reply": "2022-06-10T17:07:57.311737Z",
     "shell.execute_reply.started": "2022-06-10T17:07:55.646563Z"
    }
   },
   "outputs": [],
   "source": [
    "plt.figure(figsize=(15,9))\n",
    "sns.heatmap(test.corr(),annot=True)"
   ]
  },
  {
   "cell_type": "code",
   "execution_count": 37,
   "metadata": {
    "execution": {
     "iopub.execute_input": "2022-06-10T17:07:57.315476Z",
     "iopub.status.busy": "2022-06-10T17:07:57.314551Z",
     "iopub.status.idle": "2022-06-10T17:07:58.974776Z",
     "shell.execute_reply": "2022-06-10T17:07:58.973482Z",
     "shell.execute_reply.started": "2022-06-10T17:07:57.315429Z"
    }
   },
   "outputs": [],
   "source": [
    "plt.figure(figsize=(15,11))\n",
    "cmap = sns.diverging_palette(230, 20, as_cmap=True)\n",
    "sns.heatmap(train.corr(),annot=True,cmap='Dark2_r',linewidths=2)\n",
    "plt.show()"
   ]
  },
  {
   "cell_type": "code",
   "execution_count": 38,
   "metadata": {
    "execution": {
     "iopub.execute_input": "2022-06-10T17:07:58.981318Z",
     "iopub.status.busy": "2022-06-10T17:07:58.980914Z",
     "iopub.status.idle": "2022-06-10T17:08:00.536560Z",
     "shell.execute_reply": "2022-06-10T17:08:00.534600Z",
     "shell.execute_reply.started": "2022-06-10T17:07:58.981284Z"
    }
   },
   "outputs": [],
   "source": [
    "plt.figure(figsize=(15,11))\n",
    "cmap = sns.diverging_palette(230, 20, as_cmap=True)\n",
    "sns.heatmap(test.corr(),annot=True,cmap='Dark2_r',linewidths=2)\n",
    "plt.show()"
   ]
  },
  {
   "cell_type": "code",
   "execution_count": 39,
   "metadata": {
    "execution": {
     "iopub.execute_input": "2022-06-10T17:08:00.538764Z",
     "iopub.status.busy": "2022-06-10T17:08:00.538246Z",
     "iopub.status.idle": "2022-06-10T17:08:00.548416Z",
     "shell.execute_reply": "2022-06-10T17:08:00.546609Z",
     "shell.execute_reply.started": "2022-06-10T17:08:00.538716Z"
    }
   },
   "outputs": [],
   "source": [
    "train.columns"
   ]
  },
  {
   "cell_type": "code",
   "execution_count": 40,
   "metadata": {
    "execution": {
     "iopub.execute_input": "2022-06-10T17:08:00.550768Z",
     "iopub.status.busy": "2022-06-10T17:08:00.550323Z",
     "iopub.status.idle": "2022-06-10T17:08:00.564095Z",
     "shell.execute_reply": "2022-06-10T17:08:00.563282Z",
     "shell.execute_reply.started": "2022-06-10T17:08:00.550726Z"
    }
   },
   "outputs": [],
   "source": [
    "test.columns"
   ]
  },
  {
   "cell_type": "code",
   "execution_count": 41,
   "metadata": {
    "execution": {
     "iopub.execute_input": "2022-06-10T17:08:00.566514Z",
     "iopub.status.busy": "2022-06-10T17:08:00.565713Z",
     "iopub.status.idle": "2022-06-10T17:08:01.073175Z",
     "shell.execute_reply": "2022-06-10T17:08:01.072009Z",
     "shell.execute_reply.started": "2022-06-10T17:08:00.566476Z"
    }
   },
   "outputs": [],
   "source": [
    "from sklearn.preprocessing import LabelEncoder\n",
    "cols=['gender','s11','s12','s16','s17','s18','s52','s53','s58','s69','s70','s71']\n",
    "le=LabelEncoder()\n",
    "for col in cols:\n",
    "    train[col]=le.fit_transform(train[col])\n",
    "    test[col]=le.fit_transform(test[col])"
   ]
  },
  {
   "cell_type": "code",
   "execution_count": 42,
   "metadata": {
    "execution": {
     "iopub.execute_input": "2022-06-10T17:08:01.075323Z",
     "iopub.status.busy": "2022-06-10T17:08:01.074411Z",
     "iopub.status.idle": "2022-06-10T17:08:01.115078Z",
     "shell.execute_reply": "2022-06-10T17:08:01.113894Z",
     "shell.execute_reply.started": "2022-06-10T17:08:01.075284Z"
    }
   },
   "outputs": [],
   "source": [
    "train"
   ]
  },
  {
   "cell_type": "code",
   "execution_count": 43,
   "metadata": {
    "execution": {
     "iopub.execute_input": "2022-06-10T17:08:01.117065Z",
     "iopub.status.busy": "2022-06-10T17:08:01.116697Z",
     "iopub.status.idle": "2022-06-10T17:08:01.201663Z",
     "shell.execute_reply": "2022-06-10T17:08:01.200642Z",
     "shell.execute_reply.started": "2022-06-10T17:08:01.117032Z"
    }
   },
   "outputs": [],
   "source": [
    "test"
   ]
  },
  {
   "cell_type": "code",
   "execution_count": 44,
   "metadata": {
    "execution": {
     "iopub.execute_input": "2022-06-10T17:08:01.203327Z",
     "iopub.status.busy": "2022-06-10T17:08:01.202961Z",
     "iopub.status.idle": "2022-06-10T17:08:01.217847Z",
     "shell.execute_reply": "2022-06-10T17:08:01.216736Z",
     "shell.execute_reply.started": "2022-06-10T17:08:01.203296Z"
    }
   },
   "outputs": [],
   "source": [
    "X=train.drop(columns=['id','label'],axis=1)\n",
    "y=train['label']"
   ]
  },
  {
   "cell_type": "code",
   "execution_count": 45,
   "metadata": {
    "execution": {
     "iopub.execute_input": "2022-06-10T17:08:01.219986Z",
     "iopub.status.busy": "2022-06-10T17:08:01.219247Z",
     "iopub.status.idle": "2022-06-10T17:08:01.228264Z",
     "shell.execute_reply": "2022-06-10T17:08:01.227093Z",
     "shell.execute_reply.started": "2022-06-10T17:08:01.219948Z"
    }
   },
   "outputs": [],
   "source": [
    "X.shape"
   ]
  },
  {
   "cell_type": "code",
   "execution_count": 46,
   "metadata": {
    "execution": {
     "iopub.execute_input": "2022-06-10T17:08:01.229936Z",
     "iopub.status.busy": "2022-06-10T17:08:01.229572Z",
     "iopub.status.idle": "2022-06-10T17:08:01.242522Z",
     "shell.execute_reply": "2022-06-10T17:08:01.241730Z",
     "shell.execute_reply.started": "2022-06-10T17:08:01.229905Z"
    }
   },
   "outputs": [],
   "source": [
    "y.shape"
   ]
  },
  {
   "cell_type": "code",
   "execution_count": 47,
   "metadata": {
    "execution": {
     "iopub.execute_input": "2022-06-10T17:08:01.244105Z",
     "iopub.status.busy": "2022-06-10T17:08:01.243743Z",
     "iopub.status.idle": "2022-06-10T17:08:01.274403Z",
     "shell.execute_reply": "2022-06-10T17:08:01.273209Z",
     "shell.execute_reply.started": "2022-06-10T17:08:01.244074Z"
    }
   },
   "outputs": [],
   "source": [
    "X.head()"
   ]
  },
  {
   "cell_type": "code",
   "execution_count": 48,
   "metadata": {
    "execution": {
     "iopub.execute_input": "2022-06-10T17:08:01.277575Z",
     "iopub.status.busy": "2022-06-10T17:08:01.275875Z",
     "iopub.status.idle": "2022-06-10T17:08:01.289637Z",
     "shell.execute_reply": "2022-06-10T17:08:01.288815Z",
     "shell.execute_reply.started": "2022-06-10T17:08:01.277512Z"
    }
   },
   "outputs": [],
   "source": [
    "y.tail()"
   ]
  },
  {
   "cell_type": "code",
   "execution_count": 49,
   "metadata": {
    "execution": {
     "iopub.execute_input": "2022-06-10T17:08:01.292437Z",
     "iopub.status.busy": "2022-06-10T17:08:01.290963Z",
     "iopub.status.idle": "2022-06-10T17:08:01.316225Z",
     "shell.execute_reply": "2022-06-10T17:08:01.315021Z",
     "shell.execute_reply.started": "2022-06-10T17:08:01.292380Z"
    }
   },
   "outputs": [],
   "source": [
    "xtrain,xtest,ytrain,ytest=train_test_split(X,y,test_size=0.3,random_state=0)"
   ]
  },
  {
   "cell_type": "code",
   "execution_count": 50,
   "metadata": {
    "execution": {
     "iopub.execute_input": "2022-06-10T17:08:01.320988Z",
     "iopub.status.busy": "2022-06-10T17:08:01.320540Z",
     "iopub.status.idle": "2022-06-10T17:08:01.881036Z",
     "shell.execute_reply": "2022-06-10T17:08:01.879412Z",
     "shell.execute_reply.started": "2022-06-10T17:08:01.320954Z"
    }
   },
   "outputs": [],
   "source": [
    "tre=DecisionTreeClassifier()\n",
    "tre.fit(xtrain,ytrain)\n",
    "pred_tre=tre.predict(xtest)\n",
    "accu_tre=accuracy_score(ytest,pred_tre)*100\n",
    "accu_tre"
   ]
  },
  {
   "cell_type": "code",
   "execution_count": 51,
   "metadata": {
    "execution": {
     "iopub.execute_input": "2022-06-10T17:08:01.883316Z",
     "iopub.status.busy": "2022-06-10T17:08:01.882773Z",
     "iopub.status.idle": "2022-06-10T17:08:01.911061Z",
     "shell.execute_reply": "2022-06-10T17:08:01.909154Z",
     "shell.execute_reply.started": "2022-06-10T17:08:01.883267Z"
    }
   },
   "outputs": [],
   "source": [
    "print(classification_report(ytest,pred_tre))"
   ]
  },
  {
   "cell_type": "code",
   "execution_count": 52,
   "metadata": {
    "execution": {
     "iopub.execute_input": "2022-06-10T17:08:01.913731Z",
     "iopub.status.busy": "2022-06-10T17:08:01.913009Z",
     "iopub.status.idle": "2022-06-10T17:08:02.135605Z",
     "shell.execute_reply": "2022-06-10T17:08:02.134554Z",
     "shell.execute_reply.started": "2022-06-10T17:08:01.913695Z"
    }
   },
   "outputs": [],
   "source": [
    "plot_roc_curve(tre,xtest,ytest)"
   ]
  },
  {
   "cell_type": "code",
   "execution_count": 53,
   "metadata": {
    "execution": {
     "iopub.execute_input": "2022-06-10T17:08:02.137832Z",
     "iopub.status.busy": "2022-06-10T17:08:02.137063Z",
     "iopub.status.idle": "2022-06-10T17:08:02.568541Z",
     "shell.execute_reply": "2022-06-10T17:08:02.567521Z",
     "shell.execute_reply.started": "2022-06-10T17:08:02.137784Z"
    }
   },
   "outputs": [],
   "source": [
    "lo=LogisticRegression()\n",
    "lo.fit(xtrain,ytrain)\n",
    "pred_lo=lo.predict(xtest)\n",
    "accu_lo=accuracy_score(ytest,pred_lo)*100\n",
    "accu_lo"
   ]
  },
  {
   "cell_type": "code",
   "execution_count": 54,
   "metadata": {
    "execution": {
     "iopub.execute_input": "2022-06-10T17:08:02.570736Z",
     "iopub.status.busy": "2022-06-10T17:08:02.569967Z",
     "iopub.status.idle": "2022-06-10T17:08:02.608687Z",
     "shell.execute_reply": "2022-06-10T17:08:02.607672Z",
     "shell.execute_reply.started": "2022-06-10T17:08:02.570679Z"
    }
   },
   "outputs": [],
   "source": [
    "print(classification_report(ytest,pred_lo))"
   ]
  },
  {
   "cell_type": "code",
   "execution_count": 55,
   "metadata": {
    "execution": {
     "iopub.execute_input": "2022-06-10T17:08:02.610881Z",
     "iopub.status.busy": "2022-06-10T17:08:02.610127Z",
     "iopub.status.idle": "2022-06-10T17:08:02.851900Z",
     "shell.execute_reply": "2022-06-10T17:08:02.851031Z",
     "shell.execute_reply.started": "2022-06-10T17:08:02.610822Z"
    }
   },
   "outputs": [],
   "source": [
    "plot_roc_curve(lo,xtest,ytest)"
   ]
  },
  {
   "cell_type": "code",
   "execution_count": 56,
   "metadata": {
    "execution": {
     "iopub.execute_input": "2022-06-10T17:08:02.853754Z",
     "iopub.status.busy": "2022-06-10T17:08:02.853109Z",
     "iopub.status.idle": "2022-06-10T17:08:06.880777Z",
     "shell.execute_reply": "2022-06-10T17:08:06.879197Z",
     "shell.execute_reply.started": "2022-06-10T17:08:02.853714Z"
    }
   },
   "outputs": [],
   "source": [
    "kne=KNeighborsClassifier()\n",
    "kne.fit(xtrain,ytrain)\n",
    "pred_kne=kne.predict(xtest)\n",
    "accu_kne=accuracy_score(ytest,pred_kne)*100\n",
    "accu_kne"
   ]
  },
  {
   "cell_type": "code",
   "execution_count": 57,
   "metadata": {
    "execution": {
     "iopub.execute_input": "2022-06-10T17:08:06.883007Z",
     "iopub.status.busy": "2022-06-10T17:08:06.882525Z",
     "iopub.status.idle": "2022-06-10T17:08:06.906774Z",
     "shell.execute_reply": "2022-06-10T17:08:06.905912Z",
     "shell.execute_reply.started": "2022-06-10T17:08:06.882970Z"
    }
   },
   "outputs": [],
   "source": [
    "print(classification_report(ytest,pred_kne))"
   ]
  },
  {
   "cell_type": "code",
   "execution_count": 58,
   "metadata": {
    "execution": {
     "iopub.execute_input": "2022-06-10T17:08:06.908790Z",
     "iopub.status.busy": "2022-06-10T17:08:06.908231Z",
     "iopub.status.idle": "2022-06-10T17:08:10.802934Z",
     "shell.execute_reply": "2022-06-10T17:08:10.801735Z",
     "shell.execute_reply.started": "2022-06-10T17:08:06.908753Z"
    }
   },
   "outputs": [],
   "source": [
    "plot_roc_curve(kne,xtest,ytest)"
   ]
  },
  {
   "cell_type": "code",
   "execution_count": 59,
   "metadata": {
    "execution": {
     "iopub.execute_input": "2022-06-10T17:08:10.804683Z",
     "iopub.status.busy": "2022-06-10T17:08:10.804287Z",
     "iopub.status.idle": "2022-06-10T17:08:10.809818Z",
     "shell.execute_reply": "2022-06-10T17:08:10.808811Z",
     "shell.execute_reply.started": "2022-06-10T17:08:10.804650Z"
    }
   },
   "outputs": [],
   "source": [
    "from sklearn.ensemble import AdaBoostClassifier"
   ]
  },
  {
   "cell_type": "code",
   "execution_count": 60,
   "metadata": {
    "execution": {
     "iopub.execute_input": "2022-06-10T17:08:10.811627Z",
     "iopub.status.busy": "2022-06-10T17:08:10.811243Z",
     "iopub.status.idle": "2022-06-10T17:08:13.105183Z",
     "shell.execute_reply": "2022-06-10T17:08:13.104343Z",
     "shell.execute_reply.started": "2022-06-10T17:08:10.811595Z"
    }
   },
   "outputs": [],
   "source": [
    "ada=AdaBoostClassifier()\n",
    "ada.fit(xtrain,ytrain)\n",
    "pred_ada=ada.predict(xtest)\n",
    "accu_ada=accuracy_score(ytest,pred_ada)*100\n",
    "accu_ada"
   ]
  },
  {
   "cell_type": "code",
   "execution_count": 61,
   "metadata": {
    "execution": {
     "iopub.execute_input": "2022-06-10T17:08:13.107182Z",
     "iopub.status.busy": "2022-06-10T17:08:13.106159Z",
     "iopub.status.idle": "2022-06-10T17:08:13.129321Z",
     "shell.execute_reply": "2022-06-10T17:08:13.128579Z",
     "shell.execute_reply.started": "2022-06-10T17:08:13.107133Z"
    }
   },
   "outputs": [],
   "source": [
    "print(classification_report(ytest,pred_ada))"
   ]
  },
  {
   "cell_type": "code",
   "execution_count": 62,
   "metadata": {
    "execution": {
     "iopub.execute_input": "2022-06-10T17:08:13.131234Z",
     "iopub.status.busy": "2022-06-10T17:08:13.130688Z",
     "iopub.status.idle": "2022-06-10T17:08:13.373118Z",
     "shell.execute_reply": "2022-06-10T17:08:13.371573Z",
     "shell.execute_reply.started": "2022-06-10T17:08:13.131193Z"
    }
   },
   "outputs": [],
   "source": [
    "plot_roc_curve(ada,xtest,ytest)"
   ]
  },
  {
   "cell_type": "code",
   "execution_count": 63,
   "metadata": {
    "execution": {
     "iopub.execute_input": "2022-06-10T17:08:13.375853Z",
     "iopub.status.busy": "2022-06-10T17:08:13.375047Z",
     "iopub.status.idle": "2022-06-10T17:08:13.382099Z",
     "shell.execute_reply": "2022-06-10T17:08:13.380556Z",
     "shell.execute_reply.started": "2022-06-10T17:08:13.375805Z"
    }
   },
   "outputs": [],
   "source": [
    "from sklearn.ensemble import BaggingClassifier"
   ]
  },
  {
   "cell_type": "code",
   "execution_count": 64,
   "metadata": {
    "execution": {
     "iopub.execute_input": "2022-06-10T17:08:13.384625Z",
     "iopub.status.busy": "2022-06-10T17:08:13.384063Z",
     "iopub.status.idle": "2022-06-10T17:08:16.676816Z",
     "shell.execute_reply": "2022-06-10T17:08:16.675825Z",
     "shell.execute_reply.started": "2022-06-10T17:08:13.384581Z"
    }
   },
   "outputs": [],
   "source": [
    "bag=BaggingClassifier()\n",
    "bag.fit(xtrain,ytrain)\n",
    "pred_bag=bag.predict(xtest)\n",
    "accu_bag=accuracy_score(ytest , pred_bag)*100\n",
    "accu_bag"
   ]
  },
  {
   "cell_type": "code",
   "execution_count": 65,
   "metadata": {
    "execution": {
     "iopub.execute_input": "2022-06-10T17:08:16.678727Z",
     "iopub.status.busy": "2022-06-10T17:08:16.678358Z",
     "iopub.status.idle": "2022-06-10T17:08:16.703922Z",
     "shell.execute_reply": "2022-06-10T17:08:16.702487Z",
     "shell.execute_reply.started": "2022-06-10T17:08:16.678694Z"
    }
   },
   "outputs": [],
   "source": [
    "print(classification_report(ytest,pred_bag))"
   ]
  },
  {
   "cell_type": "code",
   "execution_count": 66,
   "metadata": {
    "execution": {
     "iopub.execute_input": "2022-06-10T17:08:16.706212Z",
     "iopub.status.busy": "2022-06-10T17:08:16.705628Z",
     "iopub.status.idle": "2022-06-10T17:08:16.911128Z",
     "shell.execute_reply": "2022-06-10T17:08:16.909650Z",
     "shell.execute_reply.started": "2022-06-10T17:08:16.706139Z"
    }
   },
   "outputs": [],
   "source": [
    "plot_roc_curve(bag,xtest,ytest)"
   ]
  },
  {
   "cell_type": "code",
   "execution_count": 67,
   "metadata": {
    "execution": {
     "iopub.execute_input": "2022-06-10T17:08:16.913818Z",
     "iopub.status.busy": "2022-06-10T17:08:16.912911Z",
     "iopub.status.idle": "2022-06-10T17:08:16.917842Z",
     "shell.execute_reply": "2022-06-10T17:08:16.917082Z",
     "shell.execute_reply.started": "2022-06-10T17:08:16.913779Z"
    }
   },
   "outputs": [],
   "source": [
    "from sklearn.naive_bayes import GaussianNB"
   ]
  },
  {
   "cell_type": "code",
   "execution_count": 68,
   "metadata": {
    "execution": {
     "iopub.execute_input": "2022-06-10T17:08:16.920659Z",
     "iopub.status.busy": "2022-06-10T17:08:16.919438Z",
     "iopub.status.idle": "2022-06-10T17:08:16.965471Z",
     "shell.execute_reply": "2022-06-10T17:08:16.964374Z",
     "shell.execute_reply.started": "2022-06-10T17:08:16.920604Z"
    }
   },
   "outputs": [],
   "source": [
    "gau=GaussianNB()\n",
    "gau.fit(xtrain,ytrain)\n",
    "pre_gau=gau.predict(xtest)\n",
    "accu_l=accuracy_score(ytest,pre_gau)*100\n",
    "accu_l"
   ]
  },
  {
   "cell_type": "code",
   "execution_count": 69,
   "metadata": {
    "execution": {
     "iopub.execute_input": "2022-06-10T17:08:16.967303Z",
     "iopub.status.busy": "2022-06-10T17:08:16.966949Z",
     "iopub.status.idle": "2022-06-10T17:08:16.995421Z",
     "shell.execute_reply": "2022-06-10T17:08:16.994085Z",
     "shell.execute_reply.started": "2022-06-10T17:08:16.967272Z"
    }
   },
   "outputs": [],
   "source": [
    "print(classification_report(ytest,pre_gau))"
   ]
  },
  {
   "cell_type": "code",
   "execution_count": 70,
   "metadata": {
    "execution": {
     "iopub.execute_input": "2022-06-10T17:08:16.998505Z",
     "iopub.status.busy": "2022-06-10T17:08:16.997222Z",
     "iopub.status.idle": "2022-06-10T17:08:17.416308Z",
     "shell.execute_reply": "2022-06-10T17:08:17.415532Z",
     "shell.execute_reply.started": "2022-06-10T17:08:16.998461Z"
    }
   },
   "outputs": [],
   "source": [
    "plot_roc_curve(bag,xtest,ytest)"
   ]
  },
  {
   "cell_type": "code",
   "execution_count": 71,
   "metadata": {
    "execution": {
     "iopub.execute_input": "2022-06-10T17:08:17.418189Z",
     "iopub.status.busy": "2022-06-10T17:08:17.417453Z",
     "iopub.status.idle": "2022-06-10T17:08:17.422315Z",
     "shell.execute_reply": "2022-06-10T17:08:17.421265Z",
     "shell.execute_reply.started": "2022-06-10T17:08:17.418155Z"
    }
   },
   "outputs": [],
   "source": [
    "from sklearn.ensemble import ExtraTreesClassifier"
   ]
  },
  {
   "cell_type": "code",
   "execution_count": 72,
   "metadata": {
    "execution": {
     "iopub.execute_input": "2022-06-10T17:08:17.424324Z",
     "iopub.status.busy": "2022-06-10T17:08:17.423964Z",
     "iopub.status.idle": "2022-06-10T17:08:20.040553Z",
     "shell.execute_reply": "2022-06-10T17:08:20.039190Z",
     "shell.execute_reply.started": "2022-06-10T17:08:17.424292Z"
    }
   },
   "outputs": [],
   "source": [
    "etc=ExtraTreesClassifier()\n",
    "etc.fit(xtrain,ytrain)\n",
    "pre_etc=etc.predict(xtest)\n",
    "accu_etc=accuracy_score(ytest,pre_etc)*100\n",
    "accu_etc"
   ]
  },
  {
   "cell_type": "code",
   "execution_count": 73,
   "metadata": {
    "execution": {
     "iopub.execute_input": "2022-06-10T17:08:20.042404Z",
     "iopub.status.busy": "2022-06-10T17:08:20.042007Z",
     "iopub.status.idle": "2022-06-10T17:08:20.070450Z",
     "shell.execute_reply": "2022-06-10T17:08:20.069311Z",
     "shell.execute_reply.started": "2022-06-10T17:08:20.042372Z"
    }
   },
   "outputs": [],
   "source": [
    "print(classification_report(ytest,pre_etc))"
   ]
  },
  {
   "cell_type": "code",
   "execution_count": 74,
   "metadata": {
    "execution": {
     "iopub.execute_input": "2022-06-10T17:08:20.072308Z",
     "iopub.status.busy": "2022-06-10T17:08:20.071743Z",
     "iopub.status.idle": "2022-06-10T17:08:20.584447Z",
     "shell.execute_reply": "2022-06-10T17:08:20.583413Z",
     "shell.execute_reply.started": "2022-06-10T17:08:20.072266Z"
    }
   },
   "outputs": [],
   "source": [
    "plot_roc_curve(etc,xtest,ytest)"
   ]
  },
  {
   "cell_type": "code",
   "execution_count": 75,
   "metadata": {
    "execution": {
     "iopub.execute_input": "2022-06-10T17:08:20.585729Z",
     "iopub.status.busy": "2022-06-10T17:08:20.585416Z",
     "iopub.status.idle": "2022-06-10T17:08:20.590609Z",
     "shell.execute_reply": "2022-06-10T17:08:20.589416Z",
     "shell.execute_reply.started": "2022-06-10T17:08:20.585699Z"
    }
   },
   "outputs": [],
   "source": [
    "from sklearn.svm import SVC"
   ]
  },
  {
   "cell_type": "code",
   "execution_count": 76,
   "metadata": {
    "execution": {
     "iopub.execute_input": "2022-06-10T17:08:20.592097Z",
     "iopub.status.busy": "2022-06-10T17:08:20.591780Z",
     "iopub.status.idle": "2022-06-10T17:08:35.760116Z",
     "shell.execute_reply": "2022-06-10T17:08:35.759404Z",
     "shell.execute_reply.started": "2022-06-10T17:08:20.592068Z"
    }
   },
   "outputs": [],
   "source": [
    "svc=SVC()\n",
    "svc.fit(xtrain,ytrain)\n",
    "pre_svc=svc.predict(xtest)\n",
    "accu_svc=accuracy_score(ytest,pre_svc)*100\n",
    "accu_svc"
   ]
  },
  {
   "cell_type": "code",
   "execution_count": 77,
   "metadata": {
    "execution": {
     "iopub.execute_input": "2022-06-10T17:08:35.762203Z",
     "iopub.status.busy": "2022-06-10T17:08:35.761536Z",
     "iopub.status.idle": "2022-06-10T17:08:35.786915Z",
     "shell.execute_reply": "2022-06-10T17:08:35.785603Z",
     "shell.execute_reply.started": "2022-06-10T17:08:35.762154Z"
    }
   },
   "outputs": [],
   "source": [
    "print(classification_report(ytest,pre_svc))"
   ]
  },
  {
   "cell_type": "code",
   "execution_count": 78,
   "metadata": {
    "execution": {
     "iopub.execute_input": "2022-06-10T17:08:35.789534Z",
     "iopub.status.busy": "2022-06-10T17:08:35.789107Z",
     "iopub.status.idle": "2022-06-10T17:08:40.545456Z",
     "shell.execute_reply": "2022-06-10T17:08:40.544489Z",
     "shell.execute_reply.started": "2022-06-10T17:08:35.789500Z"
    }
   },
   "outputs": [],
   "source": [
    "plot_roc_curve(svc,xtest,ytest)"
   ]
  },
  {
   "cell_type": "code",
   "execution_count": 79,
   "metadata": {
    "execution": {
     "iopub.execute_input": "2022-06-10T17:08:40.548065Z",
     "iopub.status.busy": "2022-06-10T17:08:40.547377Z",
     "iopub.status.idle": "2022-06-10T17:08:40.554517Z",
     "shell.execute_reply": "2022-06-10T17:08:40.552805Z",
     "shell.execute_reply.started": "2022-06-10T17:08:40.548006Z"
    }
   },
   "outputs": [],
   "source": [
    "from sklearn.ensemble import RandomForestClassifier"
   ]
  },
  {
   "cell_type": "code",
   "execution_count": 80,
   "metadata": {
    "execution": {
     "iopub.execute_input": "2022-06-10T17:08:40.556930Z",
     "iopub.status.busy": "2022-06-10T17:08:40.556412Z",
     "iopub.status.idle": "2022-06-10T17:08:46.705315Z",
     "shell.execute_reply": "2022-06-10T17:08:46.704142Z",
     "shell.execute_reply.started": "2022-06-10T17:08:40.556881Z"
    }
   },
   "outputs": [],
   "source": [
    "rfc=RandomForestClassifier()\n",
    "rfc.fit(xtrain,ytrain)\n",
    "pre_rfc=rfc.predict(xtest)\n",
    "accu_rfc=accuracy_score(ytest,pre_rfc)*100\n",
    "accu_rfc"
   ]
  },
  {
   "cell_type": "code",
   "execution_count": 81,
   "metadata": {
    "execution": {
     "iopub.execute_input": "2022-06-10T17:08:46.706955Z",
     "iopub.status.busy": "2022-06-10T17:08:46.706594Z",
     "iopub.status.idle": "2022-06-10T17:08:46.732057Z",
     "shell.execute_reply": "2022-06-10T17:08:46.731302Z",
     "shell.execute_reply.started": "2022-06-10T17:08:46.706925Z"
    }
   },
   "outputs": [],
   "source": [
    "print(classification_report(ytest,pre_rfc))"
   ]
  },
  {
   "cell_type": "code",
   "execution_count": 82,
   "metadata": {
    "execution": {
     "iopub.execute_input": "2022-06-10T17:08:46.733620Z",
     "iopub.status.busy": "2022-06-10T17:08:46.733160Z",
     "iopub.status.idle": "2022-06-10T17:08:47.155624Z",
     "shell.execute_reply": "2022-06-10T17:08:47.154870Z",
     "shell.execute_reply.started": "2022-06-10T17:08:46.733591Z"
    }
   },
   "outputs": [],
   "source": [
    "plot_roc_curve(rfc,xtest,ytest)"
   ]
  },
  {
   "cell_type": "code",
   "execution_count": 83,
   "metadata": {
    "execution": {
     "iopub.execute_input": "2022-06-10T17:08:47.157168Z",
     "iopub.status.busy": "2022-06-10T17:08:47.156747Z",
     "iopub.status.idle": "2022-06-10T17:08:47.171732Z",
     "shell.execute_reply": "2022-06-10T17:08:47.170566Z",
     "shell.execute_reply.started": "2022-06-10T17:08:47.157139Z"
    }
   },
   "outputs": [],
   "source": [
    "models = pd.DataFrame({\n",
    "    'Model': ['LogisticRegression','DecisionTreeClassifier','KNeighborsClassifier' , \n",
    "             'AdaBoostClassifier','BaggingClassifier','GaussianNB','ExtraTreesClassifier','SVM','RandomForestClassifier'],\n",
    "    'Score': [accu_lo,accu_tre, accu_kne, accu_ada,accu_bag,accu_l,accu_etc,accu_svc,accu_rfc]\n",
    "})\n",
    "\n",
    "models.sort_values(by = 'Score', ascending = False)"
   ]
  },
  {
   "cell_type": "code",
   "execution_count": 84,
   "metadata": {
    "execution": {
     "iopub.execute_input": "2022-06-10T17:08:47.173899Z",
     "iopub.status.busy": "2022-06-10T17:08:47.173383Z",
     "iopub.status.idle": "2022-06-10T17:08:47.466048Z",
     "shell.execute_reply": "2022-06-10T17:08:47.465250Z",
     "shell.execute_reply.started": "2022-06-10T17:08:47.173865Z"
    }
   },
   "outputs": [],
   "source": [
    "colors = [\"purple\", \"green\", \"orange\", \"magenta\",\"blue\",\"black\",\"red\"]\n",
    "\n",
    "sns.set_style(\"whitegrid\")\n",
    "plt.figure(figsize=(15,8))\n",
    "plt.ylabel(\"Accuracy %\")\n",
    "plt.xlabel(\"Algorithms\")\n",
    "sns.barplot(x=models['Model'],y=models['Score'], palette=colors )\n",
    "plt.show()"
   ]
  },
  {
   "cell_type": "code",
   "execution_count": 85,
   "metadata": {
    "execution": {
     "iopub.execute_input": "2022-06-10T17:08:47.473680Z",
     "iopub.status.busy": "2022-06-10T17:08:47.472650Z",
     "iopub.status.idle": "2022-06-10T17:08:47.501835Z",
     "shell.execute_reply": "2022-06-10T17:08:47.500886Z",
     "shell.execute_reply.started": "2022-06-10T17:08:47.473609Z"
    }
   },
   "outputs": [],
   "source": [
    "df=test.copy()"
   ]
  },
  {
   "cell_type": "code",
   "execution_count": 86,
   "metadata": {
    "execution": {
     "iopub.execute_input": "2022-06-10T17:08:47.504094Z",
     "iopub.status.busy": "2022-06-10T17:08:47.503497Z",
     "iopub.status.idle": "2022-06-10T17:08:47.520754Z",
     "shell.execute_reply": "2022-06-10T17:08:47.519255Z",
     "shell.execute_reply.started": "2022-06-10T17:08:47.504058Z"
    }
   },
   "outputs": [],
   "source": [
    "df = df.drop('id',axis=1)"
   ]
  },
  {
   "cell_type": "code",
   "execution_count": 87,
   "metadata": {
    "execution": {
     "iopub.execute_input": "2022-06-10T17:08:47.522998Z",
     "iopub.status.busy": "2022-06-10T17:08:47.522604Z",
     "iopub.status.idle": "2022-06-10T17:08:47.548949Z",
     "shell.execute_reply": "2022-06-10T17:08:47.547793Z",
     "shell.execute_reply.started": "2022-06-10T17:08:47.522965Z"
    }
   },
   "outputs": [],
   "source": [
    "df.head()"
   ]
  },
  {
   "cell_type": "code",
   "execution_count": 88,
   "metadata": {
    "execution": {
     "iopub.execute_input": "2022-06-10T17:08:47.551828Z",
     "iopub.status.busy": "2022-06-10T17:08:47.550863Z",
     "iopub.status.idle": "2022-06-10T17:08:48.241242Z",
     "shell.execute_reply": "2022-06-10T17:08:48.240218Z",
     "shell.execute_reply.started": "2022-06-10T17:08:47.551789Z"
    }
   },
   "outputs": [],
   "source": [
    "test_ada=ada.predict(df)"
   ]
  },
  {
   "cell_type": "code",
   "execution_count": 89,
   "metadata": {
    "execution": {
     "iopub.execute_input": "2022-06-10T17:08:48.243032Z",
     "iopub.status.busy": "2022-06-10T17:08:48.242681Z",
     "iopub.status.idle": "2022-06-10T17:08:48.251481Z",
     "shell.execute_reply": "2022-06-10T17:08:48.250026Z",
     "shell.execute_reply.started": "2022-06-10T17:08:48.243001Z"
    }
   },
   "outputs": [],
   "source": [
    "submission = pd.DataFrame(test['id'],columns=['id'])"
   ]
  },
  {
   "cell_type": "code",
   "execution_count": 90,
   "metadata": {
    "execution": {
     "iopub.execute_input": "2022-06-10T17:08:48.253839Z",
     "iopub.status.busy": "2022-06-10T17:08:48.253326Z",
     "iopub.status.idle": "2022-06-10T17:08:48.264226Z",
     "shell.execute_reply": "2022-06-10T17:08:48.263177Z",
     "shell.execute_reply.started": "2022-06-10T17:08:48.253795Z"
    }
   },
   "outputs": [],
   "source": [
    "submission['label'] = test_ada"
   ]
  },
  {
   "cell_type": "code",
   "execution_count": 91,
   "metadata": {
    "execution": {
     "iopub.execute_input": "2022-06-10T17:08:48.266012Z",
     "iopub.status.busy": "2022-06-10T17:08:48.265645Z",
     "iopub.status.idle": "2022-06-10T17:08:48.285835Z",
     "shell.execute_reply": "2022-06-10T17:08:48.284830Z",
     "shell.execute_reply.started": "2022-06-10T17:08:48.265982Z"
    }
   },
   "outputs": [],
   "source": [
    "submission.sample(10)"
   ]
  },
  {
   "cell_type": "code",
   "execution_count": 94,
   "metadata": {
    "execution": {
     "iopub.execute_input": "2022-06-10T17:15:19.628301Z",
     "iopub.status.busy": "2022-06-10T17:15:19.627837Z",
     "iopub.status.idle": "2022-06-10T17:15:20.202075Z",
     "shell.execute_reply": "2022-06-10T17:15:20.200879Z",
     "shell.execute_reply.started": "2022-06-10T17:15:19.628268Z"
    }
   },
   "outputs": [],
   "source": [
    "submission.to_csv('submission_Anonymous Five_2u27pl.csv')"
   ]
  },
  {
   "cell_type": "code",
   "execution_count": null,
   "metadata": {},
   "outputs": [],
   "source": []
  }
 ],
 "metadata": {
  "kernelspec": {
   "display_name": "Python 3",
   "language": "python",
   "name": "python3"
  },
  "language_info": {
   "codemirror_mode": {
    "name": "ipython",
    "version": 3
   },
   "file_extension": ".py",
   "mimetype": "text/x-python",
   "name": "python",
   "nbconvert_exporter": "python",
   "pygments_lexer": "ipython3",
   "version": "3.8.8"
  }
 },
 "nbformat": 4,
 "nbformat_minor": 4
}
