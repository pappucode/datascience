{
 "cells": [
  {
   "cell_type": "code",
   "execution_count": 80,
   "metadata": {
    "_cell_guid": "b1076dfc-b9ad-4769-8c92-a6c4dae69d19",
    "_uuid": "8f2839f25d086af736a60e9eeb907d3b93b6e0e5",
    "execution": {
     "iopub.execute_input": "2022-06-10T19:15:54.460742Z",
     "iopub.status.busy": "2022-06-10T19:15:54.459875Z",
     "iopub.status.idle": "2022-06-10T19:15:54.474807Z",
     "shell.execute_reply": "2022-06-10T19:15:54.473412Z",
     "shell.execute_reply.started": "2022-06-10T19:15:54.460697Z"
    }
   },
   "outputs": [],
   "source": [
    "# This Python 3 environment comes with many helpful analytics libraries installed\n",
    "# It is defined by the kaggle/python Docker image: https://github.com/kaggle/docker-python\n",
    "# For example, here's several helpful packages to load\n",
    "\n",
    "import numpy as np # linear algebra\n",
    "import pandas as pd # data processing, CSV file I/O (e.g. pd.read_csv)\n",
    "\n",
    "# Input data files are available in the read-only \"../input/\" directory\n",
    "# For example, running this (by clicking run or pressing Shift+Enter) will list all files under the input directory\n",
    "\n",
    "import os\n",
    "for dirname, _, filenames in os.walk('/kaggle/input'):\n",
    "    for filename in filenames:\n",
    "        print(os.path.join(dirname, filename))\n",
    "\n",
    "# You can write up to 20GB to the current directory (/kaggle/working/) that gets preserved as output when you create a version using \"Save & Run All\" \n",
    "# You can also write temporary files to /kaggle/temp/, but they won't be saved outside of the current session"
   ]
  },
  {
   "cell_type": "markdown",
   "metadata": {},
   "source": [
    "**Import necessary libraries**"
   ]
  },
  {
   "cell_type": "code",
   "execution_count": 295,
   "metadata": {
    "execution": {
     "iopub.execute_input": "2022-06-10T22:36:31.557470Z",
     "iopub.status.busy": "2022-06-10T22:36:31.557048Z",
     "iopub.status.idle": "2022-06-10T22:36:31.563231Z",
     "shell.execute_reply": "2022-06-10T22:36:31.561812Z",
     "shell.execute_reply.started": "2022-06-10T22:36:31.557437Z"
    }
   },
   "outputs": [],
   "source": [
    "import pandas as pd\n",
    "import numpy as np\n",
    "import matplotlib.pyplot as plt\n",
    "import seaborn as sns\n",
    "import xgboost as xgb\n",
    "from sklearn.model_selection import train_test_split"
   ]
  },
  {
   "cell_type": "markdown",
   "metadata": {},
   "source": [
    "**Load the datasets**"
   ]
  },
  {
   "cell_type": "code",
   "execution_count": 296,
   "metadata": {
    "execution": {
     "iopub.execute_input": "2022-06-10T22:36:35.808298Z",
     "iopub.status.busy": "2022-06-10T22:36:35.807577Z",
     "iopub.status.idle": "2022-06-10T22:36:36.552411Z",
     "shell.execute_reply": "2022-06-10T22:36:36.550795Z",
     "shell.execute_reply.started": "2022-06-10T22:36:35.808251Z"
    }
   },
   "outputs": [],
   "source": [
    "train = pd.read_csv('../input/train-dataset/train.csv')\n",
    "test = pd.read_csv('../input/test-dataset/test.csv')"
   ]
  },
  {
   "cell_type": "code",
   "execution_count": 297,
   "metadata": {
    "execution": {
     "iopub.execute_input": "2022-06-10T22:36:36.582406Z",
     "iopub.status.busy": "2022-06-10T22:36:36.581884Z",
     "iopub.status.idle": "2022-06-10T22:36:36.613116Z",
     "shell.execute_reply": "2022-06-10T22:36:36.611863Z",
     "shell.execute_reply.started": "2022-06-10T22:36:36.582363Z"
    }
   },
   "outputs": [],
   "source": [
    "train.head()"
   ]
  },
  {
   "cell_type": "code",
   "execution_count": 298,
   "metadata": {
    "execution": {
     "iopub.execute_input": "2022-06-10T22:36:39.764587Z",
     "iopub.status.busy": "2022-06-10T22:36:39.764049Z",
     "iopub.status.idle": "2022-06-10T22:36:39.789606Z",
     "shell.execute_reply": "2022-06-10T22:36:39.788838Z",
     "shell.execute_reply.started": "2022-06-10T22:36:39.764544Z"
    }
   },
   "outputs": [],
   "source": [
    "test.head()"
   ]
  },
  {
   "cell_type": "code",
   "execution_count": 299,
   "metadata": {
    "execution": {
     "iopub.execute_input": "2022-06-10T22:36:42.019407Z",
     "iopub.status.busy": "2022-06-10T22:36:42.018271Z",
     "iopub.status.idle": "2022-06-10T22:36:42.054800Z",
     "shell.execute_reply": "2022-06-10T22:36:42.053990Z",
     "shell.execute_reply.started": "2022-06-10T22:36:42.019335Z"
    }
   },
   "outputs": [],
   "source": [
    "train.info()"
   ]
  },
  {
   "cell_type": "code",
   "execution_count": 300,
   "metadata": {
    "execution": {
     "iopub.execute_input": "2022-06-10T22:36:44.612714Z",
     "iopub.status.busy": "2022-06-10T22:36:44.612318Z",
     "iopub.status.idle": "2022-06-10T22:36:44.619105Z",
     "shell.execute_reply": "2022-06-10T22:36:44.618261Z",
     "shell.execute_reply.started": "2022-06-10T22:36:44.612687Z"
    }
   },
   "outputs": [],
   "source": [
    "train.shape"
   ]
  },
  {
   "cell_type": "code",
   "execution_count": 302,
   "metadata": {
    "execution": {
     "iopub.execute_input": "2022-06-10T22:36:48.609447Z",
     "iopub.status.busy": "2022-06-10T22:36:48.608545Z",
     "iopub.status.idle": "2022-06-10T22:36:48.703902Z",
     "shell.execute_reply": "2022-06-10T22:36:48.703131Z",
     "shell.execute_reply.started": "2022-06-10T22:36:48.609405Z"
    }
   },
   "outputs": [],
   "source": [
    "train.describe()"
   ]
  },
  {
   "cell_type": "markdown",
   "metadata": {},
   "source": [
    "**Cleaning and preprocessing**"
   ]
  },
  {
   "cell_type": "code",
   "execution_count": 303,
   "metadata": {
    "execution": {
     "iopub.execute_input": "2022-06-10T22:36:55.776530Z",
     "iopub.status.busy": "2022-06-10T22:36:55.776132Z",
     "iopub.status.idle": "2022-06-10T22:36:55.824855Z",
     "shell.execute_reply": "2022-06-10T22:36:55.824216Z",
     "shell.execute_reply.started": "2022-06-10T22:36:55.776498Z"
    }
   },
   "outputs": [],
   "source": [
    "#Check the Null Values for train data\n",
    "train.isnull().values.any()"
   ]
  },
  {
   "cell_type": "code",
   "execution_count": 304,
   "metadata": {
    "execution": {
     "iopub.execute_input": "2022-06-10T22:36:57.535603Z",
     "iopub.status.busy": "2022-06-10T22:36:57.535145Z",
     "iopub.status.idle": "2022-06-10T22:36:57.662126Z",
     "shell.execute_reply": "2022-06-10T22:36:57.661272Z",
     "shell.execute_reply.started": "2022-06-10T22:36:57.535564Z"
    }
   },
   "outputs": [],
   "source": [
    "#check the Null Values for test data\n",
    "test.isnull().values.any()"
   ]
  },
  {
   "cell_type": "code",
   "execution_count": 305,
   "metadata": {
    "execution": {
     "iopub.execute_input": "2022-06-10T22:36:59.626459Z",
     "iopub.status.busy": "2022-06-10T22:36:59.626008Z",
     "iopub.status.idle": "2022-06-10T22:36:59.674955Z",
     "shell.execute_reply": "2022-06-10T22:36:59.673328Z",
     "shell.execute_reply.started": "2022-06-10T22:36:59.626425Z"
    }
   },
   "outputs": [],
   "source": [
    "#Total Null Values for train\n",
    "train.isnull().values.sum()"
   ]
  },
  {
   "cell_type": "code",
   "execution_count": 306,
   "metadata": {
    "execution": {
     "iopub.execute_input": "2022-06-10T22:37:01.811513Z",
     "iopub.status.busy": "2022-06-10T22:37:01.810298Z",
     "iopub.status.idle": "2022-06-10T22:37:01.880513Z",
     "shell.execute_reply": "2022-06-10T22:37:01.878738Z",
     "shell.execute_reply.started": "2022-06-10T22:37:01.811459Z"
    }
   },
   "outputs": [],
   "source": [
    "#Showing the null values as per attributes for train\n",
    "null_columns=train.columns[train.isnull().any()]\n",
    "train[null_columns].isnull().sum()"
   ]
  },
  {
   "cell_type": "code",
   "execution_count": 307,
   "metadata": {
    "execution": {
     "iopub.execute_input": "2022-06-10T22:37:03.843253Z",
     "iopub.status.busy": "2022-06-10T22:37:03.842761Z",
     "iopub.status.idle": "2022-06-10T22:37:03.906804Z",
     "shell.execute_reply": "2022-06-10T22:37:03.906244Z",
     "shell.execute_reply.started": "2022-06-10T22:37:03.843210Z"
    }
   },
   "outputs": [],
   "source": [
    "#Showing the null values as per attributes for test\n",
    "null_columns=test.columns[test.isnull().any()]\n",
    "test[null_columns].isnull().sum()"
   ]
  },
  {
   "cell_type": "code",
   "execution_count": 308,
   "metadata": {
    "execution": {
     "iopub.execute_input": "2022-06-10T22:37:06.704559Z",
     "iopub.status.busy": "2022-06-10T22:37:06.703456Z",
     "iopub.status.idle": "2022-06-10T22:37:06.766352Z",
     "shell.execute_reply": "2022-06-10T22:37:06.765413Z",
     "shell.execute_reply.started": "2022-06-10T22:37:06.704509Z"
    }
   },
   "outputs": [],
   "source": [
    "print(train[train.isnull().any(axis=1)][null_columns].head())"
   ]
  },
  {
   "cell_type": "code",
   "execution_count": 309,
   "metadata": {
    "execution": {
     "iopub.execute_input": "2022-06-10T22:37:09.012716Z",
     "iopub.status.busy": "2022-06-10T22:37:09.012197Z",
     "iopub.status.idle": "2022-06-10T22:37:09.022578Z",
     "shell.execute_reply": "2022-06-10T22:37:09.021496Z",
     "shell.execute_reply.started": "2022-06-10T22:37:09.012676Z"
    }
   },
   "outputs": [],
   "source": [
    "#drop the columns which contain null values for train\n",
    "train.drop(columns=['s53','s54','s55','s56','s57','s59','s69'], axis=1, inplace=True)"
   ]
  },
  {
   "cell_type": "code",
   "execution_count": 310,
   "metadata": {
    "execution": {
     "iopub.execute_input": "2022-06-10T22:37:10.967819Z",
     "iopub.status.busy": "2022-06-10T22:37:10.967224Z",
     "iopub.status.idle": "2022-06-10T22:37:10.982368Z",
     "shell.execute_reply": "2022-06-10T22:37:10.981353Z",
     "shell.execute_reply.started": "2022-06-10T22:37:10.967787Z"
    }
   },
   "outputs": [],
   "source": [
    "#drop the columns which contain null values for test\n",
    "test.drop(columns=['s53','s54','s55','s56','s57','s59','s69'], axis=1, inplace=True)"
   ]
  },
  {
   "cell_type": "markdown",
   "metadata": {},
   "source": [
    "**Handling Unwanted Values**"
   ]
  },
  {
   "cell_type": "code",
   "execution_count": 311,
   "metadata": {
    "execution": {
     "iopub.execute_input": "2022-06-10T22:37:18.969819Z",
     "iopub.status.busy": "2022-06-10T22:37:18.969245Z",
     "iopub.status.idle": "2022-06-10T22:37:18.977866Z",
     "shell.execute_reply": "2022-06-10T22:37:18.976949Z",
     "shell.execute_reply.started": "2022-06-10T22:37:18.969792Z"
    }
   },
   "outputs": [],
   "source": [
    "#for train dataset\n",
    "train['s52'] = train['s52'].replace(['l','o'],['1','0'])"
   ]
  },
  {
   "cell_type": "code",
   "execution_count": 312,
   "metadata": {
    "execution": {
     "iopub.execute_input": "2022-06-10T22:37:20.247974Z",
     "iopub.status.busy": "2022-06-10T22:37:20.247375Z",
     "iopub.status.idle": "2022-06-10T22:37:20.275515Z",
     "shell.execute_reply": "2022-06-10T22:37:20.274229Z",
     "shell.execute_reply.started": "2022-06-10T22:37:20.247946Z"
    }
   },
   "outputs": [],
   "source": [
    "#for test dataset\n",
    "test['s52'] = test['s52'].replace(['l','o'],['1','0'])"
   ]
  },
  {
   "cell_type": "markdown",
   "metadata": {},
   "source": [
    "**Type conversion s52 column object to int**"
   ]
  },
  {
   "cell_type": "code",
   "execution_count": 313,
   "metadata": {
    "execution": {
     "iopub.execute_input": "2022-06-10T22:37:25.368357Z",
     "iopub.status.busy": "2022-06-10T22:37:25.367394Z",
     "iopub.status.idle": "2022-06-10T22:37:25.381327Z",
     "shell.execute_reply": "2022-06-10T22:37:25.380288Z",
     "shell.execute_reply.started": "2022-06-10T22:37:25.368311Z"
    }
   },
   "outputs": [],
   "source": [
    "#for train dataset\n",
    "train['s52'] = train['s52'].astype(int)"
   ]
  },
  {
   "cell_type": "code",
   "execution_count": 314,
   "metadata": {
    "execution": {
     "iopub.execute_input": "2022-06-10T22:37:28.411788Z",
     "iopub.status.busy": "2022-06-10T22:37:28.410664Z",
     "iopub.status.idle": "2022-06-10T22:37:28.432252Z",
     "shell.execute_reply": "2022-06-10T22:37:28.431298Z",
     "shell.execute_reply.started": "2022-06-10T22:37:28.411739Z"
    }
   },
   "outputs": [],
   "source": [
    "#for test dataset\n",
    "test['s52'] = test['s52'].astype(int)"
   ]
  },
  {
   "cell_type": "markdown",
   "metadata": {},
   "source": [
    "#### Separate categorical and numerical variables"
   ]
  },
  {
   "cell_type": "code",
   "execution_count": 315,
   "metadata": {
    "execution": {
     "iopub.execute_input": "2022-06-10T22:37:31.790732Z",
     "iopub.status.busy": "2022-06-10T22:37:31.790059Z",
     "iopub.status.idle": "2022-06-10T22:37:31.851000Z",
     "shell.execute_reply": "2022-06-10T22:37:31.849505Z",
     "shell.execute_reply.started": "2022-06-10T22:37:31.790691Z"
    }
   },
   "outputs": [],
   "source": [
    "cat_val = []\n",
    "num_val = []\n",
    "\n",
    "for column in train.columns:\n",
    "    if len(train[column].unique()) <= 28:\n",
    "        cat_val.append(column)\n",
    "    else:\n",
    "        num_val.append(column)"
   ]
  },
  {
   "cell_type": "code",
   "execution_count": 316,
   "metadata": {
    "execution": {
     "iopub.execute_input": "2022-06-10T22:37:34.850237Z",
     "iopub.status.busy": "2022-06-10T22:37:34.849294Z",
     "iopub.status.idle": "2022-06-10T22:37:34.856078Z",
     "shell.execute_reply": "2022-06-10T22:37:34.854909Z",
     "shell.execute_reply.started": "2022-06-10T22:37:34.850199Z"
    }
   },
   "outputs": [],
   "source": [
    "#Categorical Variables\n",
    "cat_val"
   ]
  },
  {
   "cell_type": "code",
   "execution_count": 317,
   "metadata": {
    "execution": {
     "iopub.execute_input": "2022-06-10T22:37:38.166709Z",
     "iopub.status.busy": "2022-06-10T22:37:38.166167Z",
     "iopub.status.idle": "2022-06-10T22:37:38.171861Z",
     "shell.execute_reply": "2022-06-10T22:37:38.171105Z",
     "shell.execute_reply.started": "2022-06-10T22:37:38.166681Z"
    }
   },
   "outputs": [],
   "source": [
    "#Numerical Variables\n",
    "num_val"
   ]
  },
  {
   "cell_type": "code",
   "execution_count": 349,
   "metadata": {
    "execution": {
     "iopub.execute_input": "2022-06-10T22:55:01.399324Z",
     "iopub.status.busy": "2022-06-10T22:55:01.398881Z",
     "iopub.status.idle": "2022-06-10T22:55:01.481067Z",
     "shell.execute_reply": "2022-06-10T22:55:01.479353Z",
     "shell.execute_reply.started": "2022-06-10T22:55:01.399290Z"
    }
   },
   "outputs": [],
   "source": [
    "test_cat_val = []\n",
    "test_num_val = []\n",
    "\n",
    "for column in test.columns:\n",
    "    if len(test[column].unique()) <= 28:\n",
    "        test_cat_val.append(column)\n",
    "    else:\n",
    "        test_num_val.append(column)"
   ]
  },
  {
   "cell_type": "markdown",
   "metadata": {
    "execution": {
     "iopub.execute_input": "2022-06-10T19:55:03.715240Z",
     "iopub.status.busy": "2022-06-10T19:55:03.714731Z",
     "iopub.status.idle": "2022-06-10T19:55:03.729592Z",
     "shell.execute_reply": "2022-06-10T19:55:03.728258Z",
     "shell.execute_reply.started": "2022-06-10T19:55:03.715205Z"
    }
   },
   "source": [
    "#### Mapping the gender, s11, s12, s58 columns.We have mapped M to 1 and F to 0 of the gender column and Y to 1 and N to 0 of the s11, s12 columns and B to 1 and A to 0 of the s58 column."
   ]
  },
  {
   "cell_type": "code",
   "execution_count": 318,
   "metadata": {
    "execution": {
     "iopub.execute_input": "2022-06-10T22:37:45.341406Z",
     "iopub.status.busy": "2022-06-10T22:37:45.340387Z",
     "iopub.status.idle": "2022-06-10T22:37:45.373757Z",
     "shell.execute_reply": "2022-06-10T22:37:45.372841Z",
     "shell.execute_reply.started": "2022-06-10T22:37:45.341354Z"
    }
   },
   "outputs": [],
   "source": [
    "#For train dataset\n",
    "train['gender'] = train['gender'].map({'M':1, 'F':0})\n",
    "train['s11'] = train['s11'].map({'Y':1, 'N':0})\n",
    "train['s12'] = train['s12'].map({'Y':1, 'N':0})\n",
    "train['s58'] = train['s58'].map({'B':1, 'A':0})"
   ]
  },
  {
   "cell_type": "code",
   "execution_count": 319,
   "metadata": {
    "execution": {
     "iopub.execute_input": "2022-06-10T22:37:46.605167Z",
     "iopub.status.busy": "2022-06-10T22:37:46.604683Z",
     "iopub.status.idle": "2022-06-10T22:37:46.654684Z",
     "shell.execute_reply": "2022-06-10T22:37:46.653448Z",
     "shell.execute_reply.started": "2022-06-10T22:37:46.605134Z"
    }
   },
   "outputs": [],
   "source": [
    "#For test dataset\n",
    "test['gender'] = test['gender'].map({'M':1, 'F':0})\n",
    "test['s11'] = test['s11'].map({'Y':1, 'N':0})\n",
    "test['s12'] = test['s12'].map({'Y':1, 'N':0})\n",
    "test['s58'] = test['s58'].map({'B':1, 'A':0})"
   ]
  },
  {
   "cell_type": "markdown",
   "metadata": {},
   "source": [
    "#### Level Encoding"
   ]
  },
  {
   "cell_type": "code",
   "execution_count": 320,
   "metadata": {
    "execution": {
     "iopub.execute_input": "2022-06-10T22:37:53.112003Z",
     "iopub.status.busy": "2022-06-10T22:37:53.111495Z",
     "iopub.status.idle": "2022-06-10T22:37:53.155835Z",
     "shell.execute_reply": "2022-06-10T22:37:53.155028Z",
     "shell.execute_reply.started": "2022-06-10T22:37:53.111962Z"
    }
   },
   "outputs": [],
   "source": [
    "#for train dataset\n",
    "from sklearn.preprocessing import LabelEncoder\n",
    "cols=['s16','s17','s18','s70','s71']\n",
    "le=LabelEncoder()\n",
    "for col in cols:\n",
    "    train[col]=le.fit_transform(train[col])"
   ]
  },
  {
   "cell_type": "code",
   "execution_count": 336,
   "metadata": {
    "execution": {
     "iopub.execute_input": "2022-06-10T22:43:05.943268Z",
     "iopub.status.busy": "2022-06-10T22:43:05.942791Z",
     "iopub.status.idle": "2022-06-10T22:43:06.151924Z",
     "shell.execute_reply": "2022-06-10T22:43:06.150906Z",
     "shell.execute_reply.started": "2022-06-10T22:43:05.943231Z"
    }
   },
   "outputs": [],
   "source": [
    "#for test dataset\n",
    "cols=['s16','s17','s18','s70','s71']\n",
    "le=LabelEncoder()\n",
    "for col in cols:\n",
    "    test[col]=le.fit_transform(test[col])"
   ]
  },
  {
   "cell_type": "markdown",
   "metadata": {},
   "source": [
    "#### Check the correlation"
   ]
  },
  {
   "cell_type": "code",
   "execution_count": 322,
   "metadata": {
    "execution": {
     "iopub.execute_input": "2022-06-10T22:38:02.605614Z",
     "iopub.status.busy": "2022-06-10T22:38:02.605035Z",
     "iopub.status.idle": "2022-06-10T22:38:02.684448Z",
     "shell.execute_reply": "2022-06-10T22:38:02.683418Z",
     "shell.execute_reply.started": "2022-06-10T22:38:02.605580Z"
    }
   },
   "outputs": [],
   "source": [
    "train.corr()"
   ]
  },
  {
   "cell_type": "markdown",
   "metadata": {
    "execution": {
     "iopub.execute_input": "2022-06-10T22:38:08.279211Z",
     "iopub.status.busy": "2022-06-10T22:38:08.278624Z",
     "iopub.status.idle": "2022-06-10T22:38:08.282783Z",
     "shell.execute_reply": "2022-06-10T22:38:08.281843Z",
     "shell.execute_reply.started": "2022-06-10T22:38:08.279177Z"
    }
   },
   "source": [
    "#### Heatmap"
   ]
  },
  {
   "cell_type": "code",
   "execution_count": 324,
   "metadata": {
    "execution": {
     "iopub.execute_input": "2022-06-10T22:38:17.496443Z",
     "iopub.status.busy": "2022-06-10T22:38:17.495998Z",
     "iopub.status.idle": "2022-06-10T22:38:19.959999Z",
     "shell.execute_reply": "2022-06-10T22:38:19.959060Z",
     "shell.execute_reply.started": "2022-06-10T22:38:17.496401Z"
    }
   },
   "outputs": [],
   "source": [
    "correlation = train.corr()\n",
    "plt.figure(figsize=(16, 8))\n",
    "sns.heatmap(correlation, annot=True, linewidths=0, vmin=-1, cmap=\"RdBu_r\")\n",
    "plt.show()"
   ]
  },
  {
   "cell_type": "markdown",
   "metadata": {},
   "source": [
    "#### Box Plot of Full Dataset"
   ]
  },
  {
   "cell_type": "code",
   "execution_count": 325,
   "metadata": {
    "execution": {
     "iopub.execute_input": "2022-06-10T22:38:27.434979Z",
     "iopub.status.busy": "2022-06-10T22:38:27.434569Z",
     "iopub.status.idle": "2022-06-10T22:38:27.997359Z",
     "shell.execute_reply": "2022-06-10T22:38:27.996551Z",
     "shell.execute_reply.started": "2022-06-10T22:38:27.434950Z"
    }
   },
   "outputs": [],
   "source": [
    "plt.figure(figsize=(16, 6))\n",
    "ax = sns.boxplot(data=train, orient=\"h\", palette=\"Set2\")"
   ]
  },
  {
   "cell_type": "code",
   "execution_count": 326,
   "metadata": {
    "execution": {
     "iopub.execute_input": "2022-06-10T22:38:32.917868Z",
     "iopub.status.busy": "2022-06-10T22:38:32.917371Z",
     "iopub.status.idle": "2022-06-10T22:38:33.049328Z",
     "shell.execute_reply": "2022-06-10T22:38:33.048686Z",
     "shell.execute_reply.started": "2022-06-10T22:38:32.917822Z"
    }
   },
   "outputs": [],
   "source": [
    "ax = sns.boxplot(x=train[\"n14\"])"
   ]
  },
  {
   "cell_type": "markdown",
   "metadata": {},
   "source": [
    "#### Histogram"
   ]
  },
  {
   "cell_type": "code",
   "execution_count": 175,
   "metadata": {
    "execution": {
     "iopub.execute_input": "2022-06-10T20:39:34.111519Z",
     "iopub.status.busy": "2022-06-10T20:39:34.110650Z",
     "iopub.status.idle": "2022-06-10T20:39:37.655189Z",
     "shell.execute_reply": "2022-06-10T20:39:37.654208Z",
     "shell.execute_reply.started": "2022-06-10T20:39:34.111483Z"
    }
   },
   "outputs": [],
   "source": [
    "train.hist()"
   ]
  },
  {
   "cell_type": "markdown",
   "metadata": {},
   "source": [
    "#### pairplot"
   ]
  },
  {
   "cell_type": "code",
   "execution_count": 176,
   "metadata": {
    "execution": {
     "iopub.execute_input": "2022-06-10T20:40:23.071702Z",
     "iopub.status.busy": "2022-06-10T20:40:23.070693Z",
     "iopub.status.idle": "2022-06-10T20:45:35.728149Z",
     "shell.execute_reply": "2022-06-10T20:45:35.726455Z",
     "shell.execute_reply.started": "2022-06-10T20:40:23.071646Z"
    }
   },
   "outputs": [],
   "source": [
    "sns.pairplot(train)"
   ]
  },
  {
   "cell_type": "markdown",
   "metadata": {},
   "source": [
    "### Model Fit Using Logistic Regression and Support vector mechine Classifier \n",
    "#### Set feature and target Variables"
   ]
  },
  {
   "cell_type": "code",
   "execution_count": 352,
   "metadata": {
    "execution": {
     "iopub.execute_input": "2022-06-10T23:01:24.582810Z",
     "iopub.status.busy": "2022-06-10T23:01:24.581892Z",
     "iopub.status.idle": "2022-06-10T23:01:24.592499Z",
     "shell.execute_reply": "2022-06-10T23:01:24.591463Z",
     "shell.execute_reply.started": "2022-06-10T23:01:24.582738Z"
    }
   },
   "outputs": [],
   "source": [
    "X = train[['gender','s11','s12','s13','s16','s17','s18','s48','s52','s58','s70','s71','n1','n2','n3','n4','n5','n6','n7','n8','n9','n10','n11','n12','n13','n14','n15']]\n",
    "#X=train.drop(columns=['id','label'],axis=1)\n",
    "y = train['label']"
   ]
  },
  {
   "cell_type": "code",
   "execution_count": 353,
   "metadata": {
    "execution": {
     "iopub.execute_input": "2022-06-10T23:01:28.077164Z",
     "iopub.status.busy": "2022-06-10T23:01:28.076649Z",
     "iopub.status.idle": "2022-06-10T23:01:28.096225Z",
     "shell.execute_reply": "2022-06-10T23:01:28.094849Z",
     "shell.execute_reply.started": "2022-06-10T23:01:28.077117Z"
    }
   },
   "outputs": [],
   "source": [
    "X_train, X_test, y_train, y_test = train_test_split(X, y, test_size=0.25, random_state=5)"
   ]
  },
  {
   "cell_type": "markdown",
   "metadata": {},
   "source": [
    "### Create function for printing prediction scores for both train and test dataset"
   ]
  },
  {
   "cell_type": "code",
   "execution_count": 354,
   "metadata": {
    "execution": {
     "iopub.execute_input": "2022-06-10T23:01:31.631522Z",
     "iopub.status.busy": "2022-06-10T23:01:31.631051Z",
     "iopub.status.idle": "2022-06-10T23:01:31.640477Z",
     "shell.execute_reply": "2022-06-10T23:01:31.639213Z",
     "shell.execute_reply.started": "2022-06-10T23:01:31.631485Z"
    }
   },
   "outputs": [],
   "source": [
    "from sklearn.metrics import accuracy_score, confusion_matrix, classification_report\n",
    "\n",
    "def print_score(clf, X_train, y_train, X_test, y_test, train=True):\n",
    "    if train:\n",
    "        pred = clf.predict(X_train)\n",
    "        clf_report = pd.DataFrame(classification_report(y_train, pred, output_dict=True))\n",
    "        print(\"Train Result:\\n================================================\")\n",
    "        print(f\"Accuracy Score: {accuracy_score(y_train, pred) * 100:.2f}%\")\n",
    "        print(\"_____________________________________________\")\n",
    "        print(f\"CLASSIFICATION REPORT:\\n{clf_report}\")\n",
    "        print(\"_____________________________________________\")\n",
    "        print(f\"Confusion Matrix: \\n {confusion_matrix(y_train, pred)}\\n\")\n",
    "        \n",
    "    elif train==False:\n",
    "        pred = clf.predict(X_test)\n",
    "        clf_report = pd.DataFrame(classification_report(y_test, pred, output_dict=True))\n",
    "        print(\"Test Result:\\n================================================\")        \n",
    "        print(f\"Accuracy Score: {accuracy_score(y_test, pred) * 100:.2f}%\")\n",
    "        print(\"_____________________________________________\")\n",
    "        print(f\"CLASSIFICATION REPORT:\\n{clf_report}\")\n",
    "        print(\"_____________________________________________\")\n",
    "        print(f\"Confusion Matrix: \\n {confusion_matrix(y_test, pred)}\\n\")"
   ]
  },
  {
   "cell_type": "markdown",
   "metadata": {},
   "source": [
    "### Model fit and Predict with Logistic Regression"
   ]
  },
  {
   "cell_type": "code",
   "execution_count": 355,
   "metadata": {
    "execution": {
     "iopub.execute_input": "2022-06-10T23:01:36.012707Z",
     "iopub.status.busy": "2022-06-10T23:01:36.011908Z",
     "iopub.status.idle": "2022-06-10T23:01:36.620703Z",
     "shell.execute_reply": "2022-06-10T23:01:36.619733Z",
     "shell.execute_reply.started": "2022-06-10T23:01:36.012665Z"
    }
   },
   "outputs": [],
   "source": [
    "from sklearn.linear_model import LogisticRegression\n",
    "\n",
    "lr_clf = LogisticRegression(solver='liblinear')\n",
    "lr_clf.fit(X_train, y_train)\n",
    "\n",
    "print_score(lr_clf, X_train, y_train, X_test, y_test, train=True)\n",
    "print_score(lr_clf, X_train, y_train, X_test, y_test, train=False)\n",
    "y_train_pred= lr_clf.predict(X_train)\n",
    "y_test_pred = lr_clf.predict(X_test)"
   ]
  },
  {
   "cell_type": "markdown",
   "metadata": {},
   "source": [
    "### Model fit and predict with SVM"
   ]
  },
  {
   "cell_type": "code",
   "execution_count": 367,
   "metadata": {
    "execution": {
     "iopub.execute_input": "2022-06-10T23:28:16.011253Z",
     "iopub.status.busy": "2022-06-10T23:28:16.010846Z",
     "iopub.status.idle": "2022-06-10T23:32:36.350422Z",
     "shell.execute_reply": "2022-06-10T23:32:36.349380Z",
     "shell.execute_reply.started": "2022-06-10T23:28:16.011227Z"
    }
   },
   "outputs": [],
   "source": [
    "from sklearn.svm import SVC\n",
    "\n",
    "\n",
    "svm_clf = SVC(kernel='rbf', gamma=0.1, C=1.0, probability=True)\n",
    "svm_clf.fit(X_train, y_train)\n",
    "\n",
    "print_score(svm_clf, X_train, y_train, X_test, y_test, train=True)\n",
    "print_score(svm_clf, X_train, y_train, X_test, y_test, train=False)\n",
    "\n",
    "y_train_pred= svm_clf.predict(X_train)\n",
    "y_test_pred = svm_clf.predict(X_test)"
   ]
  },
  {
   "cell_type": "markdown",
   "metadata": {},
   "source": [
    "## AUC ROC Curve and Calculate AUC"
   ]
  },
  {
   "cell_type": "code",
   "execution_count": 373,
   "metadata": {
    "execution": {
     "iopub.execute_input": "2022-06-10T23:39:35.912214Z",
     "iopub.status.busy": "2022-06-10T23:39:35.911662Z",
     "iopub.status.idle": "2022-06-10T23:39:45.821611Z",
     "shell.execute_reply": "2022-06-10T23:39:45.820348Z",
     "shell.execute_reply.started": "2022-06-10T23:39:35.912168Z"
    }
   },
   "outputs": [],
   "source": [
    "y_pred_proba = svm_clf.predict_proba(X_test)[::,1]\n",
    "fpr, tpr, _ = metrics.roc_curve(y_test,  y_pred_proba)\n",
    "auc = metrics.roc_auc_score(y_test, y_pred_proba)\n",
    "\n",
    "#create ROC curve\n",
    "plt.plot(fpr,tpr,label=\"AUC=\"+str(auc))\n",
    "plt.ylabel('True Positive Rate')\n",
    "plt.xlabel('False Positive Rate')\n",
    "plt.legend(loc=4)\n",
    "plt.show()"
   ]
  },
  {
   "cell_type": "markdown",
   "metadata": {},
   "source": [
    "### Predicting the label column for test dataset"
   ]
  },
  {
   "cell_type": "code",
   "execution_count": 357,
   "metadata": {
    "execution": {
     "iopub.execute_input": "2022-06-10T23:02:44.689972Z",
     "iopub.status.busy": "2022-06-10T23:02:44.689512Z",
     "iopub.status.idle": "2022-06-10T23:02:44.697475Z",
     "shell.execute_reply": "2022-06-10T23:02:44.696502Z",
     "shell.execute_reply.started": "2022-06-10T23:02:44.689940Z"
    }
   },
   "outputs": [],
   "source": [
    "df=test.copy()"
   ]
  },
  {
   "cell_type": "code",
   "execution_count": 358,
   "metadata": {
    "execution": {
     "iopub.execute_input": "2022-06-10T23:02:44.699294Z",
     "iopub.status.busy": "2022-06-10T23:02:44.698595Z",
     "iopub.status.idle": "2022-06-10T23:02:44.713987Z",
     "shell.execute_reply": "2022-06-10T23:02:44.712928Z",
     "shell.execute_reply.started": "2022-06-10T23:02:44.699267Z"
    }
   },
   "outputs": [],
   "source": [
    "df = df.drop('id',axis=1)"
   ]
  },
  {
   "cell_type": "code",
   "execution_count": 360,
   "metadata": {
    "execution": {
     "iopub.execute_input": "2022-06-10T23:14:09.203268Z",
     "iopub.status.busy": "2022-06-10T23:14:09.201286Z",
     "iopub.status.idle": "2022-06-10T23:15:35.527673Z",
     "shell.execute_reply": "2022-06-10T23:15:35.526385Z",
     "shell.execute_reply.started": "2022-06-10T23:14:09.203229Z"
    }
   },
   "outputs": [],
   "source": [
    "test_svm=svm_clf.predict(df)\n",
    "test_svm"
   ]
  },
  {
   "cell_type": "markdown",
   "metadata": {},
   "source": [
    "#### id and predicted label for the submission."
   ]
  },
  {
   "cell_type": "code",
   "execution_count": 361,
   "metadata": {
    "execution": {
     "iopub.execute_input": "2022-06-10T23:16:37.278620Z",
     "iopub.status.busy": "2022-06-10T23:16:37.277949Z",
     "iopub.status.idle": "2022-06-10T23:16:37.288153Z",
     "shell.execute_reply": "2022-06-10T23:16:37.287307Z",
     "shell.execute_reply.started": "2022-06-10T23:16:37.278572Z"
    }
   },
   "outputs": [],
   "source": [
    "submission = pd.DataFrame(test['id'],columns=['id'])"
   ]
  },
  {
   "cell_type": "code",
   "execution_count": 362,
   "metadata": {
    "execution": {
     "iopub.execute_input": "2022-06-10T23:17:19.829516Z",
     "iopub.status.busy": "2022-06-10T23:17:19.829044Z",
     "iopub.status.idle": "2022-06-10T23:17:19.835520Z",
     "shell.execute_reply": "2022-06-10T23:17:19.834400Z",
     "shell.execute_reply.started": "2022-06-10T23:17:19.829473Z"
    }
   },
   "outputs": [],
   "source": [
    "submission['label'] = test_svm"
   ]
  },
  {
   "cell_type": "code",
   "execution_count": 363,
   "metadata": {
    "execution": {
     "iopub.execute_input": "2022-06-10T23:17:43.647998Z",
     "iopub.status.busy": "2022-06-10T23:17:43.647301Z",
     "iopub.status.idle": "2022-06-10T23:17:43.667201Z",
     "shell.execute_reply": "2022-06-10T23:17:43.665937Z",
     "shell.execute_reply.started": "2022-06-10T23:17:43.647951Z"
    }
   },
   "outputs": [],
   "source": [
    "submission.sample(10)"
   ]
  },
  {
   "cell_type": "code",
   "execution_count": 374,
   "metadata": {
    "execution": {
     "iopub.execute_input": "2022-06-10T23:49:35.338204Z",
     "iopub.status.busy": "2022-06-10T23:49:35.337750Z",
     "iopub.status.idle": "2022-06-10T23:49:35.554383Z",
     "shell.execute_reply": "2022-06-10T23:49:35.553099Z",
     "shell.execute_reply.started": "2022-06-10T23:49:35.338174Z"
    }
   },
   "outputs": [],
   "source": [
    "submission.to_csv('submission_Anonymous Five_2u27pl.csv')"
   ]
  },
  {
   "cell_type": "code",
   "execution_count": null,
   "metadata": {},
   "outputs": [],
   "source": []
  },
  {
   "cell_type": "code",
   "execution_count": null,
   "metadata": {},
   "outputs": [],
   "source": []
  }
 ],
 "metadata": {
  "kernelspec": {
   "display_name": "Python 3",
   "language": "python",
   "name": "python3"
  },
  "language_info": {
   "codemirror_mode": {
    "name": "ipython",
    "version": 3
   },
   "file_extension": ".py",
   "mimetype": "text/x-python",
   "name": "python",
   "nbconvert_exporter": "python",
   "pygments_lexer": "ipython3",
   "version": "3.8.8"
  }
 },
 "nbformat": 4,
 "nbformat_minor": 4
}
