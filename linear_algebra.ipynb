{
 "cells": [
  {
   "cell_type": "markdown",
   "id": "d0e73a1c",
   "metadata": {},
   "source": [
    "### Linear Algebra"
   ]
  },
  {
   "cell_type": "code",
   "execution_count": 1,
   "id": "22521cbe",
   "metadata": {},
   "outputs": [],
   "source": [
    "import numpy as np\n",
    "matrix = np.array([[1,2,3],[4,5,6]])\n",
    "vector = np.array([7,9,6])"
   ]
  },
  {
   "cell_type": "code",
   "execution_count": 2,
   "id": "d5fff222",
   "metadata": {},
   "outputs": [
    {
     "data": {
      "text/plain": [
       "array([[1, 2, 3],\n",
       "       [4, 5, 6]])"
      ]
     },
     "execution_count": 2,
     "metadata": {},
     "output_type": "execute_result"
    }
   ],
   "source": [
    "matrix"
   ]
  },
  {
   "cell_type": "code",
   "execution_count": 3,
   "id": "f2caeed3",
   "metadata": {},
   "outputs": [
    {
     "data": {
      "text/plain": [
       "array([7, 9, 6])"
      ]
     },
     "execution_count": 3,
     "metadata": {},
     "output_type": "execute_result"
    }
   ],
   "source": [
    "vector"
   ]
  },
  {
   "cell_type": "code",
   "execution_count": 4,
   "id": "0b94f0ba",
   "metadata": {},
   "outputs": [
    {
     "data": {
      "text/plain": [
       "(2, 3)"
      ]
     },
     "execution_count": 4,
     "metadata": {},
     "output_type": "execute_result"
    }
   ],
   "source": [
    "matrix.shape"
   ]
  },
  {
   "cell_type": "code",
   "execution_count": 5,
   "id": "2f89415d",
   "metadata": {},
   "outputs": [
    {
     "data": {
      "text/plain": [
       "(3,)"
      ]
     },
     "execution_count": 5,
     "metadata": {},
     "output_type": "execute_result"
    }
   ],
   "source": [
    "vector.shape"
   ]
  },
  {
   "cell_type": "markdown",
   "id": "887cdb9f",
   "metadata": {},
   "source": [
    "#### Matrix and Scalar Operation"
   ]
  },
  {
   "cell_type": "markdown",
   "id": "80d67c27",
   "metadata": {},
   "source": [
    "#### Addition"
   ]
  },
  {
   "cell_type": "code",
   "execution_count": 6,
   "id": "18e40fd2",
   "metadata": {},
   "outputs": [
    {
     "data": {
      "text/plain": [
       "array([[4, 5, 6],\n",
       "       [7, 8, 9]])"
      ]
     },
     "execution_count": 6,
     "metadata": {},
     "output_type": "execute_result"
    }
   ],
   "source": [
    "matrix + 3"
   ]
  },
  {
   "cell_type": "markdown",
   "id": "c64dbc9a",
   "metadata": {},
   "source": [
    "#### Subtraction"
   ]
  },
  {
   "cell_type": "code",
   "execution_count": 10,
   "id": "69acc562",
   "metadata": {},
   "outputs": [
    {
     "data": {
      "text/plain": [
       "array([[-2, -1,  0],\n",
       "       [ 1,  2,  3]])"
      ]
     },
     "execution_count": 10,
     "metadata": {},
     "output_type": "execute_result"
    }
   ],
   "source": [
    "matrix - 3"
   ]
  },
  {
   "cell_type": "markdown",
   "id": "20999b47",
   "metadata": {},
   "source": [
    "#### Multiplication\n"
   ]
  },
  {
   "cell_type": "code",
   "execution_count": 11,
   "id": "57eeb577",
   "metadata": {},
   "outputs": [
    {
     "data": {
      "text/plain": [
       "array([[ 3,  6,  9],\n",
       "       [12, 15, 18]])"
      ]
     },
     "execution_count": 11,
     "metadata": {},
     "output_type": "execute_result"
    }
   ],
   "source": [
    "matrix * 3"
   ]
  },
  {
   "cell_type": "markdown",
   "id": "24639407",
   "metadata": {},
   "source": [
    "#### Division"
   ]
  },
  {
   "cell_type": "code",
   "execution_count": 12,
   "id": "ea279b28",
   "metadata": {},
   "outputs": [
    {
     "data": {
      "text/plain": [
       "array([[0.33333333, 0.66666667, 1.        ],\n",
       "       [1.33333333, 1.66666667, 2.        ]])"
      ]
     },
     "execution_count": 12,
     "metadata": {},
     "output_type": "execute_result"
    }
   ],
   "source": [
    "matrix / 3"
   ]
  },
  {
   "cell_type": "markdown",
   "id": "47057543",
   "metadata": {},
   "source": [
    "### Matrix and Matrix General Addition and Subtraction"
   ]
  },
  {
   "cell_type": "markdown",
   "id": "8cf63bc2",
   "metadata": {},
   "source": [
    "#### Adition"
   ]
  },
  {
   "cell_type": "code",
   "execution_count": 19,
   "id": "2125ff78",
   "metadata": {},
   "outputs": [
    {
     "name": "stdout",
     "output_type": "stream",
     "text": [
      "New Matrix = \n",
      " [[2 4]\n",
      " [6 8]]\n"
     ]
    }
   ],
   "source": [
    "matrix1 = np.array([\n",
    "                   [1,2],\n",
    "                   [3,4]\n",
    "                  ])\n",
    "matrix2 = np.array([\n",
    "                   [1,2],\n",
    "                   [3,4] \n",
    "                  ])\n",
    "print(\"New Matrix = \\n\", matrix1 + matrix2)"
   ]
  },
  {
   "cell_type": "markdown",
   "id": "7184bad6",
   "metadata": {},
   "source": [
    "#### Multiplication"
   ]
  },
  {
   "cell_type": "code",
   "execution_count": 24,
   "id": "f1c77ba1",
   "metadata": {},
   "outputs": [
    {
     "name": "stdout",
     "output_type": "stream",
     "text": [
      "New matrix = \n",
      " [[ 6 12]\n",
      " [10 18]]\n"
     ]
    }
   ],
   "source": [
    "matrix1 = np.array([\n",
    "    [2,3],\n",
    "    [2,3]\n",
    "])\n",
    "\n",
    "matrix2 = np.array([\n",
    "    [3,4],\n",
    "    [5,6]\n",
    "])\n",
    "\n",
    "print(\"New matrix = \\n\", matrix1 * matrix2)"
   ]
  },
  {
   "cell_type": "markdown",
   "id": "9dfb1175",
   "metadata": {},
   "source": [
    "#### Matrix and Matrix Dot Multiplication"
   ]
  },
  {
   "cell_type": "code",
   "execution_count": 25,
   "id": "4aaec26d",
   "metadata": {},
   "outputs": [
    {
     "data": {
      "text/plain": [
       "array([[ 58,  64],\n",
       "       [139, 154]])"
      ]
     },
     "execution_count": 25,
     "metadata": {},
     "output_type": "execute_result"
    }
   ],
   "source": [
    "matrix1 = np.array([\n",
    "    [1, 2, 3],\n",
    "    [4, 5, 6]\n",
    "])\n",
    "matrix2 = np.array([\n",
    "    [7, 8],\n",
    "    [9, 10],\n",
    "    [11, 12]\n",
    "])\n",
    "\n",
    "matrix1.dot(matrix2)"
   ]
  },
  {
   "cell_type": "markdown",
   "id": "1c93d87b",
   "metadata": {},
   "source": [
    "#### Transpose Matrix"
   ]
  },
  {
   "cell_type": "code",
   "execution_count": 28,
   "id": "79b58a0b",
   "metadata": {},
   "outputs": [
    {
     "data": {
      "text/plain": [
       "array([[1, 3],\n",
       "       [2, 5],\n",
       "       [0, 9]])"
      ]
     },
     "execution_count": 28,
     "metadata": {},
     "output_type": "execute_result"
    }
   ],
   "source": [
    "matrix1 = np.array([\n",
    "    [1, 2, 0],\n",
    "    [3, 5, 9]\n",
    "])\n",
    "\n",
    "matrix1.T"
   ]
  },
  {
   "cell_type": "markdown",
   "id": "e2200e14",
   "metadata": {},
   "source": [
    "#### Identity Matrix"
   ]
  },
  {
   "cell_type": "code",
   "execution_count": 27,
   "id": "02812721",
   "metadata": {},
   "outputs": [
    {
     "data": {
      "text/plain": [
       "array([[1., 0., 0.],\n",
       "       [0., 1., 0.],\n",
       "       [0., 0., 1.]])"
      ]
     },
     "execution_count": 27,
     "metadata": {},
     "output_type": "execute_result"
    }
   ],
   "source": [
    "I = np.identity(3)\n",
    "I"
   ]
  },
  {
   "cell_type": "markdown",
   "id": "c1326ff3",
   "metadata": {},
   "source": [
    "#### Inverse Matrix"
   ]
  },
  {
   "cell_type": "code",
   "execution_count": 29,
   "id": "51466d24",
   "metadata": {},
   "outputs": [
    {
     "name": "stdout",
     "output_type": "stream",
     "text": [
      "[[ 0.00833333  0.11666667  0.075     ]\n",
      " [ 0.21666667  0.03333333 -0.05      ]\n",
      " [ 0.18611111 -0.06111111  0.00833333]]\n"
     ]
    }
   ],
   "source": [
    "matrix1 = np.array([\n",
    "    [1, 2, 3],\n",
    "    [4, 5, -6],\n",
    "    [7, -8, 9]\n",
    "])\n",
    "\n",
    "print(np.linalg.inv(matrix1))"
   ]
  },
  {
   "cell_type": "code",
   "execution_count": null,
   "id": "fda0b76a",
   "metadata": {},
   "outputs": [],
   "source": []
  },
  {
   "cell_type": "code",
   "execution_count": null,
   "id": "942600fe",
   "metadata": {},
   "outputs": [],
   "source": []
  },
  {
   "cell_type": "code",
   "execution_count": null,
   "id": "9f6819bb",
   "metadata": {},
   "outputs": [],
   "source": []
  },
  {
   "cell_type": "code",
   "execution_count": null,
   "id": "a2fc678d",
   "metadata": {},
   "outputs": [],
   "source": []
  },
  {
   "cell_type": "code",
   "execution_count": null,
   "id": "c337b0bc",
   "metadata": {},
   "outputs": [],
   "source": []
  }
 ],
 "metadata": {
  "kernelspec": {
   "display_name": "Python 3",
   "language": "python",
   "name": "python3"
  },
  "language_info": {
   "codemirror_mode": {
    "name": "ipython",
    "version": 3
   },
   "file_extension": ".py",
   "mimetype": "text/x-python",
   "name": "python",
   "nbconvert_exporter": "python",
   "pygments_lexer": "ipython3",
   "version": "3.8.8"
  }
 },
 "nbformat": 4,
 "nbformat_minor": 5
}
